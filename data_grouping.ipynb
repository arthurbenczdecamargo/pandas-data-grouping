{
 "cells": [
  {
   "cell_type": "code",
   "execution_count": 51,
   "metadata": {},
   "outputs": [],
   "source": [
    "import pandas as pd"
   ]
  },
  {
   "cell_type": "code",
   "execution_count": null,
   "metadata": {},
   "outputs": [],
   "source": [
    "# LOAD EXCEL FILE"
   ]
  },
  {
   "cell_type": "code",
   "execution_count": 52,
   "metadata": {},
   "outputs": [
    {
     "name": "stderr",
     "output_type": "stream",
     "text": [
      "c:\\Users\\55479\\anaconda3\\Lib\\site-packages\\openpyxl\\worksheet\\_read_only.py:81: UserWarning: Unknown extension is not supported and will be removed\n",
      "  for idx, row in parser.parse():\n"
     ]
    }
   ],
   "source": [
    "seeg_data = pd.read_excel(\"SEEG_data.xlsx\", sheet_name=\"GEE Estados\")"
   ]
  },
  {
   "cell_type": "code",
   "execution_count": 53,
   "metadata": {},
   "outputs": [
    {
     "data": {
      "text/html": [
       "<div>\n",
       "<style scoped>\n",
       "    .dataframe tbody tr th:only-of-type {\n",
       "        vertical-align: middle;\n",
       "    }\n",
       "\n",
       "    .dataframe tbody tr th {\n",
       "        vertical-align: top;\n",
       "    }\n",
       "\n",
       "    .dataframe thead th {\n",
       "        text-align: right;\n",
       "    }\n",
       "</style>\n",
       "<table border=\"1\" class=\"dataframe\">\n",
       "  <thead>\n",
       "    <tr style=\"text-align: right;\">\n",
       "      <th></th>\n",
       "      <th>Nível 1 - Setor</th>\n",
       "      <th>Nível 2</th>\n",
       "      <th>Nível 3</th>\n",
       "      <th>Nível 4</th>\n",
       "      <th>Nível 5</th>\n",
       "      <th>Nível 6</th>\n",
       "      <th>Emissão / Remoção / Bunker</th>\n",
       "      <th>Gás</th>\n",
       "      <th>Estado</th>\n",
       "      <th>Atividade Econômica</th>\n",
       "      <th>...</th>\n",
       "      <th>2012</th>\n",
       "      <th>2013</th>\n",
       "      <th>2014</th>\n",
       "      <th>2015</th>\n",
       "      <th>2016</th>\n",
       "      <th>2017</th>\n",
       "      <th>2018</th>\n",
       "      <th>2019</th>\n",
       "      <th>2020</th>\n",
       "      <th>2021</th>\n",
       "    </tr>\n",
       "  </thead>\n",
       "  <tbody>\n",
       "    <tr>\n",
       "      <th>0</th>\n",
       "      <td>Processos Industriais</td>\n",
       "      <td>Indústria Química</td>\n",
       "      <td>Produção de ABS</td>\n",
       "      <td>NaN</td>\n",
       "      <td>NaN</td>\n",
       "      <td>NaN</td>\n",
       "      <td>Emissão</td>\n",
       "      <td>COVNM (t)</td>\n",
       "      <td>SP</td>\n",
       "      <td>OUTRA_IND</td>\n",
       "      <td>...</td>\n",
       "      <td>897.600000</td>\n",
       "      <td>897.600000</td>\n",
       "      <td>897.600000</td>\n",
       "      <td>897.600000</td>\n",
       "      <td>897.600000</td>\n",
       "      <td>897.600000</td>\n",
       "      <td>897.600000</td>\n",
       "      <td>897.600000</td>\n",
       "      <td>897.600000</td>\n",
       "      <td>897.600000</td>\n",
       "    </tr>\n",
       "    <tr>\n",
       "      <th>1</th>\n",
       "      <td>Processos Industriais</td>\n",
       "      <td>Indústria Química</td>\n",
       "      <td>Produção de Ácido Adípico</td>\n",
       "      <td>NaN</td>\n",
       "      <td>NaN</td>\n",
       "      <td>NaN</td>\n",
       "      <td>Emissão</td>\n",
       "      <td>N2O (t)</td>\n",
       "      <td>SP</td>\n",
       "      <td>OUTRA_IND</td>\n",
       "      <td>...</td>\n",
       "      <td>130.000000</td>\n",
       "      <td>130.000000</td>\n",
       "      <td>130.000000</td>\n",
       "      <td>130.000000</td>\n",
       "      <td>130.000000</td>\n",
       "      <td>130.000000</td>\n",
       "      <td>130.000000</td>\n",
       "      <td>130.000000</td>\n",
       "      <td>130.000000</td>\n",
       "      <td>130.000000</td>\n",
       "    </tr>\n",
       "    <tr>\n",
       "      <th>2</th>\n",
       "      <td>Processos Industriais</td>\n",
       "      <td>Indústria Química</td>\n",
       "      <td>Produção de Ácido Adípico</td>\n",
       "      <td>NaN</td>\n",
       "      <td>NaN</td>\n",
       "      <td>NaN</td>\n",
       "      <td>Emissão</td>\n",
       "      <td>CO (t)</td>\n",
       "      <td>SP</td>\n",
       "      <td>OUTRA_IND</td>\n",
       "      <td>...</td>\n",
       "      <td>1380.576000</td>\n",
       "      <td>1380.576000</td>\n",
       "      <td>1380.576000</td>\n",
       "      <td>1380.576000</td>\n",
       "      <td>1380.576000</td>\n",
       "      <td>1380.576000</td>\n",
       "      <td>1380.576000</td>\n",
       "      <td>1380.576000</td>\n",
       "      <td>1380.576000</td>\n",
       "      <td>1380.576000</td>\n",
       "    </tr>\n",
       "    <tr>\n",
       "      <th>3</th>\n",
       "      <td>Processos Industriais</td>\n",
       "      <td>Indústria Química</td>\n",
       "      <td>Produção de Ácido Adípico</td>\n",
       "      <td>NaN</td>\n",
       "      <td>NaN</td>\n",
       "      <td>NaN</td>\n",
       "      <td>Emissão</td>\n",
       "      <td>NOx (t)</td>\n",
       "      <td>SP</td>\n",
       "      <td>OUTRA_IND</td>\n",
       "      <td>...</td>\n",
       "      <td>431.430000</td>\n",
       "      <td>431.430000</td>\n",
       "      <td>431.430000</td>\n",
       "      <td>431.430000</td>\n",
       "      <td>431.430000</td>\n",
       "      <td>431.430000</td>\n",
       "      <td>431.430000</td>\n",
       "      <td>431.430000</td>\n",
       "      <td>431.430000</td>\n",
       "      <td>431.430000</td>\n",
       "    </tr>\n",
       "    <tr>\n",
       "      <th>4</th>\n",
       "      <td>Processos Industriais</td>\n",
       "      <td>Indústria Química</td>\n",
       "      <td>Produção de Ácido Adípico</td>\n",
       "      <td>NaN</td>\n",
       "      <td>NaN</td>\n",
       "      <td>NaN</td>\n",
       "      <td>Emissão</td>\n",
       "      <td>CO2e (t) GWP-AR2</td>\n",
       "      <td>SP</td>\n",
       "      <td>OUTRA_IND</td>\n",
       "      <td>...</td>\n",
       "      <td>40300.000000</td>\n",
       "      <td>40300.000000</td>\n",
       "      <td>40300.000000</td>\n",
       "      <td>40300.000000</td>\n",
       "      <td>40300.000000</td>\n",
       "      <td>40300.000000</td>\n",
       "      <td>40300.000000</td>\n",
       "      <td>40300.000000</td>\n",
       "      <td>40300.000000</td>\n",
       "      <td>40300.000000</td>\n",
       "    </tr>\n",
       "    <tr>\n",
       "      <th>5</th>\n",
       "      <td>Processos Industriais</td>\n",
       "      <td>Indústria Química</td>\n",
       "      <td>Produção de Ácido Adípico</td>\n",
       "      <td>NaN</td>\n",
       "      <td>NaN</td>\n",
       "      <td>NaN</td>\n",
       "      <td>Emissão</td>\n",
       "      <td>CO2e (t) GTP-AR2</td>\n",
       "      <td>SP</td>\n",
       "      <td>OUTRA_IND</td>\n",
       "      <td>...</td>\n",
       "      <td>35100.000000</td>\n",
       "      <td>35100.000000</td>\n",
       "      <td>35100.000000</td>\n",
       "      <td>35100.000000</td>\n",
       "      <td>35100.000000</td>\n",
       "      <td>35100.000000</td>\n",
       "      <td>35100.000000</td>\n",
       "      <td>35100.000000</td>\n",
       "      <td>35100.000000</td>\n",
       "      <td>35100.000000</td>\n",
       "    </tr>\n",
       "    <tr>\n",
       "      <th>6</th>\n",
       "      <td>Processos Industriais</td>\n",
       "      <td>Indústria Química</td>\n",
       "      <td>Produção de Ácido Nítrico</td>\n",
       "      <td>NaN</td>\n",
       "      <td>NaN</td>\n",
       "      <td>NaN</td>\n",
       "      <td>Emissão</td>\n",
       "      <td>N2O (t)</td>\n",
       "      <td>BA</td>\n",
       "      <td>OUTRA_IND</td>\n",
       "      <td>...</td>\n",
       "      <td>42.408907</td>\n",
       "      <td>41.346807</td>\n",
       "      <td>44.184643</td>\n",
       "      <td>44.184643</td>\n",
       "      <td>44.184643</td>\n",
       "      <td>44.184643</td>\n",
       "      <td>44.184643</td>\n",
       "      <td>44.184643</td>\n",
       "      <td>44.184643</td>\n",
       "      <td>44.184643</td>\n",
       "    </tr>\n",
       "    <tr>\n",
       "      <th>7</th>\n",
       "      <td>Processos Industriais</td>\n",
       "      <td>Indústria Química</td>\n",
       "      <td>Produção de Ácido Nítrico</td>\n",
       "      <td>NaN</td>\n",
       "      <td>NaN</td>\n",
       "      <td>NaN</td>\n",
       "      <td>Emissão</td>\n",
       "      <td>NOx (t)</td>\n",
       "      <td>BA</td>\n",
       "      <td>OUTRA_IND</td>\n",
       "      <td>...</td>\n",
       "      <td>33.404714</td>\n",
       "      <td>32.568117</td>\n",
       "      <td>34.803429</td>\n",
       "      <td>34.803429</td>\n",
       "      <td>34.803429</td>\n",
       "      <td>34.803429</td>\n",
       "      <td>34.803429</td>\n",
       "      <td>34.803429</td>\n",
       "      <td>34.803429</td>\n",
       "      <td>34.803429</td>\n",
       "    </tr>\n",
       "    <tr>\n",
       "      <th>8</th>\n",
       "      <td>Processos Industriais</td>\n",
       "      <td>Indústria Química</td>\n",
       "      <td>Produção de Ácido Nítrico</td>\n",
       "      <td>NaN</td>\n",
       "      <td>NaN</td>\n",
       "      <td>NaN</td>\n",
       "      <td>Emissão</td>\n",
       "      <td>CO2e (t) GWP-AR2</td>\n",
       "      <td>BA</td>\n",
       "      <td>OUTRA_IND</td>\n",
       "      <td>...</td>\n",
       "      <td>13146.761156</td>\n",
       "      <td>12817.510091</td>\n",
       "      <td>13697.239462</td>\n",
       "      <td>13697.239462</td>\n",
       "      <td>13697.239462</td>\n",
       "      <td>13697.239462</td>\n",
       "      <td>13697.239462</td>\n",
       "      <td>13697.239462</td>\n",
       "      <td>13697.239462</td>\n",
       "      <td>13697.239462</td>\n",
       "    </tr>\n",
       "    <tr>\n",
       "      <th>9</th>\n",
       "      <td>Processos Industriais</td>\n",
       "      <td>Indústria Química</td>\n",
       "      <td>Produção de Ácido Nítrico</td>\n",
       "      <td>NaN</td>\n",
       "      <td>NaN</td>\n",
       "      <td>NaN</td>\n",
       "      <td>Emissão</td>\n",
       "      <td>CO2e (t) GTP-AR2</td>\n",
       "      <td>BA</td>\n",
       "      <td>OUTRA_IND</td>\n",
       "      <td>...</td>\n",
       "      <td>11450.404878</td>\n",
       "      <td>11163.637821</td>\n",
       "      <td>11929.853725</td>\n",
       "      <td>11929.853725</td>\n",
       "      <td>11929.853725</td>\n",
       "      <td>11929.853725</td>\n",
       "      <td>11929.853725</td>\n",
       "      <td>11929.853725</td>\n",
       "      <td>11929.853725</td>\n",
       "      <td>11929.853725</td>\n",
       "    </tr>\n",
       "  </tbody>\n",
       "</table>\n",
       "<p>10 rows × 63 columns</p>\n",
       "</div>"
      ],
      "text/plain": [
       "         Nível 1 - Setor            Nível 2                    Nível 3  \\\n",
       "0  Processos Industriais  Indústria Química            Produção de ABS   \n",
       "1  Processos Industriais  Indústria Química  Produção de Ácido Adípico   \n",
       "2  Processos Industriais  Indústria Química  Produção de Ácido Adípico   \n",
       "3  Processos Industriais  Indústria Química  Produção de Ácido Adípico   \n",
       "4  Processos Industriais  Indústria Química  Produção de Ácido Adípico   \n",
       "5  Processos Industriais  Indústria Química  Produção de Ácido Adípico   \n",
       "6  Processos Industriais  Indústria Química  Produção de Ácido Nítrico   \n",
       "7  Processos Industriais  Indústria Química  Produção de Ácido Nítrico   \n",
       "8  Processos Industriais  Indústria Química  Produção de Ácido Nítrico   \n",
       "9  Processos Industriais  Indústria Química  Produção de Ácido Nítrico   \n",
       "\n",
       "  Nível 4 Nível 5 Nível 6 Emissão / Remoção / Bunker               Gás Estado  \\\n",
       "0     NaN     NaN     NaN                    Emissão         COVNM (t)     SP   \n",
       "1     NaN     NaN     NaN                    Emissão           N2O (t)     SP   \n",
       "2     NaN     NaN     NaN                    Emissão            CO (t)     SP   \n",
       "3     NaN     NaN     NaN                    Emissão           NOx (t)     SP   \n",
       "4     NaN     NaN     NaN                    Emissão  CO2e (t) GWP-AR2     SP   \n",
       "5     NaN     NaN     NaN                    Emissão  CO2e (t) GTP-AR2     SP   \n",
       "6     NaN     NaN     NaN                    Emissão           N2O (t)     BA   \n",
       "7     NaN     NaN     NaN                    Emissão           NOx (t)     BA   \n",
       "8     NaN     NaN     NaN                    Emissão  CO2e (t) GWP-AR2     BA   \n",
       "9     NaN     NaN     NaN                    Emissão  CO2e (t) GTP-AR2     BA   \n",
       "\n",
       "  Atividade Econômica  ...          2012          2013          2014  \\\n",
       "0           OUTRA_IND  ...    897.600000    897.600000    897.600000   \n",
       "1           OUTRA_IND  ...    130.000000    130.000000    130.000000   \n",
       "2           OUTRA_IND  ...   1380.576000   1380.576000   1380.576000   \n",
       "3           OUTRA_IND  ...    431.430000    431.430000    431.430000   \n",
       "4           OUTRA_IND  ...  40300.000000  40300.000000  40300.000000   \n",
       "5           OUTRA_IND  ...  35100.000000  35100.000000  35100.000000   \n",
       "6           OUTRA_IND  ...     42.408907     41.346807     44.184643   \n",
       "7           OUTRA_IND  ...     33.404714     32.568117     34.803429   \n",
       "8           OUTRA_IND  ...  13146.761156  12817.510091  13697.239462   \n",
       "9           OUTRA_IND  ...  11450.404878  11163.637821  11929.853725   \n",
       "\n",
       "           2015          2016          2017          2018          2019  \\\n",
       "0    897.600000    897.600000    897.600000    897.600000    897.600000   \n",
       "1    130.000000    130.000000    130.000000    130.000000    130.000000   \n",
       "2   1380.576000   1380.576000   1380.576000   1380.576000   1380.576000   \n",
       "3    431.430000    431.430000    431.430000    431.430000    431.430000   \n",
       "4  40300.000000  40300.000000  40300.000000  40300.000000  40300.000000   \n",
       "5  35100.000000  35100.000000  35100.000000  35100.000000  35100.000000   \n",
       "6     44.184643     44.184643     44.184643     44.184643     44.184643   \n",
       "7     34.803429     34.803429     34.803429     34.803429     34.803429   \n",
       "8  13697.239462  13697.239462  13697.239462  13697.239462  13697.239462   \n",
       "9  11929.853725  11929.853725  11929.853725  11929.853725  11929.853725   \n",
       "\n",
       "           2020          2021  \n",
       "0    897.600000    897.600000  \n",
       "1    130.000000    130.000000  \n",
       "2   1380.576000   1380.576000  \n",
       "3    431.430000    431.430000  \n",
       "4  40300.000000  40300.000000  \n",
       "5  35100.000000  35100.000000  \n",
       "6     44.184643     44.184643  \n",
       "7     34.803429     34.803429  \n",
       "8  13697.239462  13697.239462  \n",
       "9  11929.853725  11929.853725  \n",
       "\n",
       "[10 rows x 63 columns]"
      ]
     },
     "execution_count": 53,
     "metadata": {},
     "output_type": "execute_result"
    }
   ],
   "source": [
    "seeg_data.head(10)"
   ]
  },
  {
   "cell_type": "code",
   "execution_count": 54,
   "metadata": {},
   "outputs": [
    {
     "name": "stdout",
     "output_type": "stream",
     "text": [
      "<class 'pandas.core.frame.DataFrame'>\n",
      "RangeIndex: 103312 entries, 0 to 103311\n",
      "Data columns (total 63 columns):\n",
      " #   Column                      Non-Null Count   Dtype  \n",
      "---  ------                      --------------   -----  \n",
      " 0   Nível 1 - Setor             103312 non-null  object \n",
      " 1   Nível 2                     103312 non-null  object \n",
      " 2   Nível 3                     103253 non-null  object \n",
      " 3   Nível 4                     90920 non-null   object \n",
      " 4   Nível 5                     100788 non-null  object \n",
      " 5   Nível 6                     97691 non-null   object \n",
      " 6   Emissão / Remoção / Bunker  103312 non-null  object \n",
      " 7   Gás                         103312 non-null  object \n",
      " 8   Estado                      97374 non-null   object \n",
      " 9   Atividade Econômica         102076 non-null  object \n",
      " 10  Produto                     37413 non-null   object \n",
      " 11  1970                        103312 non-null  float64\n",
      " 12  1971                        103312 non-null  float64\n",
      " 13  1972                        103312 non-null  float64\n",
      " 14  1973                        103312 non-null  float64\n",
      " 15  1974                        103312 non-null  float64\n",
      " 16  1975                        103312 non-null  float64\n",
      " 17  1976                        103312 non-null  float64\n",
      " 18  1977                        103312 non-null  float64\n",
      " 19  1978                        103312 non-null  float64\n",
      " 20  1979                        103312 non-null  float64\n",
      " 21  1980                        103312 non-null  float64\n",
      " 22  1981                        103312 non-null  float64\n",
      " 23  1982                        103312 non-null  float64\n",
      " 24  1983                        103312 non-null  float64\n",
      " 25  1984                        103312 non-null  float64\n",
      " 26  1985                        103312 non-null  float64\n",
      " 27  1986                        103312 non-null  float64\n",
      " 28  1987                        103312 non-null  float64\n",
      " 29  1988                        103312 non-null  float64\n",
      " 30  1989                        103312 non-null  float64\n",
      " 31  1990                        103312 non-null  float64\n",
      " 32  1991                        103312 non-null  float64\n",
      " 33  1992                        103312 non-null  float64\n",
      " 34  1993                        103312 non-null  float64\n",
      " 35  1994                        103312 non-null  float64\n",
      " 36  1995                        103312 non-null  float64\n",
      " 37  1996                        103312 non-null  float64\n",
      " 38  1997                        103312 non-null  float64\n",
      " 39  1998                        103312 non-null  float64\n",
      " 40  1999                        103312 non-null  float64\n",
      " 41  2000                        103312 non-null  float64\n",
      " 42  2001                        103312 non-null  float64\n",
      " 43  2002                        103312 non-null  float64\n",
      " 44  2003                        103312 non-null  float64\n",
      " 45  2004                        103312 non-null  float64\n",
      " 46  2005                        103312 non-null  float64\n",
      " 47  2006                        103312 non-null  float64\n",
      " 48  2007                        103312 non-null  float64\n",
      " 49  2008                        103312 non-null  float64\n",
      " 50  2009                        103312 non-null  float64\n",
      " 51  2010                        103312 non-null  float64\n",
      " 52  2011                        103312 non-null  float64\n",
      " 53  2012                        103312 non-null  float64\n",
      " 54  2013                        103312 non-null  float64\n",
      " 55  2014                        103312 non-null  float64\n",
      " 56  2015                        103312 non-null  float64\n",
      " 57  2016                        103312 non-null  float64\n",
      " 58  2017                        103312 non-null  float64\n",
      " 59  2018                        103312 non-null  float64\n",
      " 60  2019                        103312 non-null  float64\n",
      " 61  2020                        103312 non-null  float64\n",
      " 62  2021                        103312 non-null  float64\n",
      "dtypes: float64(52), object(11)\n",
      "memory usage: 49.7+ MB\n"
     ]
    }
   ],
   "source": [
    "seeg_data.info()"
   ]
  },
  {
   "cell_type": "code",
   "execution_count": 55,
   "metadata": {},
   "outputs": [
    {
     "data": {
      "text/plain": [
       "array(['Emissão', 'Emissão NCI', 'Remoção NCI', 'Bunker', 'Remoção'],\n",
       "      dtype=object)"
      ]
     },
     "execution_count": 55,
     "metadata": {},
     "output_type": "execute_result"
    }
   ],
   "source": [
    "seeg_data[\"Emissão / Remoção / Bunker\"].unique()"
   ]
  },
  {
   "cell_type": "code",
   "execution_count": 56,
   "metadata": {},
   "outputs": [
    {
     "data": {
      "text/html": [
       "<div>\n",
       "<style scoped>\n",
       "    .dataframe tbody tr th:only-of-type {\n",
       "        vertical-align: middle;\n",
       "    }\n",
       "\n",
       "    .dataframe tbody tr th {\n",
       "        vertical-align: top;\n",
       "    }\n",
       "\n",
       "    .dataframe thead th {\n",
       "        text-align: right;\n",
       "    }\n",
       "</style>\n",
       "<table border=\"1\" class=\"dataframe\">\n",
       "  <thead>\n",
       "    <tr style=\"text-align: right;\">\n",
       "      <th></th>\n",
       "      <th>Nível 1 - Setor</th>\n",
       "      <th>Nível 2</th>\n",
       "      <th>Nível 3</th>\n",
       "      <th>Nível 4</th>\n",
       "      <th>Nível 5</th>\n",
       "      <th>Nível 6</th>\n",
       "      <th>Emissão / Remoção / Bunker</th>\n",
       "      <th>Gás</th>\n",
       "      <th>Estado</th>\n",
       "      <th>Atividade Econômica</th>\n",
       "      <th>...</th>\n",
       "      <th>2012</th>\n",
       "      <th>2013</th>\n",
       "      <th>2014</th>\n",
       "      <th>2015</th>\n",
       "      <th>2016</th>\n",
       "      <th>2017</th>\n",
       "      <th>2018</th>\n",
       "      <th>2019</th>\n",
       "      <th>2020</th>\n",
       "      <th>2021</th>\n",
       "    </tr>\n",
       "  </thead>\n",
       "  <tbody>\n",
       "    <tr>\n",
       "      <th>23520</th>\n",
       "      <td>Agropecuária</td>\n",
       "      <td>Solos Manejados</td>\n",
       "      <td>Diretas</td>\n",
       "      <td>Variação dos Estoques de Carbono no Solo</td>\n",
       "      <td>Vegetal</td>\n",
       "      <td>Pastagem Bem Manejada</td>\n",
       "      <td>Remoção NCI</td>\n",
       "      <td>CO2 (t)</td>\n",
       "      <td>RO</td>\n",
       "      <td>PEC</td>\n",
       "      <td>...</td>\n",
       "      <td>-1.434540e+07</td>\n",
       "      <td>-1.499358e+07</td>\n",
       "      <td>-1.543196e+07</td>\n",
       "      <td>-1.567070e+07</td>\n",
       "      <td>-1.630063e+07</td>\n",
       "      <td>-1.702215e+07</td>\n",
       "      <td>-1.740074e+07</td>\n",
       "      <td>-1.771914e+07</td>\n",
       "      <td>-1.767632e+07</td>\n",
       "      <td>-1.838895e+07</td>\n",
       "    </tr>\n",
       "    <tr>\n",
       "      <th>23521</th>\n",
       "      <td>Agropecuária</td>\n",
       "      <td>Solos Manejados</td>\n",
       "      <td>Diretas</td>\n",
       "      <td>Variação dos Estoques de Carbono no Solo</td>\n",
       "      <td>Vegetal</td>\n",
       "      <td>Pastagem Bem Manejada</td>\n",
       "      <td>Remoção NCI</td>\n",
       "      <td>CO2 (t)</td>\n",
       "      <td>AC</td>\n",
       "      <td>PEC</td>\n",
       "      <td>...</td>\n",
       "      <td>-5.382949e+06</td>\n",
       "      <td>-5.524659e+06</td>\n",
       "      <td>-5.632429e+06</td>\n",
       "      <td>-5.765030e+06</td>\n",
       "      <td>-5.867354e+06</td>\n",
       "      <td>-5.942076e+06</td>\n",
       "      <td>-6.022000e+06</td>\n",
       "      <td>-6.002147e+06</td>\n",
       "      <td>-6.035591e+06</td>\n",
       "      <td>-6.459079e+06</td>\n",
       "    </tr>\n",
       "    <tr>\n",
       "      <th>23522</th>\n",
       "      <td>Agropecuária</td>\n",
       "      <td>Solos Manejados</td>\n",
       "      <td>Diretas</td>\n",
       "      <td>Variação dos Estoques de Carbono no Solo</td>\n",
       "      <td>Vegetal</td>\n",
       "      <td>Pastagem Bem Manejada</td>\n",
       "      <td>Remoção NCI</td>\n",
       "      <td>CO2 (t)</td>\n",
       "      <td>AM</td>\n",
       "      <td>PEC</td>\n",
       "      <td>...</td>\n",
       "      <td>-3.450455e+06</td>\n",
       "      <td>-3.540294e+06</td>\n",
       "      <td>-3.545724e+06</td>\n",
       "      <td>-3.924546e+06</td>\n",
       "      <td>-4.626541e+06</td>\n",
       "      <td>-4.874199e+06</td>\n",
       "      <td>-4.849173e+06</td>\n",
       "      <td>-4.959540e+06</td>\n",
       "      <td>-5.106806e+06</td>\n",
       "      <td>-5.809814e+06</td>\n",
       "    </tr>\n",
       "    <tr>\n",
       "      <th>23523</th>\n",
       "      <td>Agropecuária</td>\n",
       "      <td>Solos Manejados</td>\n",
       "      <td>Diretas</td>\n",
       "      <td>Variação dos Estoques de Carbono no Solo</td>\n",
       "      <td>Vegetal</td>\n",
       "      <td>Pastagem Bem Manejada</td>\n",
       "      <td>Remoção NCI</td>\n",
       "      <td>CO2 (t)</td>\n",
       "      <td>RR</td>\n",
       "      <td>PEC</td>\n",
       "      <td>...</td>\n",
       "      <td>-1.260166e+06</td>\n",
       "      <td>-1.261895e+06</td>\n",
       "      <td>-1.371664e+06</td>\n",
       "      <td>-1.501452e+06</td>\n",
       "      <td>-1.507705e+06</td>\n",
       "      <td>-1.509919e+06</td>\n",
       "      <td>-1.609826e+06</td>\n",
       "      <td>-1.616980e+06</td>\n",
       "      <td>-1.518397e+06</td>\n",
       "      <td>-1.926000e+06</td>\n",
       "    </tr>\n",
       "    <tr>\n",
       "      <th>23524</th>\n",
       "      <td>Agropecuária</td>\n",
       "      <td>Solos Manejados</td>\n",
       "      <td>Diretas</td>\n",
       "      <td>Variação dos Estoques de Carbono no Solo</td>\n",
       "      <td>Vegetal</td>\n",
       "      <td>Pastagem Bem Manejada</td>\n",
       "      <td>Remoção NCI</td>\n",
       "      <td>CO2 (t)</td>\n",
       "      <td>PA</td>\n",
       "      <td>PEC</td>\n",
       "      <td>...</td>\n",
       "      <td>-3.429279e+07</td>\n",
       "      <td>-3.317185e+07</td>\n",
       "      <td>-3.281628e+07</td>\n",
       "      <td>-3.350720e+07</td>\n",
       "      <td>-3.557183e+07</td>\n",
       "      <td>-3.755308e+07</td>\n",
       "      <td>-4.134614e+07</td>\n",
       "      <td>-4.229403e+07</td>\n",
       "      <td>-4.275448e+07</td>\n",
       "      <td>-4.443440e+07</td>\n",
       "    </tr>\n",
       "  </tbody>\n",
       "</table>\n",
       "<p>5 rows × 63 columns</p>\n",
       "</div>"
      ],
      "text/plain": [
       "      Nível 1 - Setor          Nível 2  Nível 3  \\\n",
       "23520    Agropecuária  Solos Manejados  Diretas   \n",
       "23521    Agropecuária  Solos Manejados  Diretas   \n",
       "23522    Agropecuária  Solos Manejados  Diretas   \n",
       "23523    Agropecuária  Solos Manejados  Diretas   \n",
       "23524    Agropecuária  Solos Manejados  Diretas   \n",
       "\n",
       "                                        Nível 4  Nível 5  \\\n",
       "23520  Variação dos Estoques de Carbono no Solo  Vegetal   \n",
       "23521  Variação dos Estoques de Carbono no Solo  Vegetal   \n",
       "23522  Variação dos Estoques de Carbono no Solo  Vegetal   \n",
       "23523  Variação dos Estoques de Carbono no Solo  Vegetal   \n",
       "23524  Variação dos Estoques de Carbono no Solo  Vegetal   \n",
       "\n",
       "                     Nível 6 Emissão / Remoção / Bunker      Gás Estado  \\\n",
       "23520  Pastagem Bem Manejada                Remoção NCI  CO2 (t)     RO   \n",
       "23521  Pastagem Bem Manejada                Remoção NCI  CO2 (t)     AC   \n",
       "23522  Pastagem Bem Manejada                Remoção NCI  CO2 (t)     AM   \n",
       "23523  Pastagem Bem Manejada                Remoção NCI  CO2 (t)     RR   \n",
       "23524  Pastagem Bem Manejada                Remoção NCI  CO2 (t)     PA   \n",
       "\n",
       "      Atividade Econômica  ...          2012          2013          2014  \\\n",
       "23520                 PEC  ... -1.434540e+07 -1.499358e+07 -1.543196e+07   \n",
       "23521                 PEC  ... -5.382949e+06 -5.524659e+06 -5.632429e+06   \n",
       "23522                 PEC  ... -3.450455e+06 -3.540294e+06 -3.545724e+06   \n",
       "23523                 PEC  ... -1.260166e+06 -1.261895e+06 -1.371664e+06   \n",
       "23524                 PEC  ... -3.429279e+07 -3.317185e+07 -3.281628e+07   \n",
       "\n",
       "               2015          2016          2017          2018          2019  \\\n",
       "23520 -1.567070e+07 -1.630063e+07 -1.702215e+07 -1.740074e+07 -1.771914e+07   \n",
       "23521 -5.765030e+06 -5.867354e+06 -5.942076e+06 -6.022000e+06 -6.002147e+06   \n",
       "23522 -3.924546e+06 -4.626541e+06 -4.874199e+06 -4.849173e+06 -4.959540e+06   \n",
       "23523 -1.501452e+06 -1.507705e+06 -1.509919e+06 -1.609826e+06 -1.616980e+06   \n",
       "23524 -3.350720e+07 -3.557183e+07 -3.755308e+07 -4.134614e+07 -4.229403e+07   \n",
       "\n",
       "               2020          2021  \n",
       "23520 -1.767632e+07 -1.838895e+07  \n",
       "23521 -6.035591e+06 -6.459079e+06  \n",
       "23522 -5.106806e+06 -5.809814e+06  \n",
       "23523 -1.518397e+06 -1.926000e+06  \n",
       "23524 -4.275448e+07 -4.443440e+07  \n",
       "\n",
       "[5 rows x 63 columns]"
      ]
     },
     "execution_count": 56,
     "metadata": {},
     "output_type": "execute_result"
    }
   ],
   "source": [
    "seeg_data[\n",
    "    seeg_data[\"Emissão / Remoção / Bunker\"].isin([\"Remoção NCI\", \"Remoção\"])\n",
    "].head()"
   ]
  },
  {
   "cell_type": "code",
   "execution_count": 57,
   "metadata": {},
   "outputs": [
    {
     "data": {
      "text/plain": [
       "1970    0.0\n",
       "1971    0.0\n",
       "1972    0.0\n",
       "1973    0.0\n",
       "1974    0.0\n",
       "1975    0.0\n",
       "1976    0.0\n",
       "1977    0.0\n",
       "1978    0.0\n",
       "1979    0.0\n",
       "dtype: float64"
      ]
     },
     "execution_count": 57,
     "metadata": {},
     "output_type": "execute_result"
    }
   ],
   "source": [
    "seeg_data.loc[\n",
    "    seeg_data[\"Emissão / Remoção / Bunker\"].isin([\"Remoção NCI\", \"Remoção\"]), 1970:2012\n",
    "].max().head(10)"
   ]
  },
  {
   "cell_type": "code",
   "execution_count": 58,
   "metadata": {},
   "outputs": [
    {
     "data": {
      "text/plain": [
       "array([nan], dtype=object)"
      ]
     },
     "execution_count": 58,
     "metadata": {},
     "output_type": "execute_result"
    }
   ],
   "source": [
    "seeg_data.loc[seeg_data[\"Emissão / Remoção / Bunker\"] == \"Bunker\", \"Estado\"].unique()"
   ]
  },
  {
   "cell_type": "code",
   "execution_count": 59,
   "metadata": {},
   "outputs": [
    {
     "name": "stdout",
     "output_type": "stream",
     "text": [
      "<class 'pandas.core.frame.DataFrame'>\n",
      "Index: 94748 entries, 0 to 103245\n",
      "Data columns (total 63 columns):\n",
      " #   Column                      Non-Null Count  Dtype  \n",
      "---  ------                      --------------  -----  \n",
      " 0   Nível 1 - Setor             94748 non-null  object \n",
      " 1   Nível 2                     94748 non-null  object \n",
      " 2   Nível 3                     94689 non-null  object \n",
      " 3   Nível 4                     82422 non-null  object \n",
      " 4   Nível 5                     92290 non-null  object \n",
      " 5   Nível 6                     89207 non-null  object \n",
      " 6   Emissão / Remoção / Bunker  94748 non-null  object \n",
      " 7   Gás                         94748 non-null  object \n",
      " 8   Estado                      88852 non-null  object \n",
      " 9   Atividade Econômica         94703 non-null  object \n",
      " 10  Produto                     36198 non-null  object \n",
      " 11  1970                        94748 non-null  float64\n",
      " 12  1971                        94748 non-null  float64\n",
      " 13  1972                        94748 non-null  float64\n",
      " 14  1973                        94748 non-null  float64\n",
      " 15  1974                        94748 non-null  float64\n",
      " 16  1975                        94748 non-null  float64\n",
      " 17  1976                        94748 non-null  float64\n",
      " 18  1977                        94748 non-null  float64\n",
      " 19  1978                        94748 non-null  float64\n",
      " 20  1979                        94748 non-null  float64\n",
      " 21  1980                        94748 non-null  float64\n",
      " 22  1981                        94748 non-null  float64\n",
      " 23  1982                        94748 non-null  float64\n",
      " 24  1983                        94748 non-null  float64\n",
      " 25  1984                        94748 non-null  float64\n",
      " 26  1985                        94748 non-null  float64\n",
      " 27  1986                        94748 non-null  float64\n",
      " 28  1987                        94748 non-null  float64\n",
      " 29  1988                        94748 non-null  float64\n",
      " 30  1989                        94748 non-null  float64\n",
      " 31  1990                        94748 non-null  float64\n",
      " 32  1991                        94748 non-null  float64\n",
      " 33  1992                        94748 non-null  float64\n",
      " 34  1993                        94748 non-null  float64\n",
      " 35  1994                        94748 non-null  float64\n",
      " 36  1995                        94748 non-null  float64\n",
      " 37  1996                        94748 non-null  float64\n",
      " 38  1997                        94748 non-null  float64\n",
      " 39  1998                        94748 non-null  float64\n",
      " 40  1999                        94748 non-null  float64\n",
      " 41  2000                        94748 non-null  float64\n",
      " 42  2001                        94748 non-null  float64\n",
      " 43  2002                        94748 non-null  float64\n",
      " 44  2003                        94748 non-null  float64\n",
      " 45  2004                        94748 non-null  float64\n",
      " 46  2005                        94748 non-null  float64\n",
      " 47  2006                        94748 non-null  float64\n",
      " 48  2007                        94748 non-null  float64\n",
      " 49  2008                        94748 non-null  float64\n",
      " 50  2009                        94748 non-null  float64\n",
      " 51  2010                        94748 non-null  float64\n",
      " 52  2011                        94748 non-null  float64\n",
      " 53  2012                        94748 non-null  float64\n",
      " 54  2013                        94748 non-null  float64\n",
      " 55  2014                        94748 non-null  float64\n",
      " 56  2015                        94748 non-null  float64\n",
      " 57  2016                        94748 non-null  float64\n",
      " 58  2017                        94748 non-null  float64\n",
      " 59  2018                        94748 non-null  float64\n",
      " 60  2019                        94748 non-null  float64\n",
      " 61  2020                        94748 non-null  float64\n",
      " 62  2021                        94748 non-null  float64\n",
      "dtypes: float64(52), object(11)\n",
      "memory usage: 46.3+ MB\n"
     ]
    }
   ],
   "source": [
    "seeg_data = seeg_data[seeg_data[\"Emissão / Remoção / Bunker\"] == \"Emissão\"]\n",
    "seeg_data.info()"
   ]
  },
  {
   "cell_type": "code",
   "execution_count": null,
   "metadata": {},
   "outputs": [],
   "source": [
    "# CREATE NEW COLUMNS"
   ]
  },
  {
   "cell_type": "code",
   "execution_count": 60,
   "metadata": {},
   "outputs": [
    {
     "data": {
      "text/plain": [
       "['Nível 1 - Setor',\n",
       " 'Nível 2',\n",
       " 'Nível 3',\n",
       " 'Nível 4',\n",
       " 'Nível 5',\n",
       " 'Nível 6',\n",
       " 'Emissão / Remoção / Bunker',\n",
       " 'Gás',\n",
       " 'Estado',\n",
       " 'Atividade Econômica',\n",
       " 'Produto']"
      ]
     },
     "execution_count": 60,
     "metadata": {},
     "output_type": "execute_result"
    }
   ],
   "source": [
    "columns_info = list(seeg_data.loc[:, \"Nível 1 - Setor\":\"Produto\"].columns)\n",
    "columns_info"
   ]
  },
  {
   "cell_type": "code",
   "execution_count": 61,
   "metadata": {},
   "outputs": [
    {
     "data": {
      "text/plain": [
       "[1970,\n",
       " 1971,\n",
       " 1972,\n",
       " 1973,\n",
       " 1974,\n",
       " 1975,\n",
       " 1976,\n",
       " 1977,\n",
       " 1978,\n",
       " 1979,\n",
       " 1980,\n",
       " 1981,\n",
       " 1982,\n",
       " 1983,\n",
       " 1984,\n",
       " 1985,\n",
       " 1986,\n",
       " 1987,\n",
       " 1988,\n",
       " 1989,\n",
       " 1990,\n",
       " 1991,\n",
       " 1992,\n",
       " 1993,\n",
       " 1994,\n",
       " 1995,\n",
       " 1996,\n",
       " 1997,\n",
       " 1998,\n",
       " 1999,\n",
       " 2000,\n",
       " 2001,\n",
       " 2002,\n",
       " 2003,\n",
       " 2004,\n",
       " 2005,\n",
       " 2006,\n",
       " 2007,\n",
       " 2008,\n",
       " 2009,\n",
       " 2010,\n",
       " 2011,\n",
       " 2012,\n",
       " 2013,\n",
       " 2014,\n",
       " 2015,\n",
       " 2016,\n",
       " 2017,\n",
       " 2018,\n",
       " 2019,\n",
       " 2020,\n",
       " 2021]"
      ]
     },
     "execution_count": 61,
     "metadata": {},
     "output_type": "execute_result"
    }
   ],
   "source": [
    "columns_date = list(seeg_data.loc[:, 1970:2021].columns)\n",
    "columns_date"
   ]
  },
  {
   "cell_type": "code",
   "execution_count": null,
   "metadata": {},
   "outputs": [],
   "source": [
    "# CREATE NEW TABLE"
   ]
  },
  {
   "cell_type": "code",
   "execution_count": 62,
   "metadata": {},
   "outputs": [
    {
     "data": {
      "text/html": [
       "<div>\n",
       "<style scoped>\n",
       "    .dataframe tbody tr th:only-of-type {\n",
       "        vertical-align: middle;\n",
       "    }\n",
       "\n",
       "    .dataframe tbody tr th {\n",
       "        vertical-align: top;\n",
       "    }\n",
       "\n",
       "    .dataframe thead th {\n",
       "        text-align: right;\n",
       "    }\n",
       "</style>\n",
       "<table border=\"1\" class=\"dataframe\">\n",
       "  <thead>\n",
       "    <tr style=\"text-align: right;\">\n",
       "      <th></th>\n",
       "      <th>Nível 1 - Setor</th>\n",
       "      <th>Nível 2</th>\n",
       "      <th>Nível 3</th>\n",
       "      <th>Nível 4</th>\n",
       "      <th>Nível 5</th>\n",
       "      <th>Nível 6</th>\n",
       "      <th>Emissão / Remoção / Bunker</th>\n",
       "      <th>Gás</th>\n",
       "      <th>Estado</th>\n",
       "      <th>Atividade Econômica</th>\n",
       "      <th>Produto</th>\n",
       "      <th>Ano</th>\n",
       "      <th>Emissão</th>\n",
       "    </tr>\n",
       "  </thead>\n",
       "  <tbody>\n",
       "    <tr>\n",
       "      <th>0</th>\n",
       "      <td>Processos Industriais</td>\n",
       "      <td>Indústria Química</td>\n",
       "      <td>Produção de ABS</td>\n",
       "      <td>NaN</td>\n",
       "      <td>NaN</td>\n",
       "      <td>NaN</td>\n",
       "      <td>Emissão</td>\n",
       "      <td>COVNM (t)</td>\n",
       "      <td>SP</td>\n",
       "      <td>OUTRA_IND</td>\n",
       "      <td>NaN</td>\n",
       "      <td>1970</td>\n",
       "      <td>0.0</td>\n",
       "    </tr>\n",
       "    <tr>\n",
       "      <th>1</th>\n",
       "      <td>Processos Industriais</td>\n",
       "      <td>Indústria Química</td>\n",
       "      <td>Produção de Ácido Adípico</td>\n",
       "      <td>NaN</td>\n",
       "      <td>NaN</td>\n",
       "      <td>NaN</td>\n",
       "      <td>Emissão</td>\n",
       "      <td>N2O (t)</td>\n",
       "      <td>SP</td>\n",
       "      <td>OUTRA_IND</td>\n",
       "      <td>NaN</td>\n",
       "      <td>1970</td>\n",
       "      <td>6210.0</td>\n",
       "    </tr>\n",
       "    <tr>\n",
       "      <th>2</th>\n",
       "      <td>Processos Industriais</td>\n",
       "      <td>Indústria Química</td>\n",
       "      <td>Produção de Ácido Adípico</td>\n",
       "      <td>NaN</td>\n",
       "      <td>NaN</td>\n",
       "      <td>NaN</td>\n",
       "      <td>Emissão</td>\n",
       "      <td>CO (t)</td>\n",
       "      <td>SP</td>\n",
       "      <td>OUTRA_IND</td>\n",
       "      <td>NaN</td>\n",
       "      <td>1970</td>\n",
       "      <td>368.0</td>\n",
       "    </tr>\n",
       "    <tr>\n",
       "      <th>3</th>\n",
       "      <td>Processos Industriais</td>\n",
       "      <td>Indústria Química</td>\n",
       "      <td>Produção de Ácido Adípico</td>\n",
       "      <td>NaN</td>\n",
       "      <td>NaN</td>\n",
       "      <td>NaN</td>\n",
       "      <td>Emissão</td>\n",
       "      <td>NOx (t)</td>\n",
       "      <td>SP</td>\n",
       "      <td>OUTRA_IND</td>\n",
       "      <td>NaN</td>\n",
       "      <td>1970</td>\n",
       "      <td>115.0</td>\n",
       "    </tr>\n",
       "    <tr>\n",
       "      <th>4</th>\n",
       "      <td>Processos Industriais</td>\n",
       "      <td>Indústria Química</td>\n",
       "      <td>Produção de Ácido Adípico</td>\n",
       "      <td>NaN</td>\n",
       "      <td>NaN</td>\n",
       "      <td>NaN</td>\n",
       "      <td>Emissão</td>\n",
       "      <td>CO2e (t) GWP-AR2</td>\n",
       "      <td>SP</td>\n",
       "      <td>OUTRA_IND</td>\n",
       "      <td>NaN</td>\n",
       "      <td>1970</td>\n",
       "      <td>1925100.0</td>\n",
       "    </tr>\n",
       "    <tr>\n",
       "      <th>5</th>\n",
       "      <td>Processos Industriais</td>\n",
       "      <td>Indústria Química</td>\n",
       "      <td>Produção de Ácido Adípico</td>\n",
       "      <td>NaN</td>\n",
       "      <td>NaN</td>\n",
       "      <td>NaN</td>\n",
       "      <td>Emissão</td>\n",
       "      <td>CO2e (t) GTP-AR2</td>\n",
       "      <td>SP</td>\n",
       "      <td>OUTRA_IND</td>\n",
       "      <td>NaN</td>\n",
       "      <td>1970</td>\n",
       "      <td>1676700.0</td>\n",
       "    </tr>\n",
       "    <tr>\n",
       "      <th>6</th>\n",
       "      <td>Processos Industriais</td>\n",
       "      <td>Indústria Química</td>\n",
       "      <td>Produção de Ácido Nítrico</td>\n",
       "      <td>NaN</td>\n",
       "      <td>NaN</td>\n",
       "      <td>NaN</td>\n",
       "      <td>Emissão</td>\n",
       "      <td>N2O (t)</td>\n",
       "      <td>BA</td>\n",
       "      <td>OUTRA_IND</td>\n",
       "      <td>NaN</td>\n",
       "      <td>1970</td>\n",
       "      <td>0.0</td>\n",
       "    </tr>\n",
       "    <tr>\n",
       "      <th>7</th>\n",
       "      <td>Processos Industriais</td>\n",
       "      <td>Indústria Química</td>\n",
       "      <td>Produção de Ácido Nítrico</td>\n",
       "      <td>NaN</td>\n",
       "      <td>NaN</td>\n",
       "      <td>NaN</td>\n",
       "      <td>Emissão</td>\n",
       "      <td>NOx (t)</td>\n",
       "      <td>BA</td>\n",
       "      <td>OUTRA_IND</td>\n",
       "      <td>NaN</td>\n",
       "      <td>1970</td>\n",
       "      <td>0.0</td>\n",
       "    </tr>\n",
       "    <tr>\n",
       "      <th>8</th>\n",
       "      <td>Processos Industriais</td>\n",
       "      <td>Indústria Química</td>\n",
       "      <td>Produção de Ácido Nítrico</td>\n",
       "      <td>NaN</td>\n",
       "      <td>NaN</td>\n",
       "      <td>NaN</td>\n",
       "      <td>Emissão</td>\n",
       "      <td>CO2e (t) GWP-AR2</td>\n",
       "      <td>BA</td>\n",
       "      <td>OUTRA_IND</td>\n",
       "      <td>NaN</td>\n",
       "      <td>1970</td>\n",
       "      <td>0.0</td>\n",
       "    </tr>\n",
       "    <tr>\n",
       "      <th>9</th>\n",
       "      <td>Processos Industriais</td>\n",
       "      <td>Indústria Química</td>\n",
       "      <td>Produção de Ácido Nítrico</td>\n",
       "      <td>NaN</td>\n",
       "      <td>NaN</td>\n",
       "      <td>NaN</td>\n",
       "      <td>Emissão</td>\n",
       "      <td>CO2e (t) GTP-AR2</td>\n",
       "      <td>BA</td>\n",
       "      <td>OUTRA_IND</td>\n",
       "      <td>NaN</td>\n",
       "      <td>1970</td>\n",
       "      <td>0.0</td>\n",
       "    </tr>\n",
       "  </tbody>\n",
       "</table>\n",
       "</div>"
      ],
      "text/plain": [
       "         Nível 1 - Setor            Nível 2                    Nível 3  \\\n",
       "0  Processos Industriais  Indústria Química            Produção de ABS   \n",
       "1  Processos Industriais  Indústria Química  Produção de Ácido Adípico   \n",
       "2  Processos Industriais  Indústria Química  Produção de Ácido Adípico   \n",
       "3  Processos Industriais  Indústria Química  Produção de Ácido Adípico   \n",
       "4  Processos Industriais  Indústria Química  Produção de Ácido Adípico   \n",
       "5  Processos Industriais  Indústria Química  Produção de Ácido Adípico   \n",
       "6  Processos Industriais  Indústria Química  Produção de Ácido Nítrico   \n",
       "7  Processos Industriais  Indústria Química  Produção de Ácido Nítrico   \n",
       "8  Processos Industriais  Indústria Química  Produção de Ácido Nítrico   \n",
       "9  Processos Industriais  Indústria Química  Produção de Ácido Nítrico   \n",
       "\n",
       "  Nível 4 Nível 5 Nível 6 Emissão / Remoção / Bunker               Gás Estado  \\\n",
       "0     NaN     NaN     NaN                    Emissão         COVNM (t)     SP   \n",
       "1     NaN     NaN     NaN                    Emissão           N2O (t)     SP   \n",
       "2     NaN     NaN     NaN                    Emissão            CO (t)     SP   \n",
       "3     NaN     NaN     NaN                    Emissão           NOx (t)     SP   \n",
       "4     NaN     NaN     NaN                    Emissão  CO2e (t) GWP-AR2     SP   \n",
       "5     NaN     NaN     NaN                    Emissão  CO2e (t) GTP-AR2     SP   \n",
       "6     NaN     NaN     NaN                    Emissão           N2O (t)     BA   \n",
       "7     NaN     NaN     NaN                    Emissão           NOx (t)     BA   \n",
       "8     NaN     NaN     NaN                    Emissão  CO2e (t) GWP-AR2     BA   \n",
       "9     NaN     NaN     NaN                    Emissão  CO2e (t) GTP-AR2     BA   \n",
       "\n",
       "  Atividade Econômica Produto   Ano    Emissão  \n",
       "0           OUTRA_IND     NaN  1970        0.0  \n",
       "1           OUTRA_IND     NaN  1970     6210.0  \n",
       "2           OUTRA_IND     NaN  1970      368.0  \n",
       "3           OUTRA_IND     NaN  1970      115.0  \n",
       "4           OUTRA_IND     NaN  1970  1925100.0  \n",
       "5           OUTRA_IND     NaN  1970  1676700.0  \n",
       "6           OUTRA_IND     NaN  1970        0.0  \n",
       "7           OUTRA_IND     NaN  1970        0.0  \n",
       "8           OUTRA_IND     NaN  1970        0.0  \n",
       "9           OUTRA_IND     NaN  1970        0.0  "
      ]
     },
     "execution_count": 62,
     "metadata": {},
     "output_type": "execute_result"
    }
   ],
   "source": [
    "seeg_data_ano = seeg_data.melt(\n",
    "    id_vars=columns_info, value_vars=columns_date, var_name=\"Ano\", value_name=\"Emissão\"\n",
    ")\n",
    "seeg_data_ano.head(10)"
   ]
  },
  {
   "cell_type": "code",
   "execution_count": 63,
   "metadata": {},
   "outputs": [
    {
     "data": {
      "text/plain": [
       "<pandas.core.groupby.generic.DataFrameGroupBy object at 0x00000242B1A5B4D0>"
      ]
     },
     "execution_count": 63,
     "metadata": {},
     "output_type": "execute_result"
    }
   ],
   "source": [
    "seeg_data_ano.groupby(\"Gás\")"
   ]
  },
  {
   "cell_type": "code",
   "execution_count": 64,
   "metadata": {},
   "outputs": [
    {
     "data": {
      "text/html": [
       "<div>\n",
       "<style scoped>\n",
       "    .dataframe tbody tr th:only-of-type {\n",
       "        vertical-align: middle;\n",
       "    }\n",
       "\n",
       "    .dataframe tbody tr th {\n",
       "        vertical-align: top;\n",
       "    }\n",
       "\n",
       "    .dataframe thead th {\n",
       "        text-align: right;\n",
       "    }\n",
       "</style>\n",
       "<table border=\"1\" class=\"dataframe\">\n",
       "  <thead>\n",
       "    <tr style=\"text-align: right;\">\n",
       "      <th></th>\n",
       "      <th>Nível 1 - Setor</th>\n",
       "      <th>Nível 2</th>\n",
       "      <th>Nível 3</th>\n",
       "      <th>Nível 4</th>\n",
       "      <th>Nível 5</th>\n",
       "      <th>Nível 6</th>\n",
       "      <th>Emissão / Remoção / Bunker</th>\n",
       "      <th>Gás</th>\n",
       "      <th>Estado</th>\n",
       "      <th>Atividade Econômica</th>\n",
       "      <th>Produto</th>\n",
       "      <th>Ano</th>\n",
       "      <th>Emissão</th>\n",
       "    </tr>\n",
       "  </thead>\n",
       "  <tbody>\n",
       "    <tr>\n",
       "      <th>18</th>\n",
       "      <td>Processos Industriais</td>\n",
       "      <td>Indústria Química</td>\n",
       "      <td>Produção de Acrilonitrila</td>\n",
       "      <td>NaN</td>\n",
       "      <td>NaN</td>\n",
       "      <td>NaN</td>\n",
       "      <td>Emissão</td>\n",
       "      <td>CO2 (t)</td>\n",
       "      <td>BA</td>\n",
       "      <td>OUTRA_IND</td>\n",
       "      <td>NaN</td>\n",
       "      <td>1970</td>\n",
       "      <td>0.000000</td>\n",
       "    </tr>\n",
       "    <tr>\n",
       "      <th>23</th>\n",
       "      <td>Processos Industriais</td>\n",
       "      <td>Indústria Química</td>\n",
       "      <td>Produção de Amônia</td>\n",
       "      <td>NaN</td>\n",
       "      <td>NaN</td>\n",
       "      <td>NaN</td>\n",
       "      <td>Emissão</td>\n",
       "      <td>CO2 (t)</td>\n",
       "      <td>RJ</td>\n",
       "      <td>OUTRA_IND</td>\n",
       "      <td>NaN</td>\n",
       "      <td>1970</td>\n",
       "      <td>0.000000</td>\n",
       "    </tr>\n",
       "    <tr>\n",
       "      <th>26</th>\n",
       "      <td>Processos Industriais</td>\n",
       "      <td>Indústria Química</td>\n",
       "      <td>Produção de Amônia</td>\n",
       "      <td>NaN</td>\n",
       "      <td>NaN</td>\n",
       "      <td>NaN</td>\n",
       "      <td>Emissão</td>\n",
       "      <td>CO2 (t)</td>\n",
       "      <td>MG</td>\n",
       "      <td>OUTRA_IND</td>\n",
       "      <td>NaN</td>\n",
       "      <td>1970</td>\n",
       "      <td>0.000000</td>\n",
       "    </tr>\n",
       "    <tr>\n",
       "      <th>29</th>\n",
       "      <td>Processos Industriais</td>\n",
       "      <td>Indústria Química</td>\n",
       "      <td>Produção de Amônia</td>\n",
       "      <td>NaN</td>\n",
       "      <td>NaN</td>\n",
       "      <td>NaN</td>\n",
       "      <td>Emissão</td>\n",
       "      <td>CO2 (t)</td>\n",
       "      <td>BA</td>\n",
       "      <td>OUTRA_IND</td>\n",
       "      <td>NaN</td>\n",
       "      <td>1970</td>\n",
       "      <td>10742.465792</td>\n",
       "    </tr>\n",
       "    <tr>\n",
       "      <th>32</th>\n",
       "      <td>Processos Industriais</td>\n",
       "      <td>Indústria Química</td>\n",
       "      <td>Produção de Amônia</td>\n",
       "      <td>NaN</td>\n",
       "      <td>NaN</td>\n",
       "      <td>NaN</td>\n",
       "      <td>Emissão</td>\n",
       "      <td>CO2 (t)</td>\n",
       "      <td>SE</td>\n",
       "      <td>OUTRA_IND</td>\n",
       "      <td>NaN</td>\n",
       "      <td>1970</td>\n",
       "      <td>0.000000</td>\n",
       "    </tr>\n",
       "    <tr>\n",
       "      <th>35</th>\n",
       "      <td>Processos Industriais</td>\n",
       "      <td>Indústria Química</td>\n",
       "      <td>Produção de Amônia</td>\n",
       "      <td>NaN</td>\n",
       "      <td>NaN</td>\n",
       "      <td>NaN</td>\n",
       "      <td>Emissão</td>\n",
       "      <td>CO2 (t)</td>\n",
       "      <td>PR</td>\n",
       "      <td>OUTRA_IND</td>\n",
       "      <td>NaN</td>\n",
       "      <td>1970</td>\n",
       "      <td>0.000000</td>\n",
       "    </tr>\n",
       "    <tr>\n",
       "      <th>38</th>\n",
       "      <td>Processos Industriais</td>\n",
       "      <td>Indústria Química</td>\n",
       "      <td>Produção de Amônia</td>\n",
       "      <td>NaN</td>\n",
       "      <td>NaN</td>\n",
       "      <td>NaN</td>\n",
       "      <td>Emissão</td>\n",
       "      <td>CO2 (t)</td>\n",
       "      <td>SP</td>\n",
       "      <td>OUTRA_IND</td>\n",
       "      <td>NaN</td>\n",
       "      <td>1970</td>\n",
       "      <td>31413.574208</td>\n",
       "    </tr>\n",
       "    <tr>\n",
       "      <th>46</th>\n",
       "      <td>Processos Industriais</td>\n",
       "      <td>Indústria Química</td>\n",
       "      <td>Produção de Carbureto de Cálcio</td>\n",
       "      <td>NaN</td>\n",
       "      <td>NaN</td>\n",
       "      <td>NaN</td>\n",
       "      <td>Emissão</td>\n",
       "      <td>CO2 (t)</td>\n",
       "      <td>NaN</td>\n",
       "      <td>OUTRA_IND</td>\n",
       "      <td>NaN</td>\n",
       "      <td>1970</td>\n",
       "      <td>0.000000</td>\n",
       "    </tr>\n",
       "    <tr>\n",
       "      <th>49</th>\n",
       "      <td>Processos Industriais</td>\n",
       "      <td>Indústria Química</td>\n",
       "      <td>Produção de Cloreto de Vinila</td>\n",
       "      <td>NaN</td>\n",
       "      <td>NaN</td>\n",
       "      <td>NaN</td>\n",
       "      <td>Emissão</td>\n",
       "      <td>CO2 (t)</td>\n",
       "      <td>NaN</td>\n",
       "      <td>OUTRA_IND</td>\n",
       "      <td>NaN</td>\n",
       "      <td>1970</td>\n",
       "      <td>13994.400000</td>\n",
       "    </tr>\n",
       "    <tr>\n",
       "      <th>56</th>\n",
       "      <td>Processos Industriais</td>\n",
       "      <td>Indústria Química</td>\n",
       "      <td>Produção de Eteno</td>\n",
       "      <td>NaN</td>\n",
       "      <td>NaN</td>\n",
       "      <td>NaN</td>\n",
       "      <td>Emissão</td>\n",
       "      <td>CO2 (t)</td>\n",
       "      <td>NaN</td>\n",
       "      <td>OUTRA_IND</td>\n",
       "      <td>NaN</td>\n",
       "      <td>1970</td>\n",
       "      <td>29.652200</td>\n",
       "    </tr>\n",
       "  </tbody>\n",
       "</table>\n",
       "</div>"
      ],
      "text/plain": [
       "          Nível 1 - Setor            Nível 2                          Nível 3  \\\n",
       "18  Processos Industriais  Indústria Química        Produção de Acrilonitrila   \n",
       "23  Processos Industriais  Indústria Química               Produção de Amônia   \n",
       "26  Processos Industriais  Indústria Química               Produção de Amônia   \n",
       "29  Processos Industriais  Indústria Química               Produção de Amônia   \n",
       "32  Processos Industriais  Indústria Química               Produção de Amônia   \n",
       "35  Processos Industriais  Indústria Química               Produção de Amônia   \n",
       "38  Processos Industriais  Indústria Química               Produção de Amônia   \n",
       "46  Processos Industriais  Indústria Química  Produção de Carbureto de Cálcio   \n",
       "49  Processos Industriais  Indústria Química    Produção de Cloreto de Vinila   \n",
       "56  Processos Industriais  Indústria Química                Produção de Eteno   \n",
       "\n",
       "   Nível 4 Nível 5 Nível 6 Emissão / Remoção / Bunker      Gás Estado  \\\n",
       "18     NaN     NaN     NaN                    Emissão  CO2 (t)     BA   \n",
       "23     NaN     NaN     NaN                    Emissão  CO2 (t)     RJ   \n",
       "26     NaN     NaN     NaN                    Emissão  CO2 (t)     MG   \n",
       "29     NaN     NaN     NaN                    Emissão  CO2 (t)     BA   \n",
       "32     NaN     NaN     NaN                    Emissão  CO2 (t)     SE   \n",
       "35     NaN     NaN     NaN                    Emissão  CO2 (t)     PR   \n",
       "38     NaN     NaN     NaN                    Emissão  CO2 (t)     SP   \n",
       "46     NaN     NaN     NaN                    Emissão  CO2 (t)    NaN   \n",
       "49     NaN     NaN     NaN                    Emissão  CO2 (t)    NaN   \n",
       "56     NaN     NaN     NaN                    Emissão  CO2 (t)    NaN   \n",
       "\n",
       "   Atividade Econômica Produto   Ano       Emissão  \n",
       "18           OUTRA_IND     NaN  1970      0.000000  \n",
       "23           OUTRA_IND     NaN  1970      0.000000  \n",
       "26           OUTRA_IND     NaN  1970      0.000000  \n",
       "29           OUTRA_IND     NaN  1970  10742.465792  \n",
       "32           OUTRA_IND     NaN  1970      0.000000  \n",
       "35           OUTRA_IND     NaN  1970      0.000000  \n",
       "38           OUTRA_IND     NaN  1970  31413.574208  \n",
       "46           OUTRA_IND     NaN  1970      0.000000  \n",
       "49           OUTRA_IND     NaN  1970  13994.400000  \n",
       "56           OUTRA_IND     NaN  1970     29.652200  "
      ]
     },
     "execution_count": 64,
     "metadata": {},
     "output_type": "execute_result"
    }
   ],
   "source": [
    "seeg_data_ano.groupby(\"Gás\").get_group(\"CO2 (t)\").head(10)"
   ]
  },
  {
   "cell_type": "code",
   "execution_count": 65,
   "metadata": {},
   "outputs": [
    {
     "data": {
      "text/html": [
       "<div>\n",
       "<style scoped>\n",
       "    .dataframe tbody tr th:only-of-type {\n",
       "        vertical-align: middle;\n",
       "    }\n",
       "\n",
       "    .dataframe tbody tr th {\n",
       "        vertical-align: top;\n",
       "    }\n",
       "\n",
       "    .dataframe thead th {\n",
       "        text-align: right;\n",
       "    }\n",
       "</style>\n",
       "<table border=\"1\" class=\"dataframe\">\n",
       "  <thead>\n",
       "    <tr style=\"text-align: right;\">\n",
       "      <th></th>\n",
       "      <th>Emissão</th>\n",
       "    </tr>\n",
       "    <tr>\n",
       "      <th>Gás</th>\n",
       "      <th></th>\n",
       "    </tr>\n",
       "  </thead>\n",
       "  <tbody>\n",
       "    <tr>\n",
       "      <th>C2F6 (t)</th>\n",
       "      <td>5.765018e+02</td>\n",
       "    </tr>\n",
       "    <tr>\n",
       "      <th>CF4 (t)</th>\n",
       "      <td>7.135481e+03</td>\n",
       "    </tr>\n",
       "    <tr>\n",
       "      <th>CH4 (t)</th>\n",
       "      <td>7.949268e+08</td>\n",
       "    </tr>\n",
       "    <tr>\n",
       "      <th>CO (t)</th>\n",
       "      <td>5.111531e+08</td>\n",
       "    </tr>\n",
       "    <tr>\n",
       "      <th>CO2 (t)</th>\n",
       "      <td>5.324636e+10</td>\n",
       "    </tr>\n",
       "    <tr>\n",
       "      <th>CO2e (t) GTP-AR2</th>\n",
       "      <td>6.344612e+10</td>\n",
       "    </tr>\n",
       "    <tr>\n",
       "      <th>CO2e (t) GTP-AR4</th>\n",
       "      <td>6.344612e+10</td>\n",
       "    </tr>\n",
       "    <tr>\n",
       "      <th>CO2e (t) GTP-AR5</th>\n",
       "      <td>6.182200e+10</td>\n",
       "    </tr>\n",
       "    <tr>\n",
       "      <th>CO2e (t) GTP-AR6</th>\n",
       "      <td>6.247859e+10</td>\n",
       "    </tr>\n",
       "    <tr>\n",
       "      <th>CO2e (t) GWP-AR2</th>\n",
       "      <td>7.720596e+10</td>\n",
       "    </tr>\n",
       "    <tr>\n",
       "      <th>CO2e (t) GWP-AR4</th>\n",
       "      <td>8.015921e+10</td>\n",
       "    </tr>\n",
       "    <tr>\n",
       "      <th>CO2e (t) GWP-AR5</th>\n",
       "      <td>8.181375e+10</td>\n",
       "    </tr>\n",
       "    <tr>\n",
       "      <th>CO2e (t) GWP-AR6</th>\n",
       "      <td>8.132316e+10</td>\n",
       "    </tr>\n",
       "    <tr>\n",
       "      <th>COVNM (t)</th>\n",
       "      <td>2.242130e+08</td>\n",
       "    </tr>\n",
       "    <tr>\n",
       "      <th>HFC-125 (t)</th>\n",
       "      <td>9.795580e+03</td>\n",
       "    </tr>\n",
       "    <tr>\n",
       "      <th>HFC-134a (t)</th>\n",
       "      <td>1.394731e+05</td>\n",
       "    </tr>\n",
       "    <tr>\n",
       "      <th>HFC-143a (t)</th>\n",
       "      <td>9.039400e+03</td>\n",
       "    </tr>\n",
       "    <tr>\n",
       "      <th>HFC-152a (t)</th>\n",
       "      <td>5.706000e+02</td>\n",
       "    </tr>\n",
       "    <tr>\n",
       "      <th>HFC-23 (t)</th>\n",
       "      <td>1.197840e+03</td>\n",
       "    </tr>\n",
       "    <tr>\n",
       "      <th>HFC-32 (t)</th>\n",
       "      <td>2.367750e+03</td>\n",
       "    </tr>\n",
       "    <tr>\n",
       "      <th>N2O (t)</th>\n",
       "      <td>2.240066e+07</td>\n",
       "    </tr>\n",
       "    <tr>\n",
       "      <th>NOx (t)</th>\n",
       "      <td>9.976123e+07</td>\n",
       "    </tr>\n",
       "    <tr>\n",
       "      <th>SF6 (t)</th>\n",
       "      <td>4.705800e+02</td>\n",
       "    </tr>\n",
       "  </tbody>\n",
       "</table>\n",
       "</div>"
      ],
      "text/plain": [
       "                       Emissão\n",
       "Gás                           \n",
       "C2F6 (t)          5.765018e+02\n",
       "CF4 (t)           7.135481e+03\n",
       "CH4 (t)           7.949268e+08\n",
       "CO (t)            5.111531e+08\n",
       "CO2 (t)           5.324636e+10\n",
       "CO2e (t) GTP-AR2  6.344612e+10\n",
       "CO2e (t) GTP-AR4  6.344612e+10\n",
       "CO2e (t) GTP-AR5  6.182200e+10\n",
       "CO2e (t) GTP-AR6  6.247859e+10\n",
       "CO2e (t) GWP-AR2  7.720596e+10\n",
       "CO2e (t) GWP-AR4  8.015921e+10\n",
       "CO2e (t) GWP-AR5  8.181375e+10\n",
       "CO2e (t) GWP-AR6  8.132316e+10\n",
       "COVNM (t)         2.242130e+08\n",
       "HFC-125 (t)       9.795580e+03\n",
       "HFC-134a (t)      1.394731e+05\n",
       "HFC-143a (t)      9.039400e+03\n",
       "HFC-152a (t)      5.706000e+02\n",
       "HFC-23 (t)        1.197840e+03\n",
       "HFC-32 (t)        2.367750e+03\n",
       "N2O (t)           2.240066e+07\n",
       "NOx (t)           9.976123e+07\n",
       "SF6 (t)           4.705800e+02"
      ]
     },
     "execution_count": 65,
     "metadata": {},
     "output_type": "execute_result"
    }
   ],
   "source": [
    "seeg_data_ano.groupby(\"Gás\")[[\"Emissão\"]].sum()"
   ]
  },
  {
   "cell_type": "code",
   "execution_count": 66,
   "metadata": {},
   "outputs": [
    {
     "data": {
      "text/html": [
       "<div>\n",
       "<style scoped>\n",
       "    .dataframe tbody tr th:only-of-type {\n",
       "        vertical-align: middle;\n",
       "    }\n",
       "\n",
       "    .dataframe tbody tr th {\n",
       "        vertical-align: top;\n",
       "    }\n",
       "\n",
       "    .dataframe thead th {\n",
       "        text-align: right;\n",
       "    }\n",
       "</style>\n",
       "<table border=\"1\" class=\"dataframe\">\n",
       "  <thead>\n",
       "    <tr style=\"text-align: right;\">\n",
       "      <th></th>\n",
       "      <th>Emissão</th>\n",
       "    </tr>\n",
       "    <tr>\n",
       "      <th>Gás</th>\n",
       "      <th></th>\n",
       "    </tr>\n",
       "  </thead>\n",
       "  <tbody>\n",
       "    <tr>\n",
       "      <th>CO2e (t) GWP-AR5</th>\n",
       "      <td>8.181375e+10</td>\n",
       "    </tr>\n",
       "    <tr>\n",
       "      <th>CO2e (t) GWP-AR6</th>\n",
       "      <td>8.132316e+10</td>\n",
       "    </tr>\n",
       "    <tr>\n",
       "      <th>CO2e (t) GWP-AR4</th>\n",
       "      <td>8.015921e+10</td>\n",
       "    </tr>\n",
       "    <tr>\n",
       "      <th>CO2e (t) GWP-AR2</th>\n",
       "      <td>7.720596e+10</td>\n",
       "    </tr>\n",
       "    <tr>\n",
       "      <th>CO2e (t) GTP-AR2</th>\n",
       "      <td>6.344612e+10</td>\n",
       "    </tr>\n",
       "    <tr>\n",
       "      <th>CO2e (t) GTP-AR4</th>\n",
       "      <td>6.344612e+10</td>\n",
       "    </tr>\n",
       "    <tr>\n",
       "      <th>CO2e (t) GTP-AR6</th>\n",
       "      <td>6.247859e+10</td>\n",
       "    </tr>\n",
       "    <tr>\n",
       "      <th>CO2e (t) GTP-AR5</th>\n",
       "      <td>6.182200e+10</td>\n",
       "    </tr>\n",
       "    <tr>\n",
       "      <th>CO2 (t)</th>\n",
       "      <td>5.324636e+10</td>\n",
       "    </tr>\n",
       "    <tr>\n",
       "      <th>CH4 (t)</th>\n",
       "      <td>7.949268e+08</td>\n",
       "    </tr>\n",
       "    <tr>\n",
       "      <th>CO (t)</th>\n",
       "      <td>5.111531e+08</td>\n",
       "    </tr>\n",
       "    <tr>\n",
       "      <th>COVNM (t)</th>\n",
       "      <td>2.242130e+08</td>\n",
       "    </tr>\n",
       "    <tr>\n",
       "      <th>NOx (t)</th>\n",
       "      <td>9.976123e+07</td>\n",
       "    </tr>\n",
       "    <tr>\n",
       "      <th>N2O (t)</th>\n",
       "      <td>2.240066e+07</td>\n",
       "    </tr>\n",
       "    <tr>\n",
       "      <th>HFC-134a (t)</th>\n",
       "      <td>1.394731e+05</td>\n",
       "    </tr>\n",
       "    <tr>\n",
       "      <th>HFC-125 (t)</th>\n",
       "      <td>9.795580e+03</td>\n",
       "    </tr>\n",
       "    <tr>\n",
       "      <th>HFC-143a (t)</th>\n",
       "      <td>9.039400e+03</td>\n",
       "    </tr>\n",
       "    <tr>\n",
       "      <th>CF4 (t)</th>\n",
       "      <td>7.135481e+03</td>\n",
       "    </tr>\n",
       "    <tr>\n",
       "      <th>HFC-32 (t)</th>\n",
       "      <td>2.367750e+03</td>\n",
       "    </tr>\n",
       "    <tr>\n",
       "      <th>HFC-23 (t)</th>\n",
       "      <td>1.197840e+03</td>\n",
       "    </tr>\n",
       "    <tr>\n",
       "      <th>C2F6 (t)</th>\n",
       "      <td>5.765018e+02</td>\n",
       "    </tr>\n",
       "    <tr>\n",
       "      <th>HFC-152a (t)</th>\n",
       "      <td>5.706000e+02</td>\n",
       "    </tr>\n",
       "    <tr>\n",
       "      <th>SF6 (t)</th>\n",
       "      <td>4.705800e+02</td>\n",
       "    </tr>\n",
       "  </tbody>\n",
       "</table>\n",
       "</div>"
      ],
      "text/plain": [
       "                       Emissão\n",
       "Gás                           \n",
       "CO2e (t) GWP-AR5  8.181375e+10\n",
       "CO2e (t) GWP-AR6  8.132316e+10\n",
       "CO2e (t) GWP-AR4  8.015921e+10\n",
       "CO2e (t) GWP-AR2  7.720596e+10\n",
       "CO2e (t) GTP-AR2  6.344612e+10\n",
       "CO2e (t) GTP-AR4  6.344612e+10\n",
       "CO2e (t) GTP-AR6  6.247859e+10\n",
       "CO2e (t) GTP-AR5  6.182200e+10\n",
       "CO2 (t)           5.324636e+10\n",
       "CH4 (t)           7.949268e+08\n",
       "CO (t)            5.111531e+08\n",
       "COVNM (t)         2.242130e+08\n",
       "NOx (t)           9.976123e+07\n",
       "N2O (t)           2.240066e+07\n",
       "HFC-134a (t)      1.394731e+05\n",
       "HFC-125 (t)       9.795580e+03\n",
       "HFC-143a (t)      9.039400e+03\n",
       "CF4 (t)           7.135481e+03\n",
       "HFC-32 (t)        2.367750e+03\n",
       "HFC-23 (t)        1.197840e+03\n",
       "C2F6 (t)          5.765018e+02\n",
       "HFC-152a (t)      5.706000e+02\n",
       "SF6 (t)           4.705800e+02"
      ]
     },
     "execution_count": 66,
     "metadata": {},
     "output_type": "execute_result"
    }
   ],
   "source": [
    "seeg_data_gas = (\n",
    "    seeg_data_ano.groupby(\"Gás\")[[\"Emissão\"]]\n",
    "    .sum()\n",
    "    .sort_values(\"Emissão\", ascending=False)\n",
    ")\n",
    "seeg_data_gas"
   ]
  },
  {
   "cell_type": "code",
   "execution_count": 67,
   "metadata": {},
   "outputs": [
    {
     "data": {
      "text/plain": [
       "<Axes: ylabel='Gás'>"
      ]
     },
     "execution_count": 67,
     "metadata": {},
     "output_type": "execute_result"
    },
    {
     "data": {
      "image/png": "[encoded data removed]",
      "text/plain": [
       "<Figure size 1000x600 with 1 Axes>"
      ]
     },
     "metadata": {},
     "output_type": "display_data"
    }
   ],
   "source": [
    "seeg_data_gas.plot(kind=\"barh\", figsize=(10, 6))"
   ]
  },
  {
   "cell_type": "code",
   "execution_count": 68,
   "metadata": {},
   "outputs": [
    {
     "data": {
      "text/html": [
       "<div>\n",
       "<style scoped>\n",
       "    .dataframe tbody tr th:only-of-type {\n",
       "        vertical-align: middle;\n",
       "    }\n",
       "\n",
       "    .dataframe tbody tr th {\n",
       "        vertical-align: top;\n",
       "    }\n",
       "\n",
       "    .dataframe thead th {\n",
       "        text-align: right;\n",
       "    }\n",
       "</style>\n",
       "<table border=\"1\" class=\"dataframe\">\n",
       "  <thead>\n",
       "    <tr style=\"text-align: right;\">\n",
       "      <th></th>\n",
       "      <th>Emissão</th>\n",
       "    </tr>\n",
       "    <tr>\n",
       "      <th>Gás</th>\n",
       "      <th></th>\n",
       "    </tr>\n",
       "  </thead>\n",
       "  <tbody>\n",
       "    <tr>\n",
       "      <th>CO2e (t) GWP-AR5</th>\n",
       "      <td>8.181375e+10</td>\n",
       "    </tr>\n",
       "    <tr>\n",
       "      <th>CO2e (t) GWP-AR6</th>\n",
       "      <td>8.132316e+10</td>\n",
       "    </tr>\n",
       "    <tr>\n",
       "      <th>CO2e (t) GWP-AR4</th>\n",
       "      <td>8.015921e+10</td>\n",
       "    </tr>\n",
       "    <tr>\n",
       "      <th>CO2e (t) GWP-AR2</th>\n",
       "      <td>7.720596e+10</td>\n",
       "    </tr>\n",
       "    <tr>\n",
       "      <th>CO2e (t) GTP-AR2</th>\n",
       "      <td>6.344612e+10</td>\n",
       "    </tr>\n",
       "    <tr>\n",
       "      <th>CO2e (t) GTP-AR4</th>\n",
       "      <td>6.344612e+10</td>\n",
       "    </tr>\n",
       "    <tr>\n",
       "      <th>CO2e (t) GTP-AR6</th>\n",
       "      <td>6.247859e+10</td>\n",
       "    </tr>\n",
       "    <tr>\n",
       "      <th>CO2e (t) GTP-AR5</th>\n",
       "      <td>6.182200e+10</td>\n",
       "    </tr>\n",
       "    <tr>\n",
       "      <th>CO2 (t)</th>\n",
       "      <td>5.324636e+10</td>\n",
       "    </tr>\n",
       "  </tbody>\n",
       "</table>\n",
       "</div>"
      ],
      "text/plain": [
       "                       Emissão\n",
       "Gás                           \n",
       "CO2e (t) GWP-AR5  8.181375e+10\n",
       "CO2e (t) GWP-AR6  8.132316e+10\n",
       "CO2e (t) GWP-AR4  8.015921e+10\n",
       "CO2e (t) GWP-AR2  7.720596e+10\n",
       "CO2e (t) GTP-AR2  6.344612e+10\n",
       "CO2e (t) GTP-AR4  6.344612e+10\n",
       "CO2e (t) GTP-AR6  6.247859e+10\n",
       "CO2e (t) GTP-AR5  6.182200e+10\n",
       "CO2 (t)           5.324636e+10"
      ]
     },
     "execution_count": 68,
     "metadata": {},
     "output_type": "execute_result"
    }
   ],
   "source": [
    "seeg_data_co2 = seeg_data_gas.iloc[0:9]\n",
    "seeg_data_co2"
   ]
  },
  {
   "cell_type": "code",
   "execution_count": 69,
   "metadata": {},
   "outputs": [
    {
     "data": {
      "text/plain": [
       "99.73625255007093"
      ]
     },
     "execution_count": 69,
     "metadata": {},
     "output_type": "execute_result"
    }
   ],
   "source": [
    "seeg_data_co2_percent = (seeg_data_co2.sum() / seeg_data_gas.sum()).iloc[0] * 100\n",
    "seeg_data_co2_percent"
   ]
  },
  {
   "cell_type": "code",
   "execution_count": 70,
   "metadata": {},
   "outputs": [
    {
     "data": {
      "text/html": [
       "<div>\n",
       "<style scoped>\n",
       "    .dataframe tbody tr th:only-of-type {\n",
       "        vertical-align: middle;\n",
       "    }\n",
       "\n",
       "    .dataframe tbody tr th {\n",
       "        vertical-align: top;\n",
       "    }\n",
       "\n",
       "    .dataframe thead th {\n",
       "        text-align: right;\n",
       "    }\n",
       "</style>\n",
       "<table border=\"1\" class=\"dataframe\">\n",
       "  <thead>\n",
       "    <tr style=\"text-align: right;\">\n",
       "      <th></th>\n",
       "      <th></th>\n",
       "      <th>Emissão</th>\n",
       "    </tr>\n",
       "    <tr>\n",
       "      <th>Gás</th>\n",
       "      <th>Nível 1 - Setor</th>\n",
       "      <th></th>\n",
       "    </tr>\n",
       "  </thead>\n",
       "  <tbody>\n",
       "    <tr>\n",
       "      <th>C2F6 (t)</th>\n",
       "      <th>Processos Industriais</th>\n",
       "      <td>5.765018e+02</td>\n",
       "    </tr>\n",
       "    <tr>\n",
       "      <th>CF4 (t)</th>\n",
       "      <th>Processos Industriais</th>\n",
       "      <td>7.135481e+03</td>\n",
       "    </tr>\n",
       "    <tr>\n",
       "      <th rowspan=\"5\" valign=\"top\">CH4 (t)</th>\n",
       "      <th>Agropecuária</th>\n",
       "      <td>5.928481e+08</td>\n",
       "    </tr>\n",
       "    <tr>\n",
       "      <th>Energia</th>\n",
       "      <td>3.429034e+07</td>\n",
       "    </tr>\n",
       "    <tr>\n",
       "      <th>Mudança de Uso da Terra e Floresta</th>\n",
       "      <td>8.662166e+07</td>\n",
       "    </tr>\n",
       "    <tr>\n",
       "      <th>Processos Industriais</th>\n",
       "      <td>2.092132e+06</td>\n",
       "    </tr>\n",
       "    <tr>\n",
       "      <th>Resíduos</th>\n",
       "      <td>7.907453e+07</td>\n",
       "    </tr>\n",
       "    <tr>\n",
       "      <th rowspan=\"3\" valign=\"top\">CO (t)</th>\n",
       "      <th>Agropecuária</th>\n",
       "      <td>7.132479e+07</td>\n",
       "    </tr>\n",
       "    <tr>\n",
       "      <th>Energia</th>\n",
       "      <td>3.959769e+08</td>\n",
       "    </tr>\n",
       "    <tr>\n",
       "      <th>Processos Industriais</th>\n",
       "      <td>4.385133e+07</td>\n",
       "    </tr>\n",
       "  </tbody>\n",
       "</table>\n",
       "</div>"
      ],
      "text/plain": [
       "                                                  Emissão\n",
       "Gás      Nível 1 - Setor                                 \n",
       "C2F6 (t) Processos Industriais               5.765018e+02\n",
       "CF4 (t)  Processos Industriais               7.135481e+03\n",
       "CH4 (t)  Agropecuária                        5.928481e+08\n",
       "         Energia                             3.429034e+07\n",
       "         Mudança de Uso da Terra e Floresta  8.662166e+07\n",
       "         Processos Industriais               2.092132e+06\n",
       "         Resíduos                            7.907453e+07\n",
       "CO (t)   Agropecuária                        7.132479e+07\n",
       "         Energia                             3.959769e+08\n",
       "         Processos Industriais               4.385133e+07"
      ]
     },
     "execution_count": 70,
     "metadata": {},
     "output_type": "execute_result"
    }
   ],
   "source": [
    "seeg_data_gas_setor = seeg_data_ano.groupby([\"Gás\", \"Nível 1 - Setor\"])[\n",
    "    [\"Emissão\"]\n",
    "].sum()\n",
    "seeg_data_gas_setor.head(10)"
   ]
  },
  {
   "cell_type": "code",
   "execution_count": 71,
   "metadata": {},
   "outputs": [
    {
     "data": {
      "text/html": [
       "<div>\n",
       "<style scoped>\n",
       "    .dataframe tbody tr th:only-of-type {\n",
       "        vertical-align: middle;\n",
       "    }\n",
       "\n",
       "    .dataframe tbody tr th {\n",
       "        vertical-align: top;\n",
       "    }\n",
       "\n",
       "    .dataframe thead th {\n",
       "        text-align: right;\n",
       "    }\n",
       "</style>\n",
       "<table border=\"1\" class=\"dataframe\">\n",
       "  <thead>\n",
       "    <tr style=\"text-align: right;\">\n",
       "      <th></th>\n",
       "      <th>Emissão</th>\n",
       "    </tr>\n",
       "    <tr>\n",
       "      <th>Nível 1 - Setor</th>\n",
       "      <th></th>\n",
       "    </tr>\n",
       "  </thead>\n",
       "  <tbody>\n",
       "    <tr>\n",
       "      <th>Agropecuária</th>\n",
       "      <td>5.411750e+08</td>\n",
       "    </tr>\n",
       "    <tr>\n",
       "      <th>Energia</th>\n",
       "      <td>1.261352e+10</td>\n",
       "    </tr>\n",
       "    <tr>\n",
       "      <th>Mudança de Uso da Terra e Floresta</th>\n",
       "      <td>3.733930e+10</td>\n",
       "    </tr>\n",
       "    <tr>\n",
       "      <th>Processos Industriais</th>\n",
       "      <td>2.729603e+09</td>\n",
       "    </tr>\n",
       "    <tr>\n",
       "      <th>Resíduos</th>\n",
       "      <td>2.276264e+07</td>\n",
       "    </tr>\n",
       "  </tbody>\n",
       "</table>\n",
       "</div>"
      ],
      "text/plain": [
       "                                         Emissão\n",
       "Nível 1 - Setor                                 \n",
       "Agropecuária                        5.411750e+08\n",
       "Energia                             1.261352e+10\n",
       "Mudança de Uso da Terra e Floresta  3.733930e+10\n",
       "Processos Industriais               2.729603e+09\n",
       "Resíduos                            2.276264e+07"
      ]
     },
     "execution_count": 71,
     "metadata": {},
     "output_type": "execute_result"
    }
   ],
   "source": [
    "seeg_data_gas_setor.xs(\"CO2 (t)\", level=0)"
   ]
  },
  {
   "cell_type": "code",
   "execution_count": 72,
   "metadata": {},
   "outputs": [
    {
     "data": {
      "text/html": [
       "<div>\n",
       "<style scoped>\n",
       "    .dataframe tbody tr th:only-of-type {\n",
       "        vertical-align: middle;\n",
       "    }\n",
       "\n",
       "    .dataframe tbody tr th {\n",
       "        vertical-align: top;\n",
       "    }\n",
       "\n",
       "    .dataframe thead th {\n",
       "        text-align: right;\n",
       "    }\n",
       "</style>\n",
       "<table border=\"1\" class=\"dataframe\">\n",
       "  <thead>\n",
       "    <tr style=\"text-align: right;\">\n",
       "      <th></th>\n",
       "      <th></th>\n",
       "      <th>Emissão</th>\n",
       "    </tr>\n",
       "    <tr>\n",
       "      <th>Gás</th>\n",
       "      <th>Nível 1 - Setor</th>\n",
       "      <th></th>\n",
       "    </tr>\n",
       "  </thead>\n",
       "  <tbody>\n",
       "    <tr>\n",
       "      <th>CO2 (t)</th>\n",
       "      <th>Energia</th>\n",
       "      <td>1.261352e+10</td>\n",
       "    </tr>\n",
       "  </tbody>\n",
       "</table>\n",
       "</div>"
      ],
      "text/plain": [
       "                              Emissão\n",
       "Gás     Nível 1 - Setor              \n",
       "CO2 (t) Energia          1.261352e+10"
      ]
     },
     "execution_count": 72,
     "metadata": {},
     "output_type": "execute_result"
    }
   ],
   "source": [
    "seeg_data_gas_setor.xs((\"CO2 (t)\", \"Energia\"), level=[0, 1])"
   ]
  },
  {
   "cell_type": "code",
   "execution_count": 73,
   "metadata": {},
   "outputs": [
    {
     "data": {
      "text/plain": [
       "Emissão    Mudança de Uso da Terra e Floresta\n",
       "dtype: object"
      ]
     },
     "execution_count": 73,
     "metadata": {},
     "output_type": "execute_result"
    }
   ],
   "source": [
    "seeg_data_gas_setor.xs(\"CO2 (t)\", level=0).idxmax()"
   ]
  },
  {
   "cell_type": "code",
   "execution_count": 74,
   "metadata": {},
   "outputs": [
    {
     "data": {
      "text/html": [
       "<div>\n",
       "<style scoped>\n",
       "    .dataframe tbody tr th:only-of-type {\n",
       "        vertical-align: middle;\n",
       "    }\n",
       "\n",
       "    .dataframe tbody tr th {\n",
       "        vertical-align: top;\n",
       "    }\n",
       "\n",
       "    .dataframe thead th {\n",
       "        text-align: right;\n",
       "    }\n",
       "</style>\n",
       "<table border=\"1\" class=\"dataframe\">\n",
       "  <thead>\n",
       "    <tr style=\"text-align: right;\">\n",
       "      <th></th>\n",
       "      <th>Emissão</th>\n",
       "    </tr>\n",
       "    <tr>\n",
       "      <th>Gás</th>\n",
       "      <th></th>\n",
       "    </tr>\n",
       "  </thead>\n",
       "  <tbody>\n",
       "    <tr>\n",
       "      <th>C2F6 (t)</th>\n",
       "      <td>(C2F6 (t), Processos Industriais)</td>\n",
       "    </tr>\n",
       "    <tr>\n",
       "      <th>CF4 (t)</th>\n",
       "      <td>(CF4 (t), Processos Industriais)</td>\n",
       "    </tr>\n",
       "    <tr>\n",
       "      <th>CH4 (t)</th>\n",
       "      <td>(CH4 (t), Agropecuária)</td>\n",
       "    </tr>\n",
       "    <tr>\n",
       "      <th>CO (t)</th>\n",
       "      <td>(CO (t), Energia)</td>\n",
       "    </tr>\n",
       "    <tr>\n",
       "      <th>CO2 (t)</th>\n",
       "      <td>(CO2 (t), Mudança de Uso da Terra e Floresta)</td>\n",
       "    </tr>\n",
       "    <tr>\n",
       "      <th>CO2e (t) GTP-AR2</th>\n",
       "      <td>(CO2e (t) GTP-AR2, Mudança de Uso da Terra e F...</td>\n",
       "    </tr>\n",
       "    <tr>\n",
       "      <th>CO2e (t) GTP-AR4</th>\n",
       "      <td>(CO2e (t) GTP-AR4, Mudança de Uso da Terra e F...</td>\n",
       "    </tr>\n",
       "    <tr>\n",
       "      <th>CO2e (t) GTP-AR5</th>\n",
       "      <td>(CO2e (t) GTP-AR5, Mudança de Uso da Terra e F...</td>\n",
       "    </tr>\n",
       "    <tr>\n",
       "      <th>CO2e (t) GTP-AR6</th>\n",
       "      <td>(CO2e (t) GTP-AR6, Mudança de Uso da Terra e F...</td>\n",
       "    </tr>\n",
       "    <tr>\n",
       "      <th>CO2e (t) GWP-AR2</th>\n",
       "      <td>(CO2e (t) GWP-AR2, Mudança de Uso da Terra e F...</td>\n",
       "    </tr>\n",
       "    <tr>\n",
       "      <th>CO2e (t) GWP-AR4</th>\n",
       "      <td>(CO2e (t) GWP-AR4, Mudança de Uso da Terra e F...</td>\n",
       "    </tr>\n",
       "    <tr>\n",
       "      <th>CO2e (t) GWP-AR5</th>\n",
       "      <td>(CO2e (t) GWP-AR5, Mudança de Uso da Terra e F...</td>\n",
       "    </tr>\n",
       "    <tr>\n",
       "      <th>CO2e (t) GWP-AR6</th>\n",
       "      <td>(CO2e (t) GWP-AR6, Mudança de Uso da Terra e F...</td>\n",
       "    </tr>\n",
       "    <tr>\n",
       "      <th>COVNM (t)</th>\n",
       "      <td>(COVNM (t), Processos Industriais)</td>\n",
       "    </tr>\n",
       "    <tr>\n",
       "      <th>HFC-125 (t)</th>\n",
       "      <td>(HFC-125 (t), Processos Industriais)</td>\n",
       "    </tr>\n",
       "    <tr>\n",
       "      <th>HFC-134a (t)</th>\n",
       "      <td>(HFC-134a (t), Processos Industriais)</td>\n",
       "    </tr>\n",
       "    <tr>\n",
       "      <th>HFC-143a (t)</th>\n",
       "      <td>(HFC-143a (t), Processos Industriais)</td>\n",
       "    </tr>\n",
       "    <tr>\n",
       "      <th>HFC-152a (t)</th>\n",
       "      <td>(HFC-152a (t), Processos Industriais)</td>\n",
       "    </tr>\n",
       "    <tr>\n",
       "      <th>HFC-23 (t)</th>\n",
       "      <td>(HFC-23 (t), Processos Industriais)</td>\n",
       "    </tr>\n",
       "    <tr>\n",
       "      <th>HFC-32 (t)</th>\n",
       "      <td>(HFC-32 (t), Processos Industriais)</td>\n",
       "    </tr>\n",
       "    <tr>\n",
       "      <th>N2O (t)</th>\n",
       "      <td>(N2O (t), Agropecuária)</td>\n",
       "    </tr>\n",
       "    <tr>\n",
       "      <th>NOx (t)</th>\n",
       "      <td>(NOx (t), Energia)</td>\n",
       "    </tr>\n",
       "    <tr>\n",
       "      <th>SF6 (t)</th>\n",
       "      <td>(SF6 (t), Processos Industriais)</td>\n",
       "    </tr>\n",
       "  </tbody>\n",
       "</table>\n",
       "</div>"
      ],
      "text/plain": [
       "                                                            Emissão\n",
       "Gás                                                                \n",
       "C2F6 (t)                          (C2F6 (t), Processos Industriais)\n",
       "CF4 (t)                            (CF4 (t), Processos Industriais)\n",
       "CH4 (t)                                     (CH4 (t), Agropecuária)\n",
       "CO (t)                                            (CO (t), Energia)\n",
       "CO2 (t)               (CO2 (t), Mudança de Uso da Terra e Floresta)\n",
       "CO2e (t) GTP-AR2  (CO2e (t) GTP-AR2, Mudança de Uso da Terra e F...\n",
       "CO2e (t) GTP-AR4  (CO2e (t) GTP-AR4, Mudança de Uso da Terra e F...\n",
       "CO2e (t) GTP-AR5  (CO2e (t) GTP-AR5, Mudança de Uso da Terra e F...\n",
       "CO2e (t) GTP-AR6  (CO2e (t) GTP-AR6, Mudança de Uso da Terra e F...\n",
       "CO2e (t) GWP-AR2  (CO2e (t) GWP-AR2, Mudança de Uso da Terra e F...\n",
       "CO2e (t) GWP-AR4  (CO2e (t) GWP-AR4, Mudança de Uso da Terra e F...\n",
       "CO2e (t) GWP-AR5  (CO2e (t) GWP-AR5, Mudança de Uso da Terra e F...\n",
       "CO2e (t) GWP-AR6  (CO2e (t) GWP-AR6, Mudança de Uso da Terra e F...\n",
       "COVNM (t)                        (COVNM (t), Processos Industriais)\n",
       "HFC-125 (t)                    (HFC-125 (t), Processos Industriais)\n",
       "HFC-134a (t)                  (HFC-134a (t), Processos Industriais)\n",
       "HFC-143a (t)                  (HFC-143a (t), Processos Industriais)\n",
       "HFC-152a (t)                  (HFC-152a (t), Processos Industriais)\n",
       "HFC-23 (t)                      (HFC-23 (t), Processos Industriais)\n",
       "HFC-32 (t)                      (HFC-32 (t), Processos Industriais)\n",
       "N2O (t)                                     (N2O (t), Agropecuária)\n",
       "NOx (t)                                          (NOx (t), Energia)\n",
       "SF6 (t)                            (SF6 (t), Processos Industriais)"
      ]
     },
     "execution_count": 74,
     "metadata": {},
     "output_type": "execute_result"
    }
   ],
   "source": [
    "seeg_data_gas_setor.groupby(level=0).idxmax()"
   ]
  },
  {
   "cell_type": "code",
   "execution_count": 75,
   "metadata": {},
   "outputs": [],
   "source": [
    "max_values = seeg_data_gas_setor.groupby(level=0).max().values"
   ]
  },
  {
   "cell_type": "code",
   "execution_count": 76,
   "metadata": {},
   "outputs": [
    {
     "data": {
      "text/html": [
       "<div>\n",
       "<style scoped>\n",
       "    .dataframe tbody tr th:only-of-type {\n",
       "        vertical-align: middle;\n",
       "    }\n",
       "\n",
       "    .dataframe tbody tr th {\n",
       "        vertical-align: top;\n",
       "    }\n",
       "\n",
       "    .dataframe thead th {\n",
       "        text-align: right;\n",
       "    }\n",
       "</style>\n",
       "<table border=\"1\" class=\"dataframe\">\n",
       "  <thead>\n",
       "    <tr style=\"text-align: right;\">\n",
       "      <th></th>\n",
       "      <th>Emissão</th>\n",
       "      <th>Total</th>\n",
       "    </tr>\n",
       "    <tr>\n",
       "      <th>Gás</th>\n",
       "      <th></th>\n",
       "      <th></th>\n",
       "    </tr>\n",
       "  </thead>\n",
       "  <tbody>\n",
       "    <tr>\n",
       "      <th>C2F6 (t)</th>\n",
       "      <td>(C2F6 (t), Processos Industriais)</td>\n",
       "      <td>5.765018e+02</td>\n",
       "    </tr>\n",
       "    <tr>\n",
       "      <th>CF4 (t)</th>\n",
       "      <td>(CF4 (t), Processos Industriais)</td>\n",
       "      <td>7.135481e+03</td>\n",
       "    </tr>\n",
       "    <tr>\n",
       "      <th>CH4 (t)</th>\n",
       "      <td>(CH4 (t), Agropecuária)</td>\n",
       "      <td>5.928481e+08</td>\n",
       "    </tr>\n",
       "    <tr>\n",
       "      <th>CO (t)</th>\n",
       "      <td>(CO (t), Energia)</td>\n",
       "      <td>3.959769e+08</td>\n",
       "    </tr>\n",
       "    <tr>\n",
       "      <th>CO2 (t)</th>\n",
       "      <td>(CO2 (t), Mudança de Uso da Terra e Floresta)</td>\n",
       "      <td>3.733930e+10</td>\n",
       "    </tr>\n",
       "    <tr>\n",
       "      <th>CO2e (t) GTP-AR2</th>\n",
       "      <td>(CO2e (t) GTP-AR2, Mudança de Uso da Terra e F...</td>\n",
       "      <td>3.850044e+10</td>\n",
       "    </tr>\n",
       "    <tr>\n",
       "      <th>CO2e (t) GTP-AR4</th>\n",
       "      <td>(CO2e (t) GTP-AR4, Mudança de Uso da Terra e F...</td>\n",
       "      <td>3.850044e+10</td>\n",
       "    </tr>\n",
       "    <tr>\n",
       "      <th>CO2e (t) GTP-AR5</th>\n",
       "      <td>(CO2e (t) GTP-AR5, Mudança de Uso da Terra e F...</td>\n",
       "      <td>3.831675e+10</td>\n",
       "    </tr>\n",
       "    <tr>\n",
       "      <th>CO2e (t) GTP-AR6</th>\n",
       "      <td>(CO2e (t) GTP-AR6, Mudança de Uso da Terra e F...</td>\n",
       "      <td>3.843359e+10</td>\n",
       "    </tr>\n",
       "    <tr>\n",
       "      <th>CO2e (t) GWP-AR2</th>\n",
       "      <td>(CO2e (t) GWP-AR2, Mudança de Uso da Terra e F...</td>\n",
       "      <td>3.999424e+10</td>\n",
       "    </tr>\n",
       "    <tr>\n",
       "      <th>CO2e (t) GWP-AR4</th>\n",
       "      <td>(CO2e (t) GWP-AR4, Mudança de Uso da Terra e F...</td>\n",
       "      <td>4.030837e+10</td>\n",
       "    </tr>\n",
       "    <tr>\n",
       "      <th>CO2e (t) GWP-AR5</th>\n",
       "      <td>(CO2e (t) GWP-AR5, Mudança de Uso da Terra e F...</td>\n",
       "      <td>4.051523e+10</td>\n",
       "    </tr>\n",
       "    <tr>\n",
       "      <th>CO2e (t) GWP-AR6</th>\n",
       "      <td>(CO2e (t) GWP-AR6, Mudança de Uso da Terra e F...</td>\n",
       "      <td>4.049216e+10</td>\n",
       "    </tr>\n",
       "    <tr>\n",
       "      <th>COVNM (t)</th>\n",
       "      <td>(COVNM (t), Processos Industriais)</td>\n",
       "      <td>1.608623e+08</td>\n",
       "    </tr>\n",
       "    <tr>\n",
       "      <th>HFC-125 (t)</th>\n",
       "      <td>(HFC-125 (t), Processos Industriais)</td>\n",
       "      <td>9.795580e+03</td>\n",
       "    </tr>\n",
       "    <tr>\n",
       "      <th>HFC-134a (t)</th>\n",
       "      <td>(HFC-134a (t), Processos Industriais)</td>\n",
       "      <td>1.394731e+05</td>\n",
       "    </tr>\n",
       "    <tr>\n",
       "      <th>HFC-143a (t)</th>\n",
       "      <td>(HFC-143a (t), Processos Industriais)</td>\n",
       "      <td>9.039400e+03</td>\n",
       "    </tr>\n",
       "    <tr>\n",
       "      <th>HFC-152a (t)</th>\n",
       "      <td>(HFC-152a (t), Processos Industriais)</td>\n",
       "      <td>5.706000e+02</td>\n",
       "    </tr>\n",
       "    <tr>\n",
       "      <th>HFC-23 (t)</th>\n",
       "      <td>(HFC-23 (t), Processos Industriais)</td>\n",
       "      <td>1.197840e+03</td>\n",
       "    </tr>\n",
       "    <tr>\n",
       "      <th>HFC-32 (t)</th>\n",
       "      <td>(HFC-32 (t), Processos Industriais)</td>\n",
       "      <td>2.367750e+03</td>\n",
       "    </tr>\n",
       "    <tr>\n",
       "      <th>N2O (t)</th>\n",
       "      <td>(N2O (t), Agropecuária)</td>\n",
       "      <td>1.774702e+07</td>\n",
       "    </tr>\n",
       "    <tr>\n",
       "      <th>NOx (t)</th>\n",
       "      <td>(NOx (t), Energia)</td>\n",
       "      <td>9.361215e+07</td>\n",
       "    </tr>\n",
       "    <tr>\n",
       "      <th>SF6 (t)</th>\n",
       "      <td>(SF6 (t), Processos Industriais)</td>\n",
       "      <td>4.705800e+02</td>\n",
       "    </tr>\n",
       "  </tbody>\n",
       "</table>\n",
       "</div>"
      ],
      "text/plain": [
       "                                                            Emissão  \\\n",
       "Gás                                                                   \n",
       "C2F6 (t)                          (C2F6 (t), Processos Industriais)   \n",
       "CF4 (t)                            (CF4 (t), Processos Industriais)   \n",
       "CH4 (t)                                     (CH4 (t), Agropecuária)   \n",
       "CO (t)                                            (CO (t), Energia)   \n",
       "CO2 (t)               (CO2 (t), Mudança de Uso da Terra e Floresta)   \n",
       "CO2e (t) GTP-AR2  (CO2e (t) GTP-AR2, Mudança de Uso da Terra e F...   \n",
       "CO2e (t) GTP-AR4  (CO2e (t) GTP-AR4, Mudança de Uso da Terra e F...   \n",
       "CO2e (t) GTP-AR5  (CO2e (t) GTP-AR5, Mudança de Uso da Terra e F...   \n",
       "CO2e (t) GTP-AR6  (CO2e (t) GTP-AR6, Mudança de Uso da Terra e F...   \n",
       "CO2e (t) GWP-AR2  (CO2e (t) GWP-AR2, Mudança de Uso da Terra e F...   \n",
       "CO2e (t) GWP-AR4  (CO2e (t) GWP-AR4, Mudança de Uso da Terra e F...   \n",
       "CO2e (t) GWP-AR5  (CO2e (t) GWP-AR5, Mudança de Uso da Terra e F...   \n",
       "CO2e (t) GWP-AR6  (CO2e (t) GWP-AR6, Mudança de Uso da Terra e F...   \n",
       "COVNM (t)                        (COVNM (t), Processos Industriais)   \n",
       "HFC-125 (t)                    (HFC-125 (t), Processos Industriais)   \n",
       "HFC-134a (t)                  (HFC-134a (t), Processos Industriais)   \n",
       "HFC-143a (t)                  (HFC-143a (t), Processos Industriais)   \n",
       "HFC-152a (t)                  (HFC-152a (t), Processos Industriais)   \n",
       "HFC-23 (t)                      (HFC-23 (t), Processos Industriais)   \n",
       "HFC-32 (t)                      (HFC-32 (t), Processos Industriais)   \n",
       "N2O (t)                                     (N2O (t), Agropecuária)   \n",
       "NOx (t)                                          (NOx (t), Energia)   \n",
       "SF6 (t)                            (SF6 (t), Processos Industriais)   \n",
       "\n",
       "                         Total  \n",
       "Gás                             \n",
       "C2F6 (t)          5.765018e+02  \n",
       "CF4 (t)           7.135481e+03  \n",
       "CH4 (t)           5.928481e+08  \n",
       "CO (t)            3.959769e+08  \n",
       "CO2 (t)           3.733930e+10  \n",
       "CO2e (t) GTP-AR2  3.850044e+10  \n",
       "CO2e (t) GTP-AR4  3.850044e+10  \n",
       "CO2e (t) GTP-AR5  3.831675e+10  \n",
       "CO2e (t) GTP-AR6  3.843359e+10  \n",
       "CO2e (t) GWP-AR2  3.999424e+10  \n",
       "CO2e (t) GWP-AR4  4.030837e+10  \n",
       "CO2e (t) GWP-AR5  4.051523e+10  \n",
       "CO2e (t) GWP-AR6  4.049216e+10  \n",
       "COVNM (t)         1.608623e+08  \n",
       "HFC-125 (t)       9.795580e+03  \n",
       "HFC-134a (t)      1.394731e+05  \n",
       "HFC-143a (t)      9.039400e+03  \n",
       "HFC-152a (t)      5.706000e+02  \n",
       "HFC-23 (t)        1.197840e+03  \n",
       "HFC-32 (t)        2.367750e+03  \n",
       "N2O (t)           1.774702e+07  \n",
       "NOx (t)           9.361215e+07  \n",
       "SF6 (t)           4.705800e+02  "
      ]
     },
     "execution_count": 76,
     "metadata": {},
     "output_type": "execute_result"
    }
   ],
   "source": [
    "new_table = seeg_data_gas_setor.groupby(level=0).idxmax()\n",
    "new_table.insert(1, \"Total\", max_values)\n",
    "new_table"
   ]
  },
  {
   "cell_type": "code",
   "execution_count": 77,
   "metadata": {},
   "outputs": [
    {
     "data": {
      "text/html": [
       "<div>\n",
       "<style scoped>\n",
       "    .dataframe tbody tr th:only-of-type {\n",
       "        vertical-align: middle;\n",
       "    }\n",
       "\n",
       "    .dataframe tbody tr th {\n",
       "        vertical-align: top;\n",
       "    }\n",
       "\n",
       "    .dataframe thead th {\n",
       "        text-align: right;\n",
       "    }\n",
       "</style>\n",
       "<table border=\"1\" class=\"dataframe\">\n",
       "  <thead>\n",
       "    <tr style=\"text-align: right;\">\n",
       "      <th></th>\n",
       "      <th>Emissão</th>\n",
       "    </tr>\n",
       "    <tr>\n",
       "      <th>Nível 1 - Setor</th>\n",
       "      <th></th>\n",
       "    </tr>\n",
       "  </thead>\n",
       "  <tbody>\n",
       "    <tr>\n",
       "      <th>Agropecuária</th>\n",
       "      <td>(Agropecuária, CO2e (t) GWP-AR5)</td>\n",
       "    </tr>\n",
       "    <tr>\n",
       "      <th>Energia</th>\n",
       "      <td>(Energia, CO2e (t) GWP-AR6)</td>\n",
       "    </tr>\n",
       "    <tr>\n",
       "      <th>Mudança de Uso da Terra e Floresta</th>\n",
       "      <td>(Mudança de Uso da Terra e Floresta, CO2e (t) ...</td>\n",
       "    </tr>\n",
       "    <tr>\n",
       "      <th>Processos Industriais</th>\n",
       "      <td>(Processos Industriais, CO2e (t) GWP-AR6)</td>\n",
       "    </tr>\n",
       "    <tr>\n",
       "      <th>Resíduos</th>\n",
       "      <td>(Resíduos , CO2e (t) GWP-AR5)</td>\n",
       "    </tr>\n",
       "  </tbody>\n",
       "</table>\n",
       "</div>"
      ],
      "text/plain": [
       "                                                                              Emissão\n",
       "Nível 1 - Setor                                                                      \n",
       "Agropecuária                                         (Agropecuária, CO2e (t) GWP-AR5)\n",
       "Energia                                                   (Energia, CO2e (t) GWP-AR6)\n",
       "Mudança de Uso da Terra e Floresta  (Mudança de Uso da Terra e Floresta, CO2e (t) ...\n",
       "Processos Industriais                       (Processos Industriais, CO2e (t) GWP-AR6)\n",
       "Resíduos                                                (Resíduos , CO2e (t) GWP-AR5)"
      ]
     },
     "execution_count": 77,
     "metadata": {},
     "output_type": "execute_result"
    }
   ],
   "source": [
    "seeg_data_gas_setor.swaplevel(0, 1).groupby(level=0).idxmax()"
   ]
  },
  {
   "cell_type": "code",
   "execution_count": null,
   "metadata": {},
   "outputs": [],
   "source": [
    "# PLOT DATA"
   ]
  },
  {
   "cell_type": "code",
   "execution_count": 78,
   "metadata": {},
   "outputs": [
    {
     "data": {
      "text/plain": [
       "<Axes: xlabel='Ano'>"
      ]
     },
     "execution_count": 78,
     "metadata": {},
     "output_type": "execute_result"
    },
    {
     "data": {
      "image/png": "[encoded data removed]",
      "text/plain": [
       "<Figure size 1000x600 with 1 Axes>"
      ]
     },
     "metadata": {},
     "output_type": "display_data"
    }
   ],
   "source": [
    "seeg_data_ano.groupby(\"Ano\")[[\"Emissão\"]].mean().plot(figsize=(10, 6))"
   ]
  },
  {
   "cell_type": "code",
   "execution_count": 79,
   "metadata": {},
   "outputs": [
    {
     "data": {
      "text/plain": [
       "Emissão    2003\n",
       "dtype: int64"
      ]
     },
     "execution_count": 79,
     "metadata": {},
     "output_type": "execute_result"
    }
   ],
   "source": [
    "seeg_data_ano.groupby(\"Ano\")[[\"Emissão\"]].mean().idxmax()"
   ]
  },
  {
   "cell_type": "code",
   "execution_count": 80,
   "metadata": {},
   "outputs": [
    {
     "data": {
      "text/html": [
       "<div>\n",
       "<style scoped>\n",
       "    .dataframe tbody tr th:only-of-type {\n",
       "        vertical-align: middle;\n",
       "    }\n",
       "\n",
       "    .dataframe tbody tr th {\n",
       "        vertical-align: top;\n",
       "    }\n",
       "\n",
       "    .dataframe thead th {\n",
       "        text-align: right;\n",
       "    }\n",
       "</style>\n",
       "<table border=\"1\" class=\"dataframe\">\n",
       "  <thead>\n",
       "    <tr style=\"text-align: right;\">\n",
       "      <th></th>\n",
       "      <th></th>\n",
       "      <th>Emissão</th>\n",
       "    </tr>\n",
       "    <tr>\n",
       "      <th>Ano</th>\n",
       "      <th>Gás</th>\n",
       "      <th></th>\n",
       "    </tr>\n",
       "  </thead>\n",
       "  <tbody>\n",
       "    <tr>\n",
       "      <th rowspan=\"5\" valign=\"top\">1970</th>\n",
       "      <th>C2F6 (t)</th>\n",
       "      <td>0.232610</td>\n",
       "    </tr>\n",
       "    <tr>\n",
       "      <th>CF4 (t)</th>\n",
       "      <td>3.557421</td>\n",
       "    </tr>\n",
       "    <tr>\n",
       "      <th>CH4 (t)</th>\n",
       "      <td>1471.024024</td>\n",
       "    </tr>\n",
       "    <tr>\n",
       "      <th>CO (t)</th>\n",
       "      <td>2155.556658</td>\n",
       "    </tr>\n",
       "    <tr>\n",
       "      <th>CO2 (t)</th>\n",
       "      <td>19244.913199</td>\n",
       "    </tr>\n",
       "    <tr>\n",
       "      <th>...</th>\n",
       "      <th>...</th>\n",
       "      <td>...</td>\n",
       "    </tr>\n",
       "    <tr>\n",
       "      <th rowspan=\"5\" valign=\"top\">2021</th>\n",
       "      <th>HFC-23 (t)</th>\n",
       "      <td>0.000000</td>\n",
       "    </tr>\n",
       "    <tr>\n",
       "      <th>HFC-32 (t)</th>\n",
       "      <td>261.100000</td>\n",
       "    </tr>\n",
       "    <tr>\n",
       "      <th>N2O (t)</th>\n",
       "      <td>119.295311</td>\n",
       "    </tr>\n",
       "    <tr>\n",
       "      <th>NOx (t)</th>\n",
       "      <td>679.395431</td>\n",
       "    </tr>\n",
       "    <tr>\n",
       "      <th>SF6 (t)</th>\n",
       "      <td>5.240000</td>\n",
       "    </tr>\n",
       "  </tbody>\n",
       "</table>\n",
       "<p>1196 rows × 1 columns</p>\n",
       "</div>"
      ],
      "text/plain": [
       "                      Emissão\n",
       "Ano  Gás                     \n",
       "1970 C2F6 (t)        0.232610\n",
       "     CF4 (t)         3.557421\n",
       "     CH4 (t)      1471.024024\n",
       "     CO (t)       2155.556658\n",
       "     CO2 (t)     19244.913199\n",
       "...                       ...\n",
       "2021 HFC-23 (t)      0.000000\n",
       "     HFC-32 (t)    261.100000\n",
       "     N2O (t)       119.295311\n",
       "     NOx (t)       679.395431\n",
       "     SF6 (t)         5.240000\n",
       "\n",
       "[1196 rows x 1 columns]"
      ]
     },
     "execution_count": 80,
     "metadata": {},
     "output_type": "execute_result"
    }
   ],
   "source": [
    "seeg_data_ano.groupby([\"Ano\", \"Gás\"])[[\"Emissão\"]].mean()"
   ]
  },
  {
   "cell_type": "code",
   "execution_count": 81,
   "metadata": {},
   "outputs": [
    {
     "data": {
      "text/html": [
       "<div>\n",
       "<style scoped>\n",
       "    .dataframe tbody tr th:only-of-type {\n",
       "        vertical-align: middle;\n",
       "    }\n",
       "\n",
       "    .dataframe tbody tr th {\n",
       "        vertical-align: top;\n",
       "    }\n",
       "\n",
       "    .dataframe thead th {\n",
       "        text-align: right;\n",
       "    }\n",
       "</style>\n",
       "<table border=\"1\" class=\"dataframe\">\n",
       "  <thead>\n",
       "    <tr style=\"text-align: right;\">\n",
       "      <th></th>\n",
       "      <th>Ano</th>\n",
       "      <th>Gás</th>\n",
       "      <th>Emissão</th>\n",
       "    </tr>\n",
       "  </thead>\n",
       "  <tbody>\n",
       "    <tr>\n",
       "      <th>0</th>\n",
       "      <td>1970</td>\n",
       "      <td>C2F6 (t)</td>\n",
       "      <td>0.232610</td>\n",
       "    </tr>\n",
       "    <tr>\n",
       "      <th>1</th>\n",
       "      <td>1970</td>\n",
       "      <td>CF4 (t)</td>\n",
       "      <td>3.557421</td>\n",
       "    </tr>\n",
       "    <tr>\n",
       "      <th>2</th>\n",
       "      <td>1970</td>\n",
       "      <td>CH4 (t)</td>\n",
       "      <td>1471.024024</td>\n",
       "    </tr>\n",
       "    <tr>\n",
       "      <th>3</th>\n",
       "      <td>1970</td>\n",
       "      <td>CO (t)</td>\n",
       "      <td>2155.556658</td>\n",
       "    </tr>\n",
       "    <tr>\n",
       "      <th>4</th>\n",
       "      <td>1970</td>\n",
       "      <td>CO2 (t)</td>\n",
       "      <td>19244.913199</td>\n",
       "    </tr>\n",
       "    <tr>\n",
       "      <th>...</th>\n",
       "      <td>...</td>\n",
       "      <td>...</td>\n",
       "      <td>...</td>\n",
       "    </tr>\n",
       "    <tr>\n",
       "      <th>1191</th>\n",
       "      <td>2021</td>\n",
       "      <td>HFC-23 (t)</td>\n",
       "      <td>0.000000</td>\n",
       "    </tr>\n",
       "    <tr>\n",
       "      <th>1192</th>\n",
       "      <td>2021</td>\n",
       "      <td>HFC-32 (t)</td>\n",
       "      <td>261.100000</td>\n",
       "    </tr>\n",
       "    <tr>\n",
       "      <th>1193</th>\n",
       "      <td>2021</td>\n",
       "      <td>N2O (t)</td>\n",
       "      <td>119.295311</td>\n",
       "    </tr>\n",
       "    <tr>\n",
       "      <th>1194</th>\n",
       "      <td>2021</td>\n",
       "      <td>NOx (t)</td>\n",
       "      <td>679.395431</td>\n",
       "    </tr>\n",
       "    <tr>\n",
       "      <th>1195</th>\n",
       "      <td>2021</td>\n",
       "      <td>SF6 (t)</td>\n",
       "      <td>5.240000</td>\n",
       "    </tr>\n",
       "  </tbody>\n",
       "</table>\n",
       "<p>1196 rows × 3 columns</p>\n",
       "</div>"
      ],
      "text/plain": [
       "       Ano         Gás       Emissão\n",
       "0     1970    C2F6 (t)      0.232610\n",
       "1     1970     CF4 (t)      3.557421\n",
       "2     1970     CH4 (t)   1471.024024\n",
       "3     1970      CO (t)   2155.556658\n",
       "4     1970     CO2 (t)  19244.913199\n",
       "...    ...         ...           ...\n",
       "1191  2021  HFC-23 (t)      0.000000\n",
       "1192  2021  HFC-32 (t)    261.100000\n",
       "1193  2021     N2O (t)    119.295311\n",
       "1194  2021     NOx (t)    679.395431\n",
       "1195  2021     SF6 (t)      5.240000\n",
       "\n",
       "[1196 rows x 3 columns]"
      ]
     },
     "execution_count": 81,
     "metadata": {},
     "output_type": "execute_result"
    }
   ],
   "source": [
    "seeg_data_ano_mean = (\n",
    "    seeg_data_ano.groupby([\"Ano\", \"Gás\"])[[\"Emissão\"]].mean().reset_index()\n",
    ")\n",
    "seeg_data_ano_mean"
   ]
  },
  {
   "cell_type": "code",
   "execution_count": null,
   "metadata": {},
   "outputs": [],
   "source": [
    "# PIVOT DATA"
   ]
  },
  {
   "cell_type": "code",
   "execution_count": 82,
   "metadata": {},
   "outputs": [
    {
     "data": {
      "text/html": [
       "<div>\n",
       "<style scoped>\n",
       "    .dataframe tbody tr th:only-of-type {\n",
       "        vertical-align: middle;\n",
       "    }\n",
       "\n",
       "    .dataframe tbody tr th {\n",
       "        vertical-align: top;\n",
       "    }\n",
       "\n",
       "    .dataframe thead th {\n",
       "        text-align: right;\n",
       "    }\n",
       "</style>\n",
       "<table border=\"1\" class=\"dataframe\">\n",
       "  <thead>\n",
       "    <tr style=\"text-align: right;\">\n",
       "      <th>Gás</th>\n",
       "      <th>C2F6 (t)</th>\n",
       "      <th>CF4 (t)</th>\n",
       "      <th>CH4 (t)</th>\n",
       "      <th>CO (t)</th>\n",
       "      <th>CO2 (t)</th>\n",
       "      <th>CO2e (t) GTP-AR2</th>\n",
       "      <th>CO2e (t) GTP-AR4</th>\n",
       "      <th>CO2e (t) GTP-AR5</th>\n",
       "      <th>CO2e (t) GTP-AR6</th>\n",
       "      <th>CO2e (t) GWP-AR2</th>\n",
       "      <th>...</th>\n",
       "      <th>COVNM (t)</th>\n",
       "      <th>HFC-125 (t)</th>\n",
       "      <th>HFC-134a (t)</th>\n",
       "      <th>HFC-143a (t)</th>\n",
       "      <th>HFC-152a (t)</th>\n",
       "      <th>HFC-23 (t)</th>\n",
       "      <th>HFC-32 (t)</th>\n",
       "      <th>N2O (t)</th>\n",
       "      <th>NOx (t)</th>\n",
       "      <th>SF6 (t)</th>\n",
       "    </tr>\n",
       "    <tr>\n",
       "      <th>Ano</th>\n",
       "      <th></th>\n",
       "      <th></th>\n",
       "      <th></th>\n",
       "      <th></th>\n",
       "      <th></th>\n",
       "      <th></th>\n",
       "      <th></th>\n",
       "      <th></th>\n",
       "      <th></th>\n",
       "      <th></th>\n",
       "      <th></th>\n",
       "      <th></th>\n",
       "      <th></th>\n",
       "      <th></th>\n",
       "      <th></th>\n",
       "      <th></th>\n",
       "      <th></th>\n",
       "      <th></th>\n",
       "      <th></th>\n",
       "      <th></th>\n",
       "      <th></th>\n",
       "    </tr>\n",
       "  </thead>\n",
       "  <tbody>\n",
       "    <tr>\n",
       "      <th>1970</th>\n",
       "      <td>0.232610</td>\n",
       "      <td>3.557421</td>\n",
       "      <td>1471.024024</td>\n",
       "      <td>2155.556658</td>\n",
       "      <td>19244.913199</td>\n",
       "      <td>20821.379814</td>\n",
       "      <td>20821.379814</td>\n",
       "      <td>19162.726020</td>\n",
       "      <td>19775.283385</td>\n",
       "      <td>35396.183865</td>\n",
       "      <td>...</td>\n",
       "      <td>742.074863</td>\n",
       "      <td>0.000000</td>\n",
       "      <td>0.000000</td>\n",
       "      <td>0.000000</td>\n",
       "      <td>0.0</td>\n",
       "      <td>0.00</td>\n",
       "      <td>0.00</td>\n",
       "      <td>31.632709</td>\n",
       "      <td>154.072797</td>\n",
       "      <td>0.000</td>\n",
       "    </tr>\n",
       "    <tr>\n",
       "      <th>1971</th>\n",
       "      <td>0.334611</td>\n",
       "      <td>5.117360</td>\n",
       "      <td>1525.506914</td>\n",
       "      <td>2259.625805</td>\n",
       "      <td>21598.587743</td>\n",
       "      <td>22466.288595</td>\n",
       "      <td>22466.288595</td>\n",
       "      <td>20748.481445</td>\n",
       "      <td>21386.175802</td>\n",
       "      <td>37570.982886</td>\n",
       "      <td>...</td>\n",
       "      <td>730.119047</td>\n",
       "      <td>0.000000</td>\n",
       "      <td>0.000000</td>\n",
       "      <td>0.000000</td>\n",
       "      <td>0.0</td>\n",
       "      <td>0.00</td>\n",
       "      <td>0.00</td>\n",
       "      <td>32.609237</td>\n",
       "      <td>170.550178</td>\n",
       "      <td>0.000</td>\n",
       "    </tr>\n",
       "    <tr>\n",
       "      <th>1972</th>\n",
       "      <td>0.404684</td>\n",
       "      <td>6.189025</td>\n",
       "      <td>1584.719568</td>\n",
       "      <td>2418.944795</td>\n",
       "      <td>23664.445521</td>\n",
       "      <td>24100.305265</td>\n",
       "      <td>24100.305265</td>\n",
       "      <td>22303.224240</td>\n",
       "      <td>22966.797327</td>\n",
       "      <td>39800.768350</td>\n",
       "      <td>...</td>\n",
       "      <td>774.278817</td>\n",
       "      <td>0.000000</td>\n",
       "      <td>0.000000</td>\n",
       "      <td>0.000000</td>\n",
       "      <td>0.0</td>\n",
       "      <td>0.00</td>\n",
       "      <td>0.00</td>\n",
       "      <td>34.311864</td>\n",
       "      <td>188.856161</td>\n",
       "      <td>0.000</td>\n",
       "    </tr>\n",
       "    <tr>\n",
       "      <th>1973</th>\n",
       "      <td>0.463147</td>\n",
       "      <td>7.083136</td>\n",
       "      <td>1642.612439</td>\n",
       "      <td>2596.053853</td>\n",
       "      <td>27726.668829</td>\n",
       "      <td>26683.827206</td>\n",
       "      <td>26683.827206</td>\n",
       "      <td>24827.077028</td>\n",
       "      <td>25516.409611</td>\n",
       "      <td>42947.755490</td>\n",
       "      <td>...</td>\n",
       "      <td>796.866394</td>\n",
       "      <td>0.000000</td>\n",
       "      <td>0.000000</td>\n",
       "      <td>0.000000</td>\n",
       "      <td>0.0</td>\n",
       "      <td>0.00</td>\n",
       "      <td>0.00</td>\n",
       "      <td>35.278689</td>\n",
       "      <td>217.320480</td>\n",
       "      <td>0.000</td>\n",
       "    </tr>\n",
       "    <tr>\n",
       "      <th>1974</th>\n",
       "      <td>0.471026</td>\n",
       "      <td>7.203619</td>\n",
       "      <td>1704.614365</td>\n",
       "      <td>2681.450599</td>\n",
       "      <td>30155.918952</td>\n",
       "      <td>28539.318732</td>\n",
       "      <td>28539.318732</td>\n",
       "      <td>26600.481407</td>\n",
       "      <td>27321.124852</td>\n",
       "      <td>45431.240064</td>\n",
       "      <td>...</td>\n",
       "      <td>1024.694923</td>\n",
       "      <td>0.000000</td>\n",
       "      <td>0.000000</td>\n",
       "      <td>0.000000</td>\n",
       "      <td>0.0</td>\n",
       "      <td>0.00</td>\n",
       "      <td>0.00</td>\n",
       "      <td>37.098183</td>\n",
       "      <td>247.521415</td>\n",
       "      <td>0.000</td>\n",
       "    </tr>\n",
       "    <tr>\n",
       "      <th>1975</th>\n",
       "      <td>0.502952</td>\n",
       "      <td>7.691893</td>\n",
       "      <td>1854.360821</td>\n",
       "      <td>2730.894830</td>\n",
       "      <td>32292.965771</td>\n",
       "      <td>30593.767465</td>\n",
       "      <td>30593.767465</td>\n",
       "      <td>28507.669059</td>\n",
       "      <td>29285.642221</td>\n",
       "      <td>48944.729581</td>\n",
       "      <td>...</td>\n",
       "      <td>1065.682750</td>\n",
       "      <td>0.000000</td>\n",
       "      <td>0.000000</td>\n",
       "      <td>0.000000</td>\n",
       "      <td>0.0</td>\n",
       "      <td>0.00</td>\n",
       "      <td>0.00</td>\n",
       "      <td>39.451008</td>\n",
       "      <td>262.716346</td>\n",
       "      <td>0.000</td>\n",
       "    </tr>\n",
       "    <tr>\n",
       "      <th>1976</th>\n",
       "      <td>0.577172</td>\n",
       "      <td>8.826970</td>\n",
       "      <td>1932.641716</td>\n",
       "      <td>2702.494362</td>\n",
       "      <td>35640.344723</td>\n",
       "      <td>33066.878007</td>\n",
       "      <td>33066.878007</td>\n",
       "      <td>30879.481709</td>\n",
       "      <td>31693.226162</td>\n",
       "      <td>52203.028009</td>\n",
       "      <td>...</td>\n",
       "      <td>1091.778909</td>\n",
       "      <td>0.000000</td>\n",
       "      <td>0.000000</td>\n",
       "      <td>0.000000</td>\n",
       "      <td>0.0</td>\n",
       "      <td>0.00</td>\n",
       "      <td>0.00</td>\n",
       "      <td>41.583225</td>\n",
       "      <td>287.013048</td>\n",
       "      <td>0.000</td>\n",
       "    </tr>\n",
       "    <tr>\n",
       "      <th>1977</th>\n",
       "      <td>0.692855</td>\n",
       "      <td>10.596169</td>\n",
       "      <td>1931.897645</td>\n",
       "      <td>2675.992077</td>\n",
       "      <td>37313.909077</td>\n",
       "      <td>34182.312333</td>\n",
       "      <td>34182.312333</td>\n",
       "      <td>31967.243034</td>\n",
       "      <td>32784.131397</td>\n",
       "      <td>53333.605735</td>\n",
       "      <td>...</td>\n",
       "      <td>1147.712448</td>\n",
       "      <td>0.000000</td>\n",
       "      <td>0.000000</td>\n",
       "      <td>0.000000</td>\n",
       "      <td>0.0</td>\n",
       "      <td>0.00</td>\n",
       "      <td>0.00</td>\n",
       "      <td>42.571086</td>\n",
       "      <td>292.405821</td>\n",
       "      <td>0.000</td>\n",
       "    </tr>\n",
       "    <tr>\n",
       "      <th>1978</th>\n",
       "      <td>0.749660</td>\n",
       "      <td>11.464915</td>\n",
       "      <td>1921.281930</td>\n",
       "      <td>2755.891877</td>\n",
       "      <td>40669.820049</td>\n",
       "      <td>35969.633601</td>\n",
       "      <td>35969.633601</td>\n",
       "      <td>33762.778999</td>\n",
       "      <td>34580.720998</td>\n",
       "      <td>55015.291182</td>\n",
       "      <td>...</td>\n",
       "      <td>1289.853564</td>\n",
       "      <td>0.000000</td>\n",
       "      <td>0.000000</td>\n",
       "      <td>0.000000</td>\n",
       "      <td>0.0</td>\n",
       "      <td>0.00</td>\n",
       "      <td>0.00</td>\n",
       "      <td>42.426649</td>\n",
       "      <td>322.982906</td>\n",
       "      <td>0.000</td>\n",
       "    </tr>\n",
       "    <tr>\n",
       "      <th>1979</th>\n",
       "      <td>0.987246</td>\n",
       "      <td>15.098431</td>\n",
       "      <td>1972.682411</td>\n",
       "      <td>2878.725770</td>\n",
       "      <td>43232.369186</td>\n",
       "      <td>37830.720006</td>\n",
       "      <td>37830.720006</td>\n",
       "      <td>35550.182889</td>\n",
       "      <td>36394.126259</td>\n",
       "      <td>57384.964095</td>\n",
       "      <td>...</td>\n",
       "      <td>1512.206508</td>\n",
       "      <td>0.000000</td>\n",
       "      <td>0.000000</td>\n",
       "      <td>0.000000</td>\n",
       "      <td>0.0</td>\n",
       "      <td>0.00</td>\n",
       "      <td>0.00</td>\n",
       "      <td>43.900389</td>\n",
       "      <td>347.173887</td>\n",
       "      <td>0.000</td>\n",
       "    </tr>\n",
       "    <tr>\n",
       "      <th>1980</th>\n",
       "      <td>1.080539</td>\n",
       "      <td>16.525204</td>\n",
       "      <td>2111.639306</td>\n",
       "      <td>2791.899507</td>\n",
       "      <td>43117.075654</td>\n",
       "      <td>38761.777641</td>\n",
       "      <td>38761.777641</td>\n",
       "      <td>36320.640316</td>\n",
       "      <td>37219.452192</td>\n",
       "      <td>59691.507606</td>\n",
       "      <td>...</td>\n",
       "      <td>1365.450195</td>\n",
       "      <td>0.000000</td>\n",
       "      <td>0.000000</td>\n",
       "      <td>0.000000</td>\n",
       "      <td>0.0</td>\n",
       "      <td>0.00</td>\n",
       "      <td>0.00</td>\n",
       "      <td>46.964510</td>\n",
       "      <td>344.353822</td>\n",
       "      <td>0.000</td>\n",
       "    </tr>\n",
       "    <tr>\n",
       "      <th>1981</th>\n",
       "      <td>1.063125</td>\n",
       "      <td>16.258873</td>\n",
       "      <td>2150.573778</td>\n",
       "      <td>2668.683827</td>\n",
       "      <td>40550.583148</td>\n",
       "      <td>37320.269321</td>\n",
       "      <td>37320.269321</td>\n",
       "      <td>34876.520029</td>\n",
       "      <td>35794.094500</td>\n",
       "      <td>58591.748509</td>\n",
       "      <td>...</td>\n",
       "      <td>1198.478342</td>\n",
       "      <td>0.000000</td>\n",
       "      <td>0.000000</td>\n",
       "      <td>0.000000</td>\n",
       "      <td>0.0</td>\n",
       "      <td>0.00</td>\n",
       "      <td>0.00</td>\n",
       "      <td>46.186807</td>\n",
       "      <td>344.012976</td>\n",
       "      <td>0.000</td>\n",
       "    </tr>\n",
       "    <tr>\n",
       "      <th>1982</th>\n",
       "      <td>1.264574</td>\n",
       "      <td>18.607690</td>\n",
       "      <td>2173.691232</td>\n",
       "      <td>2724.414118</td>\n",
       "      <td>40883.510601</td>\n",
       "      <td>37648.124724</td>\n",
       "      <td>37648.124724</td>\n",
       "      <td>35178.523167</td>\n",
       "      <td>36111.101644</td>\n",
       "      <td>59135.759770</td>\n",
       "      <td>...</td>\n",
       "      <td>1247.968908</td>\n",
       "      <td>0.000000</td>\n",
       "      <td>0.000000</td>\n",
       "      <td>0.000000</td>\n",
       "      <td>0.0</td>\n",
       "      <td>0.00</td>\n",
       "      <td>0.00</td>\n",
       "      <td>46.495603</td>\n",
       "      <td>355.441264</td>\n",
       "      <td>0.000</td>\n",
       "    </tr>\n",
       "    <tr>\n",
       "      <th>1983</th>\n",
       "      <td>1.746654</td>\n",
       "      <td>24.198663</td>\n",
       "      <td>2187.943525</td>\n",
       "      <td>2745.306274</td>\n",
       "      <td>38613.336206</td>\n",
       "      <td>36467.392931</td>\n",
       "      <td>36467.392931</td>\n",
       "      <td>33981.942864</td>\n",
       "      <td>34926.715889</td>\n",
       "      <td>58065.322345</td>\n",
       "      <td>...</td>\n",
       "      <td>1205.554391</td>\n",
       "      <td>0.000000</td>\n",
       "      <td>0.000000</td>\n",
       "      <td>0.000000</td>\n",
       "      <td>0.0</td>\n",
       "      <td>0.00</td>\n",
       "      <td>0.00</td>\n",
       "      <td>46.357382</td>\n",
       "      <td>350.262839</td>\n",
       "      <td>0.000</td>\n",
       "    </tr>\n",
       "    <tr>\n",
       "      <th>1984</th>\n",
       "      <td>2.007178</td>\n",
       "      <td>27.139354</td>\n",
       "      <td>2257.578582</td>\n",
       "      <td>2897.559170</td>\n",
       "      <td>39098.275632</td>\n",
       "      <td>37304.492885</td>\n",
       "      <td>37304.492885</td>\n",
       "      <td>34726.836104</td>\n",
       "      <td>35706.623685</td>\n",
       "      <td>59592.103833</td>\n",
       "      <td>...</td>\n",
       "      <td>1237.516997</td>\n",
       "      <td>0.000000</td>\n",
       "      <td>0.000000</td>\n",
       "      <td>0.000000</td>\n",
       "      <td>0.0</td>\n",
       "      <td>0.00</td>\n",
       "      <td>0.00</td>\n",
       "      <td>48.178970</td>\n",
       "      <td>363.820804</td>\n",
       "      <td>0.000</td>\n",
       "    </tr>\n",
       "    <tr>\n",
       "      <th>1985</th>\n",
       "      <td>2.486368</td>\n",
       "      <td>31.878459</td>\n",
       "      <td>2276.949370</td>\n",
       "      <td>3044.089465</td>\n",
       "      <td>41605.846181</td>\n",
       "      <td>38842.902282</td>\n",
       "      <td>38842.902282</td>\n",
       "      <td>36235.238446</td>\n",
       "      <td>37233.188740</td>\n",
       "      <td>61304.443649</td>\n",
       "      <td>...</td>\n",
       "      <td>937.803266</td>\n",
       "      <td>0.000000</td>\n",
       "      <td>0.000000</td>\n",
       "      <td>0.000000</td>\n",
       "      <td>0.0</td>\n",
       "      <td>0.00</td>\n",
       "      <td>0.00</td>\n",
       "      <td>48.534115</td>\n",
       "      <td>393.604889</td>\n",
       "      <td>0.000</td>\n",
       "    </tr>\n",
       "    <tr>\n",
       "      <th>1986</th>\n",
       "      <td>3.537684</td>\n",
       "      <td>42.372633</td>\n",
       "      <td>2328.522493</td>\n",
       "      <td>3219.470896</td>\n",
       "      <td>46122.833940</td>\n",
       "      <td>41778.285575</td>\n",
       "      <td>41778.285575</td>\n",
       "      <td>39089.713887</td>\n",
       "      <td>40113.476163</td>\n",
       "      <td>64716.428523</td>\n",
       "      <td>...</td>\n",
       "      <td>880.511974</td>\n",
       "      <td>0.000000</td>\n",
       "      <td>0.000000</td>\n",
       "      <td>0.000000</td>\n",
       "      <td>0.0</td>\n",
       "      <td>0.00</td>\n",
       "      <td>0.00</td>\n",
       "      <td>49.697017</td>\n",
       "      <td>423.198378</td>\n",
       "      <td>0.000</td>\n",
       "    </tr>\n",
       "    <tr>\n",
       "      <th>1987</th>\n",
       "      <td>3.981541</td>\n",
       "      <td>46.610696</td>\n",
       "      <td>2389.055197</td>\n",
       "      <td>3186.878943</td>\n",
       "      <td>47537.176340</td>\n",
       "      <td>43071.699004</td>\n",
       "      <td>43071.699004</td>\n",
       "      <td>40298.336642</td>\n",
       "      <td>41338.081209</td>\n",
       "      <td>66604.053586</td>\n",
       "      <td>...</td>\n",
       "      <td>837.036740</td>\n",
       "      <td>0.000000</td>\n",
       "      <td>0.000000</td>\n",
       "      <td>0.000000</td>\n",
       "      <td>0.0</td>\n",
       "      <td>0.00</td>\n",
       "      <td>0.00</td>\n",
       "      <td>51.314671</td>\n",
       "      <td>434.279859</td>\n",
       "      <td>0.000</td>\n",
       "    </tr>\n",
       "    <tr>\n",
       "      <th>1988</th>\n",
       "      <td>4.131054</td>\n",
       "      <td>48.156150</td>\n",
       "      <td>2455.862616</td>\n",
       "      <td>3191.800660</td>\n",
       "      <td>48565.529300</td>\n",
       "      <td>43988.541448</td>\n",
       "      <td>43988.541448</td>\n",
       "      <td>41153.713294</td>\n",
       "      <td>42228.313030</td>\n",
       "      <td>68159.457490</td>\n",
       "      <td>...</td>\n",
       "      <td>926.509430</td>\n",
       "      <td>0.000000</td>\n",
       "      <td>0.000000</td>\n",
       "      <td>0.000000</td>\n",
       "      <td>0.0</td>\n",
       "      <td>0.00</td>\n",
       "      <td>0.00</td>\n",
       "      <td>52.086735</td>\n",
       "      <td>437.729255</td>\n",
       "      <td>0.000</td>\n",
       "    </tr>\n",
       "    <tr>\n",
       "      <th>1989</th>\n",
       "      <td>4.207579</td>\n",
       "      <td>48.830373</td>\n",
       "      <td>2522.609402</td>\n",
       "      <td>3293.349872</td>\n",
       "      <td>49320.417098</td>\n",
       "      <td>44939.940629</td>\n",
       "      <td>44939.940629</td>\n",
       "      <td>42019.800012</td>\n",
       "      <td>43116.828590</td>\n",
       "      <td>69780.160839</td>\n",
       "      <td>...</td>\n",
       "      <td>1003.815845</td>\n",
       "      <td>0.000000</td>\n",
       "      <td>0.000000</td>\n",
       "      <td>0.000000</td>\n",
       "      <td>0.0</td>\n",
       "      <td>0.00</td>\n",
       "      <td>0.00</td>\n",
       "      <td>53.875939</td>\n",
       "      <td>437.574618</td>\n",
       "      <td>0.000</td>\n",
       "    </tr>\n",
       "    <tr>\n",
       "      <th>1990</th>\n",
       "      <td>4.424311</td>\n",
       "      <td>50.974299</td>\n",
       "      <td>3140.539349</td>\n",
       "      <td>3113.090154</td>\n",
       "      <td>320768.382019</td>\n",
       "      <td>198367.297670</td>\n",
       "      <td>198367.297670</td>\n",
       "      <td>194710.510403</td>\n",
       "      <td>196298.671383</td>\n",
       "      <td>229318.798211</td>\n",
       "      <td>...</td>\n",
       "      <td>985.668175</td>\n",
       "      <td>0.000000</td>\n",
       "      <td>1.000000</td>\n",
       "      <td>0.000000</td>\n",
       "      <td>0.0</td>\n",
       "      <td>120.24</td>\n",
       "      <td>0.00</td>\n",
       "      <td>68.086051</td>\n",
       "      <td>426.997824</td>\n",
       "      <td>5.000</td>\n",
       "    </tr>\n",
       "    <tr>\n",
       "      <th>1991</th>\n",
       "      <td>4.878391</td>\n",
       "      <td>56.534491</td>\n",
       "      <td>3234.108615</td>\n",
       "      <td>3110.150493</td>\n",
       "      <td>319892.995279</td>\n",
       "      <td>198549.149416</td>\n",
       "      <td>198549.149416</td>\n",
       "      <td>194785.093624</td>\n",
       "      <td>196423.788820</td>\n",
       "      <td>230399.423515</td>\n",
       "      <td>...</td>\n",
       "      <td>939.643396</td>\n",
       "      <td>0.000000</td>\n",
       "      <td>1.800000</td>\n",
       "      <td>0.000000</td>\n",
       "      <td>0.0</td>\n",
       "      <td>137.52</td>\n",
       "      <td>0.00</td>\n",
       "      <td>69.767750</td>\n",
       "      <td>442.184234</td>\n",
       "      <td>4.900</td>\n",
       "    </tr>\n",
       "    <tr>\n",
       "      <th>1992</th>\n",
       "      <td>5.160625</td>\n",
       "      <td>59.108713</td>\n",
       "      <td>3370.407340</td>\n",
       "      <td>2999.978818</td>\n",
       "      <td>359902.565301</td>\n",
       "      <td>221619.985571</td>\n",
       "      <td>221619.985571</td>\n",
       "      <td>217677.576627</td>\n",
       "      <td>219412.117836</td>\n",
       "      <td>254828.244779</td>\n",
       "      <td>...</td>\n",
       "      <td>875.565200</td>\n",
       "      <td>0.000000</td>\n",
       "      <td>8.500000</td>\n",
       "      <td>0.000000</td>\n",
       "      <td>0.0</td>\n",
       "      <td>163.60</td>\n",
       "      <td>0.00</td>\n",
       "      <td>73.419262</td>\n",
       "      <td>449.114053</td>\n",
       "      <td>5.500</td>\n",
       "    </tr>\n",
       "    <tr>\n",
       "      <th>1993</th>\n",
       "      <td>4.826898</td>\n",
       "      <td>55.775579</td>\n",
       "      <td>3308.158866</td>\n",
       "      <td>2888.716685</td>\n",
       "      <td>331043.731310</td>\n",
       "      <td>205496.779124</td>\n",
       "      <td>205496.779124</td>\n",
       "      <td>201610.561004</td>\n",
       "      <td>203290.112152</td>\n",
       "      <td>238111.066475</td>\n",
       "      <td>...</td>\n",
       "      <td>914.460768</td>\n",
       "      <td>0.000000</td>\n",
       "      <td>16.300000</td>\n",
       "      <td>0.000000</td>\n",
       "      <td>0.0</td>\n",
       "      <td>172.28</td>\n",
       "      <td>0.00</td>\n",
       "      <td>72.719511</td>\n",
       "      <td>459.700363</td>\n",
       "      <td>7.050</td>\n",
       "    </tr>\n",
       "    <tr>\n",
       "      <th>1994</th>\n",
       "      <td>4.646661</td>\n",
       "      <td>53.834394</td>\n",
       "      <td>3469.984089</td>\n",
       "      <td>2937.911534</td>\n",
       "      <td>378143.077796</td>\n",
       "      <td>232586.073039</td>\n",
       "      <td>232586.073039</td>\n",
       "      <td>228497.536762</td>\n",
       "      <td>230276.523152</td>\n",
       "      <td>266861.044218</td>\n",
       "      <td>...</td>\n",
       "      <td>943.315546</td>\n",
       "      <td>0.000000</td>\n",
       "      <td>137.300000</td>\n",
       "      <td>0.000000</td>\n",
       "      <td>0.0</td>\n",
       "      <td>156.60</td>\n",
       "      <td>0.00</td>\n",
       "      <td>77.261423</td>\n",
       "      <td>477.929424</td>\n",
       "      <td>7.000</td>\n",
       "    </tr>\n",
       "    <tr>\n",
       "      <th>1995</th>\n",
       "      <td>4.381888</td>\n",
       "      <td>50.990036</td>\n",
       "      <td>3662.010693</td>\n",
       "      <td>2853.706384</td>\n",
       "      <td>439538.034075</td>\n",
       "      <td>267589.151576</td>\n",
       "      <td>267589.151576</td>\n",
       "      <td>263284.976192</td>\n",
       "      <td>265192.393533</td>\n",
       "      <td>303809.320731</td>\n",
       "      <td>...</td>\n",
       "      <td>933.912226</td>\n",
       "      <td>0.000000</td>\n",
       "      <td>290.700000</td>\n",
       "      <td>0.000000</td>\n",
       "      <td>0.0</td>\n",
       "      <td>153.04</td>\n",
       "      <td>0.00</td>\n",
       "      <td>81.711227</td>\n",
       "      <td>502.360205</td>\n",
       "      <td>7.100</td>\n",
       "    </tr>\n",
       "    <tr>\n",
       "      <th>1996</th>\n",
       "      <td>4.351017</td>\n",
       "      <td>49.622241</td>\n",
       "      <td>3369.714390</td>\n",
       "      <td>2794.128268</td>\n",
       "      <td>384715.012080</td>\n",
       "      <td>235381.094700</td>\n",
       "      <td>235381.094700</td>\n",
       "      <td>231429.510060</td>\n",
       "      <td>233159.424431</td>\n",
       "      <td>268851.258880</td>\n",
       "      <td>...</td>\n",
       "      <td>966.327010</td>\n",
       "      <td>0.000000</td>\n",
       "      <td>1254.800000</td>\n",
       "      <td>0.000000</td>\n",
       "      <td>0.0</td>\n",
       "      <td>89.04</td>\n",
       "      <td>0.00</td>\n",
       "      <td>75.228384</td>\n",
       "      <td>529.396959</td>\n",
       "      <td>6.900</td>\n",
       "    </tr>\n",
       "    <tr>\n",
       "      <th>1997</th>\n",
       "      <td>2.618729</td>\n",
       "      <td>33.827146</td>\n",
       "      <td>3460.277799</td>\n",
       "      <td>2700.521700</td>\n",
       "      <td>403260.817943</td>\n",
       "      <td>246192.057189</td>\n",
       "      <td>246192.057189</td>\n",
       "      <td>242146.730928</td>\n",
       "      <td>243918.260908</td>\n",
       "      <td>280607.314268</td>\n",
       "      <td>...</td>\n",
       "      <td>966.398328</td>\n",
       "      <td>0.000000</td>\n",
       "      <td>1103.600000</td>\n",
       "      <td>0.000000</td>\n",
       "      <td>0.0</td>\n",
       "      <td>95.32</td>\n",
       "      <td>0.00</td>\n",
       "      <td>77.902220</td>\n",
       "      <td>545.846655</td>\n",
       "      <td>8.450</td>\n",
       "    </tr>\n",
       "    <tr>\n",
       "      <th>1998</th>\n",
       "      <td>2.868239</td>\n",
       "      <td>37.969766</td>\n",
       "      <td>3458.430157</td>\n",
       "      <td>2601.327790</td>\n",
       "      <td>381765.065616</td>\n",
       "      <td>234556.748324</td>\n",
       "      <td>234556.748324</td>\n",
       "      <td>230484.675105</td>\n",
       "      <td>232222.285354</td>\n",
       "      <td>269066.975152</td>\n",
       "      <td>...</td>\n",
       "      <td>995.679243</td>\n",
       "      <td>0.000000</td>\n",
       "      <td>1614.800000</td>\n",
       "      <td>0.000000</td>\n",
       "      <td>0.0</td>\n",
       "      <td>13.04</td>\n",
       "      <td>0.00</td>\n",
       "      <td>79.186216</td>\n",
       "      <td>558.942591</td>\n",
       "      <td>7.400</td>\n",
       "    </tr>\n",
       "    <tr>\n",
       "      <th>1999</th>\n",
       "      <td>2.553874</td>\n",
       "      <td>33.595101</td>\n",
       "      <td>3505.856565</td>\n",
       "      <td>2517.645698</td>\n",
       "      <td>378589.907603</td>\n",
       "      <td>233065.471483</td>\n",
       "      <td>233065.471483</td>\n",
       "      <td>228976.593024</td>\n",
       "      <td>230754.711470</td>\n",
       "      <td>268066.360108</td>\n",
       "      <td>...</td>\n",
       "      <td>1053.313075</td>\n",
       "      <td>0.000000</td>\n",
       "      <td>1899.900000</td>\n",
       "      <td>0.000000</td>\n",
       "      <td>0.0</td>\n",
       "      <td>97.16</td>\n",
       "      <td>0.00</td>\n",
       "      <td>79.285470</td>\n",
       "      <td>574.628315</td>\n",
       "      <td>7.350</td>\n",
       "    </tr>\n",
       "    <tr>\n",
       "      <th>2000</th>\n",
       "      <td>1.952377</td>\n",
       "      <td>24.442364</td>\n",
       "      <td>3571.914568</td>\n",
       "      <td>2397.137149</td>\n",
       "      <td>371264.625653</td>\n",
       "      <td>229362.757060</td>\n",
       "      <td>229362.757060</td>\n",
       "      <td>225202.142194</td>\n",
       "      <td>226964.737958</td>\n",
       "      <td>265039.981001</td>\n",
       "      <td>...</td>\n",
       "      <td>1057.445756</td>\n",
       "      <td>7.100000</td>\n",
       "      <td>1709.200000</td>\n",
       "      <td>7.500000</td>\n",
       "      <td>0.1</td>\n",
       "      <td>0.00</td>\n",
       "      <td>0.00</td>\n",
       "      <td>81.044141</td>\n",
       "      <td>574.674663</td>\n",
       "      <td>7.650</td>\n",
       "    </tr>\n",
       "    <tr>\n",
       "      <th>2001</th>\n",
       "      <td>1.532887</td>\n",
       "      <td>19.112795</td>\n",
       "      <td>3726.839667</td>\n",
       "      <td>2335.662246</td>\n",
       "      <td>383126.523614</td>\n",
       "      <td>236615.620955</td>\n",
       "      <td>236615.620955</td>\n",
       "      <td>232343.054250</td>\n",
       "      <td>234194.071826</td>\n",
       "      <td>273944.198576</td>\n",
       "      <td>...</td>\n",
       "      <td>967.444068</td>\n",
       "      <td>39.200000</td>\n",
       "      <td>2625.400000</td>\n",
       "      <td>27.100000</td>\n",
       "      <td>29.5</td>\n",
       "      <td>0.00</td>\n",
       "      <td>0.00</td>\n",
       "      <td>82.802946</td>\n",
       "      <td>589.993818</td>\n",
       "      <td>7.300</td>\n",
       "    </tr>\n",
       "    <tr>\n",
       "      <th>2002</th>\n",
       "      <td>1.954302</td>\n",
       "      <td>22.585388</td>\n",
       "      <td>3848.366807</td>\n",
       "      <td>2418.849847</td>\n",
       "      <td>405857.312767</td>\n",
       "      <td>250601.632644</td>\n",
       "      <td>250601.632644</td>\n",
       "      <td>246093.289486</td>\n",
       "      <td>248013.698028</td>\n",
       "      <td>289212.920018</td>\n",
       "      <td>...</td>\n",
       "      <td>969.157687</td>\n",
       "      <td>50.800000</td>\n",
       "      <td>2633.000000</td>\n",
       "      <td>39.800000</td>\n",
       "      <td>8.1</td>\n",
       "      <td>0.00</td>\n",
       "      <td>0.00</td>\n",
       "      <td>88.775356</td>\n",
       "      <td>597.369738</td>\n",
       "      <td>8.750</td>\n",
       "    </tr>\n",
       "    <tr>\n",
       "      <th>2003</th>\n",
       "      <td>1.959726</td>\n",
       "      <td>23.344024</td>\n",
       "      <td>4226.186785</td>\n",
       "      <td>2550.104407</td>\n",
       "      <td>504980.458424</td>\n",
       "      <td>308245.713734</td>\n",
       "      <td>308245.713734</td>\n",
       "      <td>303220.023228</td>\n",
       "      <td>305374.458001</td>\n",
       "      <td>350746.610941</td>\n",
       "      <td>...</td>\n",
       "      <td>949.901191</td>\n",
       "      <td>54.800000</td>\n",
       "      <td>2966.800000</td>\n",
       "      <td>50.000000</td>\n",
       "      <td>23.8</td>\n",
       "      <td>0.00</td>\n",
       "      <td>0.00</td>\n",
       "      <td>100.528006</td>\n",
       "      <td>597.989110</td>\n",
       "      <td>10.150</td>\n",
       "    </tr>\n",
       "    <tr>\n",
       "      <th>2004</th>\n",
       "      <td>1.682802</td>\n",
       "      <td>21.862180</td>\n",
       "      <td>4300.983936</td>\n",
       "      <td>2649.403382</td>\n",
       "      <td>478755.560560</td>\n",
       "      <td>294423.640933</td>\n",
       "      <td>294423.640933</td>\n",
       "      <td>289299.605972</td>\n",
       "      <td>291467.647495</td>\n",
       "      <td>337649.979401</td>\n",
       "      <td>...</td>\n",
       "      <td>1015.453407</td>\n",
       "      <td>120.700000</td>\n",
       "      <td>2788.700000</td>\n",
       "      <td>103.700000</td>\n",
       "      <td>54.3</td>\n",
       "      <td>0.00</td>\n",
       "      <td>0.00</td>\n",
       "      <td>102.083939</td>\n",
       "      <td>631.011916</td>\n",
       "      <td>11.500</td>\n",
       "    </tr>\n",
       "    <tr>\n",
       "      <th>2005</th>\n",
       "      <td>1.716501</td>\n",
       "      <td>20.648612</td>\n",
       "      <td>4190.234070</td>\n",
       "      <td>2617.210078</td>\n",
       "      <td>409271.781811</td>\n",
       "      <td>255348.509907</td>\n",
       "      <td>255348.509907</td>\n",
       "      <td>250404.096108</td>\n",
       "      <td>252502.638826</td>\n",
       "      <td>297627.646699</td>\n",
       "      <td>...</td>\n",
       "      <td>1006.445003</td>\n",
       "      <td>124.900000</td>\n",
       "      <td>4050.600000</td>\n",
       "      <td>92.900000</td>\n",
       "      <td>174.8</td>\n",
       "      <td>0.00</td>\n",
       "      <td>0.00</td>\n",
       "      <td>98.401302</td>\n",
       "      <td>634.508540</td>\n",
       "      <td>12.575</td>\n",
       "    </tr>\n",
       "    <tr>\n",
       "      <th>2006</th>\n",
       "      <td>1.733592</td>\n",
       "      <td>20.302403</td>\n",
       "      <td>4034.676759</td>\n",
       "      <td>2603.763268</td>\n",
       "      <td>339484.909683</td>\n",
       "      <td>216174.714453</td>\n",
       "      <td>216174.714453</td>\n",
       "      <td>211356.111047</td>\n",
       "      <td>213329.877180</td>\n",
       "      <td>256848.507986</td>\n",
       "      <td>...</td>\n",
       "      <td>1243.673145</td>\n",
       "      <td>251.700000</td>\n",
       "      <td>3467.700000</td>\n",
       "      <td>215.700000</td>\n",
       "      <td>280.0</td>\n",
       "      <td>0.00</td>\n",
       "      <td>0.00</td>\n",
       "      <td>95.337450</td>\n",
       "      <td>638.842130</td>\n",
       "      <td>14.000</td>\n",
       "    </tr>\n",
       "    <tr>\n",
       "      <th>2007</th>\n",
       "      <td>1.649163</td>\n",
       "      <td>19.551498</td>\n",
       "      <td>3765.048553</td>\n",
       "      <td>2694.853041</td>\n",
       "      <td>294829.623244</td>\n",
       "      <td>190210.427773</td>\n",
       "      <td>190210.427773</td>\n",
       "      <td>185676.587240</td>\n",
       "      <td>187528.305462</td>\n",
       "      <td>228590.733415</td>\n",
       "      <td>...</td>\n",
       "      <td>1043.665558</td>\n",
       "      <td>285.000000</td>\n",
       "      <td>5741.100000</td>\n",
       "      <td>252.000000</td>\n",
       "      <td>0.0</td>\n",
       "      <td>0.00</td>\n",
       "      <td>71.80</td>\n",
       "      <td>91.251294</td>\n",
       "      <td>670.636700</td>\n",
       "      <td>16.300</td>\n",
       "    </tr>\n",
       "    <tr>\n",
       "      <th>2008</th>\n",
       "      <td>1.597435</td>\n",
       "      <td>19.035887</td>\n",
       "      <td>3807.397928</td>\n",
       "      <td>2709.595002</td>\n",
       "      <td>293018.361152</td>\n",
       "      <td>189430.145254</td>\n",
       "      <td>189430.145254</td>\n",
       "      <td>184810.731294</td>\n",
       "      <td>186650.402157</td>\n",
       "      <td>227880.191345</td>\n",
       "      <td>...</td>\n",
       "      <td>1349.504947</td>\n",
       "      <td>302.100000</td>\n",
       "      <td>3458.100000</td>\n",
       "      <td>307.400000</td>\n",
       "      <td>0.0</td>\n",
       "      <td>0.00</td>\n",
       "      <td>42.00</td>\n",
       "      <td>91.657180</td>\n",
       "      <td>708.449694</td>\n",
       "      <td>16.450</td>\n",
       "    </tr>\n",
       "    <tr>\n",
       "      <th>2009</th>\n",
       "      <td>1.065994</td>\n",
       "      <td>13.706961</td>\n",
       "      <td>3742.795633</td>\n",
       "      <td>2376.483831</td>\n",
       "      <td>225585.346049</td>\n",
       "      <td>151609.653561</td>\n",
       "      <td>151609.653561</td>\n",
       "      <td>147164.496737</td>\n",
       "      <td>148962.661658</td>\n",
       "      <td>189672.142009</td>\n",
       "      <td>...</td>\n",
       "      <td>1343.863576</td>\n",
       "      <td>358.700000</td>\n",
       "      <td>5138.300000</td>\n",
       "      <td>320.900000</td>\n",
       "      <td>0.0</td>\n",
       "      <td>0.00</td>\n",
       "      <td>87.20</td>\n",
       "      <td>88.425194</td>\n",
       "      <td>674.746872</td>\n",
       "      <td>10.050</td>\n",
       "    </tr>\n",
       "    <tr>\n",
       "      <th>2010</th>\n",
       "      <td>0.984444</td>\n",
       "      <td>12.796067</td>\n",
       "      <td>3787.692736</td>\n",
       "      <td>2429.505465</td>\n",
       "      <td>224152.630780</td>\n",
       "      <td>151509.993513</td>\n",
       "      <td>151509.993513</td>\n",
       "      <td>146989.850169</td>\n",
       "      <td>148814.974847</td>\n",
       "      <td>190395.885765</td>\n",
       "      <td>...</td>\n",
       "      <td>1521.970366</td>\n",
       "      <td>501.200000</td>\n",
       "      <td>7034.300000</td>\n",
       "      <td>467.100000</td>\n",
       "      <td>0.0</td>\n",
       "      <td>0.00</td>\n",
       "      <td>105.90</td>\n",
       "      <td>91.172977</td>\n",
       "      <td>710.087454</td>\n",
       "      <td>3.700</td>\n",
       "    </tr>\n",
       "    <tr>\n",
       "      <th>2011</th>\n",
       "      <td>0.876539</td>\n",
       "      <td>11.207334</td>\n",
       "      <td>3772.085551</td>\n",
       "      <td>2291.701526</td>\n",
       "      <td>230800.441401</td>\n",
       "      <td>155828.960682</td>\n",
       "      <td>155828.960682</td>\n",
       "      <td>151213.321516</td>\n",
       "      <td>153010.668671</td>\n",
       "      <td>194568.314031</td>\n",
       "      <td>...</td>\n",
       "      <td>1572.593720</td>\n",
       "      <td>468.407273</td>\n",
       "      <td>6258.290909</td>\n",
       "      <td>432.663636</td>\n",
       "      <td>0.0</td>\n",
       "      <td>0.00</td>\n",
       "      <td>113.60</td>\n",
       "      <td>95.204213</td>\n",
       "      <td>716.702391</td>\n",
       "      <td>3.890</td>\n",
       "    </tr>\n",
       "    <tr>\n",
       "      <th>2012</th>\n",
       "      <td>0.906056</td>\n",
       "      <td>11.719239</td>\n",
       "      <td>3782.428977</td>\n",
       "      <td>2192.311597</td>\n",
       "      <td>252570.174590</td>\n",
       "      <td>167844.833999</td>\n",
       "      <td>167844.833999</td>\n",
       "      <td>163215.794903</td>\n",
       "      <td>165044.951336</td>\n",
       "      <td>206750.256861</td>\n",
       "      <td>...</td>\n",
       "      <td>1563.082835</td>\n",
       "      <td>514.714545</td>\n",
       "      <td>6670.836364</td>\n",
       "      <td>476.227273</td>\n",
       "      <td>0.0</td>\n",
       "      <td>0.00</td>\n",
       "      <td>128.35</td>\n",
       "      <td>95.330445</td>\n",
       "      <td>741.050899</td>\n",
       "      <td>4.025</td>\n",
       "    </tr>\n",
       "    <tr>\n",
       "      <th>2013</th>\n",
       "      <td>0.807697</td>\n",
       "      <td>10.386484</td>\n",
       "      <td>3858.863908</td>\n",
       "      <td>2134.901864</td>\n",
       "      <td>283081.371977</td>\n",
       "      <td>185675.001442</td>\n",
       "      <td>185675.001442</td>\n",
       "      <td>180884.392711</td>\n",
       "      <td>182769.229992</td>\n",
       "      <td>225493.635922</td>\n",
       "      <td>...</td>\n",
       "      <td>1616.414260</td>\n",
       "      <td>561.021818</td>\n",
       "      <td>7083.381818</td>\n",
       "      <td>519.790909</td>\n",
       "      <td>0.0</td>\n",
       "      <td>0.00</td>\n",
       "      <td>143.10</td>\n",
       "      <td>99.953810</td>\n",
       "      <td>775.456952</td>\n",
       "      <td>4.160</td>\n",
       "    </tr>\n",
       "    <tr>\n",
       "      <th>2014</th>\n",
       "      <td>0.578768</td>\n",
       "      <td>7.372085</td>\n",
       "      <td>3856.346713</td>\n",
       "      <td>2135.875613</td>\n",
       "      <td>270656.899031</td>\n",
       "      <td>178917.591561</td>\n",
       "      <td>178917.591561</td>\n",
       "      <td>174124.391282</td>\n",
       "      <td>176000.959661</td>\n",
       "      <td>218797.526543</td>\n",
       "      <td>...</td>\n",
       "      <td>1590.007160</td>\n",
       "      <td>607.329091</td>\n",
       "      <td>7495.927273</td>\n",
       "      <td>563.354545</td>\n",
       "      <td>0.0</td>\n",
       "      <td>0.00</td>\n",
       "      <td>157.85</td>\n",
       "      <td>100.213115</td>\n",
       "      <td>794.529492</td>\n",
       "      <td>4.295</td>\n",
       "    </tr>\n",
       "    <tr>\n",
       "      <th>2015</th>\n",
       "      <td>0.477444</td>\n",
       "      <td>6.136245</td>\n",
       "      <td>3992.254029</td>\n",
       "      <td>2037.068251</td>\n",
       "      <td>290361.641228</td>\n",
       "      <td>190356.373575</td>\n",
       "      <td>190356.373575</td>\n",
       "      <td>185452.912830</td>\n",
       "      <td>187416.451615</td>\n",
       "      <td>231607.671538</td>\n",
       "      <td>...</td>\n",
       "      <td>1499.463219</td>\n",
       "      <td>653.636364</td>\n",
       "      <td>7908.472727</td>\n",
       "      <td>606.918182</td>\n",
       "      <td>0.0</td>\n",
       "      <td>0.00</td>\n",
       "      <td>172.60</td>\n",
       "      <td>101.416179</td>\n",
       "      <td>751.179087</td>\n",
       "      <td>4.430</td>\n",
       "    </tr>\n",
       "    <tr>\n",
       "      <th>2016</th>\n",
       "      <td>0.513223</td>\n",
       "      <td>6.698715</td>\n",
       "      <td>4061.099156</td>\n",
       "      <td>1920.266497</td>\n",
       "      <td>290019.576669</td>\n",
       "      <td>191131.768412</td>\n",
       "      <td>191131.768412</td>\n",
       "      <td>186087.165900</td>\n",
       "      <td>188095.885437</td>\n",
       "      <td>233197.806461</td>\n",
       "      <td>...</td>\n",
       "      <td>1474.185833</td>\n",
       "      <td>699.943636</td>\n",
       "      <td>8321.018182</td>\n",
       "      <td>650.481818</td>\n",
       "      <td>0.0</td>\n",
       "      <td>0.00</td>\n",
       "      <td>187.35</td>\n",
       "      <td>105.261705</td>\n",
       "      <td>698.056099</td>\n",
       "      <td>4.565</td>\n",
       "    </tr>\n",
       "    <tr>\n",
       "      <th>2017</th>\n",
       "      <td>0.525054</td>\n",
       "      <td>6.869939</td>\n",
       "      <td>3959.904472</td>\n",
       "      <td>1944.421545</td>\n",
       "      <td>261710.380361</td>\n",
       "      <td>175410.908676</td>\n",
       "      <td>175410.908676</td>\n",
       "      <td>170415.218494</td>\n",
       "      <td>172361.599109</td>\n",
       "      <td>216608.697583</td>\n",
       "      <td>...</td>\n",
       "      <td>1360.068131</td>\n",
       "      <td>746.250909</td>\n",
       "      <td>8733.563636</td>\n",
       "      <td>694.045455</td>\n",
       "      <td>0.0</td>\n",
       "      <td>0.00</td>\n",
       "      <td>202.10</td>\n",
       "      <td>105.515643</td>\n",
       "      <td>699.608724</td>\n",
       "      <td>4.700</td>\n",
       "    </tr>\n",
       "    <tr>\n",
       "      <th>2018</th>\n",
       "      <td>0.474226</td>\n",
       "      <td>6.371409</td>\n",
       "      <td>3997.872368</td>\n",
       "      <td>2038.493573</td>\n",
       "      <td>269982.377755</td>\n",
       "      <td>179964.218736</td>\n",
       "      <td>179964.218736</td>\n",
       "      <td>174959.714692</td>\n",
       "      <td>176944.754324</td>\n",
       "      <td>221567.879942</td>\n",
       "      <td>...</td>\n",
       "      <td>1405.981487</td>\n",
       "      <td>792.558182</td>\n",
       "      <td>9146.109091</td>\n",
       "      <td>737.609091</td>\n",
       "      <td>0.0</td>\n",
       "      <td>0.00</td>\n",
       "      <td>216.85</td>\n",
       "      <td>104.897829</td>\n",
       "      <td>688.450981</td>\n",
       "      <td>4.835</td>\n",
       "    </tr>\n",
       "    <tr>\n",
       "      <th>2019</th>\n",
       "      <td>0.451315</td>\n",
       "      <td>6.004692</td>\n",
       "      <td>4081.215331</td>\n",
       "      <td>2006.535535</td>\n",
       "      <td>300435.283915</td>\n",
       "      <td>197451.093625</td>\n",
       "      <td>197451.093625</td>\n",
       "      <td>192324.423229</td>\n",
       "      <td>194380.501498</td>\n",
       "      <td>239978.907647</td>\n",
       "      <td>...</td>\n",
       "      <td>1479.099951</td>\n",
       "      <td>838.865455</td>\n",
       "      <td>9558.654545</td>\n",
       "      <td>781.172727</td>\n",
       "      <td>0.0</td>\n",
       "      <td>0.00</td>\n",
       "      <td>231.60</td>\n",
       "      <td>107.665672</td>\n",
       "      <td>692.385957</td>\n",
       "      <td>4.970</td>\n",
       "    </tr>\n",
       "    <tr>\n",
       "      <th>2020</th>\n",
       "      <td>0.475540</td>\n",
       "      <td>6.326998</td>\n",
       "      <td>4151.676286</td>\n",
       "      <td>1978.319289</td>\n",
       "      <td>299235.374574</td>\n",
       "      <td>197952.391301</td>\n",
       "      <td>197952.391301</td>\n",
       "      <td>192658.319441</td>\n",
       "      <td>194752.051757</td>\n",
       "      <td>241339.221567</td>\n",
       "      <td>...</td>\n",
       "      <td>1474.528381</td>\n",
       "      <td>885.172727</td>\n",
       "      <td>9971.200000</td>\n",
       "      <td>824.736364</td>\n",
       "      <td>0.0</td>\n",
       "      <td>0.00</td>\n",
       "      <td>246.35</td>\n",
       "      <td>112.539461</td>\n",
       "      <td>638.928235</td>\n",
       "      <td>5.105</td>\n",
       "    </tr>\n",
       "    <tr>\n",
       "      <th>2021</th>\n",
       "      <td>0.535650</td>\n",
       "      <td>7.126762</td>\n",
       "      <td>4286.231597</td>\n",
       "      <td>2021.519719</td>\n",
       "      <td>349280.482308</td>\n",
       "      <td>227071.043733</td>\n",
       "      <td>227071.043733</td>\n",
       "      <td>221524.092024</td>\n",
       "      <td>223695.689237</td>\n",
       "      <td>271965.051408</td>\n",
       "      <td>...</td>\n",
       "      <td>1489.440390</td>\n",
       "      <td>931.480000</td>\n",
       "      <td>10383.745455</td>\n",
       "      <td>868.300000</td>\n",
       "      <td>0.0</td>\n",
       "      <td>0.00</td>\n",
       "      <td>261.10</td>\n",
       "      <td>119.295311</td>\n",
       "      <td>679.395431</td>\n",
       "      <td>5.240</td>\n",
       "    </tr>\n",
       "  </tbody>\n",
       "</table>\n",
       "<p>52 rows × 23 columns</p>\n",
       "</div>"
      ],
      "text/plain": [
       "Gás   C2F6 (t)    CF4 (t)      CH4 (t)       CO (t)        CO2 (t)  \\\n",
       "Ano                                                                  \n",
       "1970  0.232610   3.557421  1471.024024  2155.556658   19244.913199   \n",
       "1971  0.334611   5.117360  1525.506914  2259.625805   21598.587743   \n",
       "1972  0.404684   6.189025  1584.719568  2418.944795   23664.445521   \n",
       "1973  0.463147   7.083136  1642.612439  2596.053853   27726.668829   \n",
       "1974  0.471026   7.203619  1704.614365  2681.450599   30155.918952   \n",
       "1975  0.502952   7.691893  1854.360821  2730.894830   32292.965771   \n",
       "1976  0.577172   8.826970  1932.641716  2702.494362   35640.344723   \n",
       "1977  0.692855  10.596169  1931.897645  2675.992077   37313.909077   \n",
       "1978  0.749660  11.464915  1921.281930  2755.891877   40669.820049   \n",
       "1979  0.987246  15.098431  1972.682411  2878.725770   43232.369186   \n",
       "1980  1.080539  16.525204  2111.639306  2791.899507   43117.075654   \n",
       "1981  1.063125  16.258873  2150.573778  2668.683827   40550.583148   \n",
       "1982  1.264574  18.607690  2173.691232  2724.414118   40883.510601   \n",
       "1983  1.746654  24.198663  2187.943525  2745.306274   38613.336206   \n",
       "1984  2.007178  27.139354  2257.578582  2897.559170   39098.275632   \n",
       "1985  2.486368  31.878459  2276.949370  3044.089465   41605.846181   \n",
       "1986  3.537684  42.372633  2328.522493  3219.470896   46122.833940   \n",
       "1987  3.981541  46.610696  2389.055197  3186.878943   47537.176340   \n",
       "1988  4.131054  48.156150  2455.862616  3191.800660   48565.529300   \n",
       "1989  4.207579  48.830373  2522.609402  3293.349872   49320.417098   \n",
       "1990  4.424311  50.974299  3140.539349  3113.090154  320768.382019   \n",
       "1991  4.878391  56.534491  3234.108615  3110.150493  319892.995279   \n",
       "1992  5.160625  59.108713  3370.407340  2999.978818  359902.565301   \n",
       "1993  4.826898  55.775579  3308.158866  2888.716685  331043.731310   \n",
       "1994  4.646661  53.834394  3469.984089  2937.911534  378143.077796   \n",
       "1995  4.381888  50.990036  3662.010693  2853.706384  439538.034075   \n",
       "1996  4.351017  49.622241  3369.714390  2794.128268  384715.012080   \n",
       "1997  2.618729  33.827146  3460.277799  2700.521700  403260.817943   \n",
       "1998  2.868239  37.969766  3458.430157  2601.327790  381765.065616   \n",
       "1999  2.553874  33.595101  3505.856565  2517.645698  378589.907603   \n",
       "2000  1.952377  24.442364  3571.914568  2397.137149  371264.625653   \n",
       "2001  1.532887  19.112795  3726.839667  2335.662246  383126.523614   \n",
       "2002  1.954302  22.585388  3848.366807  2418.849847  405857.312767   \n",
       "2003  1.959726  23.344024  4226.186785  2550.104407  504980.458424   \n",
       "2004  1.682802  21.862180  4300.983936  2649.403382  478755.560560   \n",
       "2005  1.716501  20.648612  4190.234070  2617.210078  409271.781811   \n",
       "2006  1.733592  20.302403  4034.676759  2603.763268  339484.909683   \n",
       "2007  1.649163  19.551498  3765.048553  2694.853041  294829.623244   \n",
       "2008  1.597435  19.035887  3807.397928  2709.595002  293018.361152   \n",
       "2009  1.065994  13.706961  3742.795633  2376.483831  225585.346049   \n",
       "2010  0.984444  12.796067  3787.692736  2429.505465  224152.630780   \n",
       "2011  0.876539  11.207334  3772.085551  2291.701526  230800.441401   \n",
       "2012  0.906056  11.719239  3782.428977  2192.311597  252570.174590   \n",
       "2013  0.807697  10.386484  3858.863908  2134.901864  283081.371977   \n",
       "2014  0.578768   7.372085  3856.346713  2135.875613  270656.899031   \n",
       "2015  0.477444   6.136245  3992.254029  2037.068251  290361.641228   \n",
       "2016  0.513223   6.698715  4061.099156  1920.266497  290019.576669   \n",
       "2017  0.525054   6.869939  3959.904472  1944.421545  261710.380361   \n",
       "2018  0.474226   6.371409  3997.872368  2038.493573  269982.377755   \n",
       "2019  0.451315   6.004692  4081.215331  2006.535535  300435.283915   \n",
       "2020  0.475540   6.326998  4151.676286  1978.319289  299235.374574   \n",
       "2021  0.535650   7.126762  4286.231597  2021.519719  349280.482308   \n",
       "\n",
       "Gás   CO2e (t) GTP-AR2  CO2e (t) GTP-AR4  CO2e (t) GTP-AR5  CO2e (t) GTP-AR6  \\\n",
       "Ano                                                                            \n",
       "1970      20821.379814      20821.379814      19162.726020      19775.283385   \n",
       "1971      22466.288595      22466.288595      20748.481445      21386.175802   \n",
       "1972      24100.305265      24100.305265      22303.224240      22966.797327   \n",
       "1973      26683.827206      26683.827206      24827.077028      25516.409611   \n",
       "1974      28539.318732      28539.318732      26600.481407      27321.124852   \n",
       "1975      30593.767465      30593.767465      28507.669059      29285.642221   \n",
       "1976      33066.878007      33066.878007      30879.481709      31693.226162   \n",
       "1977      34182.312333      34182.312333      31967.243034      32784.131397   \n",
       "1978      35969.633601      35969.633601      33762.778999      34580.720998   \n",
       "1979      37830.720006      37830.720006      35550.182889      36394.126259   \n",
       "1980      38761.777641      38761.777641      36320.640316      37219.452192   \n",
       "1981      37320.269321      37320.269321      34876.520029      35794.094500   \n",
       "1982      37648.124724      37648.124724      35178.523167      36111.101644   \n",
       "1983      36467.392931      36467.392931      33981.942864      34926.715889   \n",
       "1984      37304.492885      37304.492885      34726.836104      35706.623685   \n",
       "1985      38842.902282      38842.902282      36235.238446      37233.188740   \n",
       "1986      41778.285575      41778.285575      39089.713887      40113.476163   \n",
       "1987      43071.699004      43071.699004      40298.336642      41338.081209   \n",
       "1988      43988.541448      43988.541448      41153.713294      42228.313030   \n",
       "1989      44939.940629      44939.940629      42019.800012      43116.828590   \n",
       "1990     198367.297670     198367.297670     194710.510403     196298.671383   \n",
       "1991     198549.149416     198549.149416     194785.093624     196423.788820   \n",
       "1992     221619.985571     221619.985571     217677.576627     219412.117836   \n",
       "1993     205496.779124     205496.779124     201610.561004     203290.112152   \n",
       "1994     232586.073039     232586.073039     228497.536762     230276.523152   \n",
       "1995     267589.151576     267589.151576     263284.976192     265192.393533   \n",
       "1996     235381.094700     235381.094700     231429.510060     233159.424431   \n",
       "1997     246192.057189     246192.057189     242146.730928     243918.260908   \n",
       "1998     234556.748324     234556.748324     230484.675105     232222.285354   \n",
       "1999     233065.471483     233065.471483     228976.593024     230754.711470   \n",
       "2000     229362.757060     229362.757060     225202.142194     226964.737958   \n",
       "2001     236615.620955     236615.620955     232343.054250     234194.071826   \n",
       "2002     250601.632644     250601.632644     246093.289486     248013.698028   \n",
       "2003     308245.713734     308245.713734     303220.023228     305374.458001   \n",
       "2004     294423.640933     294423.640933     289299.605972     291467.647495   \n",
       "2005     255348.509907     255348.509907     250404.096108     252502.638826   \n",
       "2006     216174.714453     216174.714453     211356.111047     213329.877180   \n",
       "2007     190210.427773     190210.427773     185676.587240     187528.305462   \n",
       "2008     189430.145254     189430.145254     184810.731294     186650.402157   \n",
       "2009     151609.653561     151609.653561     147164.496737     148962.661658   \n",
       "2010     151509.993513     151509.993513     146989.850169     148814.974847   \n",
       "2011     155828.960682     155828.960682     151213.321516     153010.668671   \n",
       "2012     167844.833999     167844.833999     163215.794903     165044.951336   \n",
       "2013     185675.001442     185675.001442     180884.392711     182769.229992   \n",
       "2014     178917.591561     178917.591561     174124.391282     176000.959661   \n",
       "2015     190356.373575     190356.373575     185452.912830     187416.451615   \n",
       "2016     191131.768412     191131.768412     186087.165900     188095.885437   \n",
       "2017     175410.908676     175410.908676     170415.218494     172361.599109   \n",
       "2018     179964.218736     179964.218736     174959.714692     176944.754324   \n",
       "2019     197451.093625     197451.093625     192324.423229     194380.501498   \n",
       "2020     197952.391301     197952.391301     192658.319441     194752.051757   \n",
       "2021     227071.043733     227071.043733     221524.092024     223695.689237   \n",
       "\n",
       "Gás   CO2e (t) GWP-AR2  ...    COVNM (t)  HFC-125 (t)  HFC-134a (t)  \\\n",
       "Ano                     ...                                           \n",
       "1970      35396.183865  ...   742.074863     0.000000      0.000000   \n",
       "1971      37570.982886  ...   730.119047     0.000000      0.000000   \n",
       "1972      39800.768350  ...   774.278817     0.000000      0.000000   \n",
       "1973      42947.755490  ...   796.866394     0.000000      0.000000   \n",
       "1974      45431.240064  ...  1024.694923     0.000000      0.000000   \n",
       "1975      48944.729581  ...  1065.682750     0.000000      0.000000   \n",
       "1976      52203.028009  ...  1091.778909     0.000000      0.000000   \n",
       "1977      53333.605735  ...  1147.712448     0.000000      0.000000   \n",
       "1978      55015.291182  ...  1289.853564     0.000000      0.000000   \n",
       "1979      57384.964095  ...  1512.206508     0.000000      0.000000   \n",
       "1980      59691.507606  ...  1365.450195     0.000000      0.000000   \n",
       "1981      58591.748509  ...  1198.478342     0.000000      0.000000   \n",
       "1982      59135.759770  ...  1247.968908     0.000000      0.000000   \n",
       "1983      58065.322345  ...  1205.554391     0.000000      0.000000   \n",
       "1984      59592.103833  ...  1237.516997     0.000000      0.000000   \n",
       "1985      61304.443649  ...   937.803266     0.000000      0.000000   \n",
       "1986      64716.428523  ...   880.511974     0.000000      0.000000   \n",
       "1987      66604.053586  ...   837.036740     0.000000      0.000000   \n",
       "1988      68159.457490  ...   926.509430     0.000000      0.000000   \n",
       "1989      69780.160839  ...  1003.815845     0.000000      0.000000   \n",
       "1990     229318.798211  ...   985.668175     0.000000      1.000000   \n",
       "1991     230399.423515  ...   939.643396     0.000000      1.800000   \n",
       "1992     254828.244779  ...   875.565200     0.000000      8.500000   \n",
       "1993     238111.066475  ...   914.460768     0.000000     16.300000   \n",
       "1994     266861.044218  ...   943.315546     0.000000    137.300000   \n",
       "1995     303809.320731  ...   933.912226     0.000000    290.700000   \n",
       "1996     268851.258880  ...   966.327010     0.000000   1254.800000   \n",
       "1997     280607.314268  ...   966.398328     0.000000   1103.600000   \n",
       "1998     269066.975152  ...   995.679243     0.000000   1614.800000   \n",
       "1999     268066.360108  ...  1053.313075     0.000000   1899.900000   \n",
       "2000     265039.981001  ...  1057.445756     7.100000   1709.200000   \n",
       "2001     273944.198576  ...   967.444068    39.200000   2625.400000   \n",
       "2002     289212.920018  ...   969.157687    50.800000   2633.000000   \n",
       "2003     350746.610941  ...   949.901191    54.800000   2966.800000   \n",
       "2004     337649.979401  ...  1015.453407   120.700000   2788.700000   \n",
       "2005     297627.646699  ...  1006.445003   124.900000   4050.600000   \n",
       "2006     256848.507986  ...  1243.673145   251.700000   3467.700000   \n",
       "2007     228590.733415  ...  1043.665558   285.000000   5741.100000   \n",
       "2008     227880.191345  ...  1349.504947   302.100000   3458.100000   \n",
       "2009     189672.142009  ...  1343.863576   358.700000   5138.300000   \n",
       "2010     190395.885765  ...  1521.970366   501.200000   7034.300000   \n",
       "2011     194568.314031  ...  1572.593720   468.407273   6258.290909   \n",
       "2012     206750.256861  ...  1563.082835   514.714545   6670.836364   \n",
       "2013     225493.635922  ...  1616.414260   561.021818   7083.381818   \n",
       "2014     218797.526543  ...  1590.007160   607.329091   7495.927273   \n",
       "2015     231607.671538  ...  1499.463219   653.636364   7908.472727   \n",
       "2016     233197.806461  ...  1474.185833   699.943636   8321.018182   \n",
       "2017     216608.697583  ...  1360.068131   746.250909   8733.563636   \n",
       "2018     221567.879942  ...  1405.981487   792.558182   9146.109091   \n",
       "2019     239978.907647  ...  1479.099951   838.865455   9558.654545   \n",
       "2020     241339.221567  ...  1474.528381   885.172727   9971.200000   \n",
       "2021     271965.051408  ...  1489.440390   931.480000  10383.745455   \n",
       "\n",
       "Gás   HFC-143a (t)  HFC-152a (t)  HFC-23 (t)  HFC-32 (t)     N2O (t)  \\\n",
       "Ano                                                                    \n",
       "1970      0.000000           0.0        0.00        0.00   31.632709   \n",
       "1971      0.000000           0.0        0.00        0.00   32.609237   \n",
       "1972      0.000000           0.0        0.00        0.00   34.311864   \n",
       "1973      0.000000           0.0        0.00        0.00   35.278689   \n",
       "1974      0.000000           0.0        0.00        0.00   37.098183   \n",
       "1975      0.000000           0.0        0.00        0.00   39.451008   \n",
       "1976      0.000000           0.0        0.00        0.00   41.583225   \n",
       "1977      0.000000           0.0        0.00        0.00   42.571086   \n",
       "1978      0.000000           0.0        0.00        0.00   42.426649   \n",
       "1979      0.000000           0.0        0.00        0.00   43.900389   \n",
       "1980      0.000000           0.0        0.00        0.00   46.964510   \n",
       "1981      0.000000           0.0        0.00        0.00   46.186807   \n",
       "1982      0.000000           0.0        0.00        0.00   46.495603   \n",
       "1983      0.000000           0.0        0.00        0.00   46.357382   \n",
       "1984      0.000000           0.0        0.00        0.00   48.178970   \n",
       "1985      0.000000           0.0        0.00        0.00   48.534115   \n",
       "1986      0.000000           0.0        0.00        0.00   49.697017   \n",
       "1987      0.000000           0.0        0.00        0.00   51.314671   \n",
       "1988      0.000000           0.0        0.00        0.00   52.086735   \n",
       "1989      0.000000           0.0        0.00        0.00   53.875939   \n",
       "1990      0.000000           0.0      120.24        0.00   68.086051   \n",
       "1991      0.000000           0.0      137.52        0.00   69.767750   \n",
       "1992      0.000000           0.0      163.60        0.00   73.419262   \n",
       "1993      0.000000           0.0      172.28        0.00   72.719511   \n",
       "1994      0.000000           0.0      156.60        0.00   77.261423   \n",
       "1995      0.000000           0.0      153.04        0.00   81.711227   \n",
       "1996      0.000000           0.0       89.04        0.00   75.228384   \n",
       "1997      0.000000           0.0       95.32        0.00   77.902220   \n",
       "1998      0.000000           0.0       13.04        0.00   79.186216   \n",
       "1999      0.000000           0.0       97.16        0.00   79.285470   \n",
       "2000      7.500000           0.1        0.00        0.00   81.044141   \n",
       "2001     27.100000          29.5        0.00        0.00   82.802946   \n",
       "2002     39.800000           8.1        0.00        0.00   88.775356   \n",
       "2003     50.000000          23.8        0.00        0.00  100.528006   \n",
       "2004    103.700000          54.3        0.00        0.00  102.083939   \n",
       "2005     92.900000         174.8        0.00        0.00   98.401302   \n",
       "2006    215.700000         280.0        0.00        0.00   95.337450   \n",
       "2007    252.000000           0.0        0.00       71.80   91.251294   \n",
       "2008    307.400000           0.0        0.00       42.00   91.657180   \n",
       "2009    320.900000           0.0        0.00       87.20   88.425194   \n",
       "2010    467.100000           0.0        0.00      105.90   91.172977   \n",
       "2011    432.663636           0.0        0.00      113.60   95.204213   \n",
       "2012    476.227273           0.0        0.00      128.35   95.330445   \n",
       "2013    519.790909           0.0        0.00      143.10   99.953810   \n",
       "2014    563.354545           0.0        0.00      157.85  100.213115   \n",
       "2015    606.918182           0.0        0.00      172.60  101.416179   \n",
       "2016    650.481818           0.0        0.00      187.35  105.261705   \n",
       "2017    694.045455           0.0        0.00      202.10  105.515643   \n",
       "2018    737.609091           0.0        0.00      216.85  104.897829   \n",
       "2019    781.172727           0.0        0.00      231.60  107.665672   \n",
       "2020    824.736364           0.0        0.00      246.35  112.539461   \n",
       "2021    868.300000           0.0        0.00      261.10  119.295311   \n",
       "\n",
       "Gás      NOx (t)  SF6 (t)  \n",
       "Ano                        \n",
       "1970  154.072797    0.000  \n",
       "1971  170.550178    0.000  \n",
       "1972  188.856161    0.000  \n",
       "1973  217.320480    0.000  \n",
       "1974  247.521415    0.000  \n",
       "1975  262.716346    0.000  \n",
       "1976  287.013048    0.000  \n",
       "1977  292.405821    0.000  \n",
       "1978  322.982906    0.000  \n",
       "1979  347.173887    0.000  \n",
       "1980  344.353822    0.000  \n",
       "1981  344.012976    0.000  \n",
       "1982  355.441264    0.000  \n",
       "1983  350.262839    0.000  \n",
       "1984  363.820804    0.000  \n",
       "1985  393.604889    0.000  \n",
       "1986  423.198378    0.000  \n",
       "1987  434.279859    0.000  \n",
       "1988  437.729255    0.000  \n",
       "1989  437.574618    0.000  \n",
       "1990  426.997824    5.000  \n",
       "1991  442.184234    4.900  \n",
       "1992  449.114053    5.500  \n",
       "1993  459.700363    7.050  \n",
       "1994  477.929424    7.000  \n",
       "1995  502.360205    7.100  \n",
       "1996  529.396959    6.900  \n",
       "1997  545.846655    8.450  \n",
       "1998  558.942591    7.400  \n",
       "1999  574.628315    7.350  \n",
       "2000  574.674663    7.650  \n",
       "2001  589.993818    7.300  \n",
       "2002  597.369738    8.750  \n",
       "2003  597.989110   10.150  \n",
       "2004  631.011916   11.500  \n",
       "2005  634.508540   12.575  \n",
       "2006  638.842130   14.000  \n",
       "2007  670.636700   16.300  \n",
       "2008  708.449694   16.450  \n",
       "2009  674.746872   10.050  \n",
       "2010  710.087454    3.700  \n",
       "2011  716.702391    3.890  \n",
       "2012  741.050899    4.025  \n",
       "2013  775.456952    4.160  \n",
       "2014  794.529492    4.295  \n",
       "2015  751.179087    4.430  \n",
       "2016  698.056099    4.565  \n",
       "2017  699.608724    4.700  \n",
       "2018  688.450981    4.835  \n",
       "2019  692.385957    4.970  \n",
       "2020  638.928235    5.105  \n",
       "2021  679.395431    5.240  \n",
       "\n",
       "[52 rows x 23 columns]"
      ]
     },
     "execution_count": 82,
     "metadata": {},
     "output_type": "execute_result"
    }
   ],
   "source": [
    "seeg_data_ano_mean = seeg_data_ano_mean.pivot(\n",
    "    index=\"Ano\", columns=\"Gás\", values=\"Emissão\"\n",
    ")\n",
    "seeg_data_ano_mean"
   ]
  },
  {
   "cell_type": "code",
   "execution_count": null,
   "metadata": {},
   "outputs": [],
   "source": [
    "# PLOT DATA"
   ]
  },
  {
   "cell_type": "code",
   "execution_count": 83,
   "metadata": {},
   "outputs": [
    {
     "data": {
      "text/plain": [
       "<Axes: xlabel='Ano'>"
      ]
     },
     "execution_count": 83,
     "metadata": {},
     "output_type": "execute_result"
    },
    {
     "data": {
      "image/png": "[encoded data removed]",
      "text/plain": [
       "<Figure size 1000x600 with 1 Axes>"
      ]
     },
     "metadata": {},
     "output_type": "display_data"
    }
   ],
   "source": [
    "seeg_data_ano_mean.plot(figsize=(10, 6))"
   ]
  },
  {
   "cell_type": "code",
   "execution_count": null,
   "metadata": {},
   "outputs": [],
   "source": [
    "# PLOT DATA USING SUBPLOTS"
   ]
  },
  {
   "cell_type": "code",
   "execution_count": 84,
   "metadata": {},
   "outputs": [
    {
     "data": {
      "text/plain": [
       "array([<Axes: xlabel='Ano'>, <Axes: xlabel='Ano'>, <Axes: xlabel='Ano'>,\n",
       "       <Axes: xlabel='Ano'>, <Axes: xlabel='Ano'>, <Axes: xlabel='Ano'>,\n",
       "       <Axes: xlabel='Ano'>, <Axes: xlabel='Ano'>, <Axes: xlabel='Ano'>,\n",
       "       <Axes: xlabel='Ano'>, <Axes: xlabel='Ano'>, <Axes: xlabel='Ano'>,\n",
       "       <Axes: xlabel='Ano'>, <Axes: xlabel='Ano'>, <Axes: xlabel='Ano'>,\n",
       "       <Axes: xlabel='Ano'>, <Axes: xlabel='Ano'>, <Axes: xlabel='Ano'>,\n",
       "       <Axes: xlabel='Ano'>, <Axes: xlabel='Ano'>, <Axes: xlabel='Ano'>,\n",
       "       <Axes: xlabel='Ano'>, <Axes: xlabel='Ano'>], dtype=object)"
      ]
     },
     "execution_count": 84,
     "metadata": {},
     "output_type": "execute_result"
    },
    {
     "data": {
      "image/png": "[encoded data removed]",
      "text/plain": [
       "<Figure size 1000x3000 with 23 Axes>"
      ]
     },
     "metadata": {},
     "output_type": "display_data"
    }
   ],
   "source": [
    "seeg_data_ano_mean.plot(subplots=True, figsize=(10, 30))"
   ]
  },
  {
   "cell_type": "code",
   "execution_count": null,
   "metadata": {},
   "outputs": [],
   "source": [
    "# LOAD EXCEL FILE"
   ]
  },
  {
   "cell_type": "code",
   "execution_count": 85,
   "metadata": {},
   "outputs": [
    {
     "data": {
      "text/html": [
       "<div>\n",
       "<style scoped>\n",
       "    .dataframe tbody tr th:only-of-type {\n",
       "        vertical-align: middle;\n",
       "    }\n",
       "\n",
       "    .dataframe tbody tr th {\n",
       "        vertical-align: top;\n",
       "    }\n",
       "\n",
       "    .dataframe thead th {\n",
       "        text-align: right;\n",
       "    }\n",
       "</style>\n",
       "<table border=\"1\" class=\"dataframe\">\n",
       "  <thead>\n",
       "    <tr style=\"text-align: right;\">\n",
       "      <th></th>\n",
       "      <th>UF</th>\n",
       "      <th>COD. UF</th>\n",
       "      <th>COD. MUNIC</th>\n",
       "      <th>NOME DO MUNICÍPIO</th>\n",
       "      <th>POPULAÇÃO</th>\n",
       "    </tr>\n",
       "  </thead>\n",
       "  <tbody>\n",
       "    <tr>\n",
       "      <th>0</th>\n",
       "      <td>RO</td>\n",
       "      <td>11</td>\n",
       "      <td>15</td>\n",
       "      <td>Alta Floresta D'Oeste</td>\n",
       "      <td>21558</td>\n",
       "    </tr>\n",
       "    <tr>\n",
       "      <th>1</th>\n",
       "      <td>RO</td>\n",
       "      <td>11</td>\n",
       "      <td>23</td>\n",
       "      <td>Ariquemes</td>\n",
       "      <td>100896</td>\n",
       "    </tr>\n",
       "    <tr>\n",
       "      <th>2</th>\n",
       "      <td>RO</td>\n",
       "      <td>11</td>\n",
       "      <td>31</td>\n",
       "      <td>Cabixi</td>\n",
       "      <td>5107</td>\n",
       "    </tr>\n",
       "    <tr>\n",
       "      <th>3</th>\n",
       "      <td>RO</td>\n",
       "      <td>11</td>\n",
       "      <td>49</td>\n",
       "      <td>Cacoal</td>\n",
       "      <td>92202</td>\n",
       "    </tr>\n",
       "    <tr>\n",
       "      <th>4</th>\n",
       "      <td>RO</td>\n",
       "      <td>11</td>\n",
       "      <td>56</td>\n",
       "      <td>Cerejeiras</td>\n",
       "      <td>15237</td>\n",
       "    </tr>\n",
       "    <tr>\n",
       "      <th>5</th>\n",
       "      <td>RO</td>\n",
       "      <td>11</td>\n",
       "      <td>64</td>\n",
       "      <td>Colorado do Oeste</td>\n",
       "      <td>15747</td>\n",
       "    </tr>\n",
       "    <tr>\n",
       "      <th>6</th>\n",
       "      <td>RO</td>\n",
       "      <td>11</td>\n",
       "      <td>72</td>\n",
       "      <td>Corumbiara</td>\n",
       "      <td>7503</td>\n",
       "    </tr>\n",
       "    <tr>\n",
       "      <th>7</th>\n",
       "      <td>RO</td>\n",
       "      <td>11</td>\n",
       "      <td>80</td>\n",
       "      <td>Costa Marques</td>\n",
       "      <td>12633</td>\n",
       "    </tr>\n",
       "    <tr>\n",
       "      <th>8</th>\n",
       "      <td>RO</td>\n",
       "      <td>11</td>\n",
       "      <td>98</td>\n",
       "      <td>Espigão D'Oeste</td>\n",
       "      <td>29722</td>\n",
       "    </tr>\n",
       "    <tr>\n",
       "      <th>9</th>\n",
       "      <td>RO</td>\n",
       "      <td>11</td>\n",
       "      <td>106</td>\n",
       "      <td>Guajará-Mirim</td>\n",
       "      <td>39396</td>\n",
       "    </tr>\n",
       "    <tr>\n",
       "      <th>10</th>\n",
       "      <td>RO</td>\n",
       "      <td>11</td>\n",
       "      <td>114</td>\n",
       "      <td>Jaru</td>\n",
       "      <td>52090</td>\n",
       "    </tr>\n",
       "    <tr>\n",
       "      <th>11</th>\n",
       "      <td>RO</td>\n",
       "      <td>11</td>\n",
       "      <td>122</td>\n",
       "      <td>Ji-Paraná</td>\n",
       "      <td>136825</td>\n",
       "    </tr>\n",
       "    <tr>\n",
       "      <th>12</th>\n",
       "      <td>RO</td>\n",
       "      <td>11</td>\n",
       "      <td>130</td>\n",
       "      <td>Machadinho D'Oeste</td>\n",
       "      <td>30626</td>\n",
       "    </tr>\n",
       "    <tr>\n",
       "      <th>13</th>\n",
       "      <td>RO</td>\n",
       "      <td>11</td>\n",
       "      <td>148</td>\n",
       "      <td>Nova Brasilândia D'Oeste</td>\n",
       "      <td>17355</td>\n",
       "    </tr>\n",
       "    <tr>\n",
       "      <th>14</th>\n",
       "      <td>RO</td>\n",
       "      <td>11</td>\n",
       "      <td>155</td>\n",
       "      <td>Ouro Preto do Oeste</td>\n",
       "      <td>36753</td>\n",
       "    </tr>\n",
       "    <tr>\n",
       "      <th>15</th>\n",
       "      <td>RO</td>\n",
       "      <td>11</td>\n",
       "      <td>189</td>\n",
       "      <td>Pimenta Bueno</td>\n",
       "      <td>37464</td>\n",
       "    </tr>\n",
       "    <tr>\n",
       "      <th>16</th>\n",
       "      <td>RO</td>\n",
       "      <td>11</td>\n",
       "      <td>205</td>\n",
       "      <td>Porto Velho</td>\n",
       "      <td>461.748(1)</td>\n",
       "    </tr>\n",
       "    <tr>\n",
       "      <th>17</th>\n",
       "      <td>RO</td>\n",
       "      <td>11</td>\n",
       "      <td>254</td>\n",
       "      <td>Presidente Médici</td>\n",
       "      <td>19316</td>\n",
       "    </tr>\n",
       "    <tr>\n",
       "      <th>18</th>\n",
       "      <td>RO</td>\n",
       "      <td>11</td>\n",
       "      <td>262</td>\n",
       "      <td>Rio Crespo</td>\n",
       "      <td>3476</td>\n",
       "    </tr>\n",
       "    <tr>\n",
       "      <th>19</th>\n",
       "      <td>RO</td>\n",
       "      <td>11</td>\n",
       "      <td>288</td>\n",
       "      <td>Rolim de Moura</td>\n",
       "      <td>57180</td>\n",
       "    </tr>\n",
       "  </tbody>\n",
       "</table>\n",
       "</div>"
      ],
      "text/plain": [
       "    UF  COD. UF  COD. MUNIC         NOME DO MUNICÍPIO   POPULAÇÃO\n",
       "0   RO       11          15     Alta Floresta D'Oeste       21558\n",
       "1   RO       11          23                 Ariquemes      100896\n",
       "2   RO       11          31                    Cabixi        5107\n",
       "3   RO       11          49                    Cacoal       92202\n",
       "4   RO       11          56                Cerejeiras       15237\n",
       "5   RO       11          64         Colorado do Oeste       15747\n",
       "6   RO       11          72                Corumbiara        7503\n",
       "7   RO       11          80             Costa Marques       12633\n",
       "8   RO       11          98           Espigão D'Oeste       29722\n",
       "9   RO       11         106             Guajará-Mirim       39396\n",
       "10  RO       11         114                      Jaru       52090\n",
       "11  RO       11         122                 Ji-Paraná      136825\n",
       "12  RO       11         130        Machadinho D'Oeste       30626\n",
       "13  RO       11         148  Nova Brasilândia D'Oeste       17355\n",
       "14  RO       11         155       Ouro Preto do Oeste       36753\n",
       "15  RO       11         189             Pimenta Bueno       37464\n",
       "16  RO       11         205               Porto Velho  461.748(1)\n",
       "17  RO       11         254         Presidente Médici       19316\n",
       "18  RO       11         262                Rio Crespo        3476\n",
       "19  RO       11         288            Rolim de Moura       57180"
      ]
     },
     "execution_count": 85,
     "metadata": {},
     "output_type": "execute_result"
    }
   ],
   "source": [
    "ibge_data = pd.read_excel(\"IBGE_2022_data.xls\", header=1, skipfooter=34)\n",
    "ibge_data.head(20)"
   ]
  },
  {
   "cell_type": "code",
   "execution_count": 86,
   "metadata": {},
   "outputs": [
    {
     "data": {
      "text/html": [
       "<div>\n",
       "<style scoped>\n",
       "    .dataframe tbody tr th:only-of-type {\n",
       "        vertical-align: middle;\n",
       "    }\n",
       "\n",
       "    .dataframe tbody tr th {\n",
       "        vertical-align: top;\n",
       "    }\n",
       "\n",
       "    .dataframe thead th {\n",
       "        text-align: right;\n",
       "    }\n",
       "</style>\n",
       "<table border=\"1\" class=\"dataframe\">\n",
       "  <thead>\n",
       "    <tr style=\"text-align: right;\">\n",
       "      <th></th>\n",
       "      <th>COD. UF</th>\n",
       "      <th>COD. MUNIC</th>\n",
       "    </tr>\n",
       "    <tr>\n",
       "      <th>UF</th>\n",
       "      <th></th>\n",
       "      <th></th>\n",
       "    </tr>\n",
       "  </thead>\n",
       "  <tbody>\n",
       "    <tr>\n",
       "      <th>AC</th>\n",
       "      <td>264</td>\n",
       "      <td>7719</td>\n",
       "    </tr>\n",
       "    <tr>\n",
       "      <th>AL</th>\n",
       "      <td>2754</td>\n",
       "      <td>487914</td>\n",
       "    </tr>\n",
       "    <tr>\n",
       "      <th>AM</th>\n",
       "      <td>806</td>\n",
       "      <td>134451</td>\n",
       "    </tr>\n",
       "    <tr>\n",
       "      <th>AP</th>\n",
       "      <td>256</td>\n",
       "      <td>5908</td>\n",
       "    </tr>\n",
       "    <tr>\n",
       "      <th>BA</th>\n",
       "      <td>12093</td>\n",
       "      <td>7151757</td>\n",
       "    </tr>\n",
       "    <tr>\n",
       "      <th>CE</th>\n",
       "      <td>4232</td>\n",
       "      <td>1295156</td>\n",
       "    </tr>\n",
       "    <tr>\n",
       "      <th>DF</th>\n",
       "      <td>53</td>\n",
       "      <td>108</td>\n",
       "    </tr>\n",
       "    <tr>\n",
       "      <th>ES</th>\n",
       "      <td>2496</td>\n",
       "      <td>226710</td>\n",
       "    </tr>\n",
       "    <tr>\n",
       "      <th>GO</th>\n",
       "      <td>12792</td>\n",
       "      <td>2788737</td>\n",
       "    </tr>\n",
       "    <tr>\n",
       "      <th>MA</th>\n",
       "      <td>4557</td>\n",
       "      <td>1404205</td>\n",
       "    </tr>\n",
       "    <tr>\n",
       "      <th>MG</th>\n",
       "      <td>26443</td>\n",
       "      <td>31545374</td>\n",
       "    </tr>\n",
       "    <tr>\n",
       "      <th>MS</th>\n",
       "      <td>3950</td>\n",
       "      <td>355226</td>\n",
       "    </tr>\n",
       "    <tr>\n",
       "      <th>MT</th>\n",
       "      <td>7191</td>\n",
       "      <td>739592</td>\n",
       "    </tr>\n",
       "    <tr>\n",
       "      <th>PA</th>\n",
       "      <td>2160</td>\n",
       "      <td>643582</td>\n",
       "    </tr>\n",
       "    <tr>\n",
       "      <th>PB</th>\n",
       "      <td>5575</td>\n",
       "      <td>1941029</td>\n",
       "    </tr>\n",
       "    <tr>\n",
       "      <th>PE</th>\n",
       "      <td>4810</td>\n",
       "      <td>1524668</td>\n",
       "    </tr>\n",
       "    <tr>\n",
       "      <th>PI</th>\n",
       "      <td>4928</td>\n",
       "      <td>1275355</td>\n",
       "    </tr>\n",
       "    <tr>\n",
       "      <th>PR</th>\n",
       "      <td>16359</td>\n",
       "      <td>5760146</td>\n",
       "    </tr>\n",
       "    <tr>\n",
       "      <th>RJ</th>\n",
       "      <td>3036</td>\n",
       "      <td>287819</td>\n",
       "    </tr>\n",
       "    <tr>\n",
       "      <th>RN</th>\n",
       "      <td>4008</td>\n",
       "      <td>1276977</td>\n",
       "    </tr>\n",
       "    <tr>\n",
       "      <th>RO</th>\n",
       "      <td>572</td>\n",
       "      <td>35443</td>\n",
       "    </tr>\n",
       "    <tr>\n",
       "      <th>RR</th>\n",
       "      <td>210</td>\n",
       "      <td>4693</td>\n",
       "    </tr>\n",
       "    <tr>\n",
       "      <th>RS</th>\n",
       "      <td>21371</td>\n",
       "      <td>5903048</td>\n",
       "    </tr>\n",
       "    <tr>\n",
       "      <th>SC</th>\n",
       "      <td>12390</td>\n",
       "      <td>2894993</td>\n",
       "    </tr>\n",
       "    <tr>\n",
       "      <th>SE</th>\n",
       "      <td>2100</td>\n",
       "      <td>294557</td>\n",
       "    </tr>\n",
       "    <tr>\n",
       "      <th>SP</th>\n",
       "      <td>22575</td>\n",
       "      <td>18510133</td>\n",
       "    </tr>\n",
       "    <tr>\n",
       "      <th>TO</th>\n",
       "      <td>2363</td>\n",
       "      <td>1605293</td>\n",
       "    </tr>\n",
       "  </tbody>\n",
       "</table>\n",
       "</div>"
      ],
      "text/plain": [
       "    COD. UF  COD. MUNIC\n",
       "UF                     \n",
       "AC      264        7719\n",
       "AL     2754      487914\n",
       "AM      806      134451\n",
       "AP      256        5908\n",
       "BA    12093     7151757\n",
       "CE     4232     1295156\n",
       "DF       53         108\n",
       "ES     2496      226710\n",
       "GO    12792     2788737\n",
       "MA     4557     1404205\n",
       "MG    26443    31545374\n",
       "MS     3950      355226\n",
       "MT     7191      739592\n",
       "PA     2160      643582\n",
       "PB     5575     1941029\n",
       "PE     4810     1524668\n",
       "PI     4928     1275355\n",
       "PR    16359     5760146\n",
       "RJ     3036      287819\n",
       "RN     4008     1276977\n",
       "RO      572       35443\n",
       "RR      210        4693\n",
       "RS    21371     5903048\n",
       "SC    12390     2894993\n",
       "SE     2100      294557\n",
       "SP    22575    18510133\n",
       "TO     2363     1605293"
      ]
     },
     "execution_count": 86,
     "metadata": {},
     "output_type": "execute_result"
    }
   ],
   "source": [
    "ibge_data.groupby(\"UF\").sum(numeric_only=True)"
   ]
  },
  {
   "cell_type": "code",
   "execution_count": null,
   "metadata": {},
   "outputs": [],
   "source": [
    "# VIEW INVALID DATA"
   ]
  },
  {
   "cell_type": "code",
   "execution_count": 87,
   "metadata": {},
   "outputs": [
    {
     "name": "stderr",
     "output_type": "stream",
     "text": [
      "<>:1: SyntaxWarning: invalid escape sequence '\\('\n",
      "<>:1: SyntaxWarning: invalid escape sequence '\\('\n",
      "C:\\Users\\55479\\AppData\\Local\\Temp\\ipykernel_2260\\2584511426.py:1: SyntaxWarning: invalid escape sequence '\\('\n",
      "  ibge_data[ibge_data[\"POPULAÇÃO\"].str.contains(\"\\(\", na=False)]\n"
     ]
    },
    {
     "data": {
      "text/html": [
       "<div>\n",
       "<style scoped>\n",
       "    .dataframe tbody tr th:only-of-type {\n",
       "        vertical-align: middle;\n",
       "    }\n",
       "\n",
       "    .dataframe tbody tr th {\n",
       "        vertical-align: top;\n",
       "    }\n",
       "\n",
       "    .dataframe thead th {\n",
       "        text-align: right;\n",
       "    }\n",
       "</style>\n",
       "<table border=\"1\" class=\"dataframe\">\n",
       "  <thead>\n",
       "    <tr style=\"text-align: right;\">\n",
       "      <th></th>\n",
       "      <th>UF</th>\n",
       "      <th>COD. UF</th>\n",
       "      <th>COD. MUNIC</th>\n",
       "      <th>NOME DO MUNICÍPIO</th>\n",
       "      <th>POPULAÇÃO</th>\n",
       "    </tr>\n",
       "  </thead>\n",
       "  <tbody>\n",
       "    <tr>\n",
       "      <th>16</th>\n",
       "      <td>RO</td>\n",
       "      <td>11</td>\n",
       "      <td>205</td>\n",
       "      <td>Porto Velho</td>\n",
       "      <td>461.748(1)</td>\n",
       "    </tr>\n",
       "    <tr>\n",
       "      <th>74</th>\n",
       "      <td>AM</td>\n",
       "      <td>13</td>\n",
       "      <td>29</td>\n",
       "      <td>Alvarães</td>\n",
       "      <td>15.916(2)</td>\n",
       "    </tr>\n",
       "    <tr>\n",
       "      <th>81</th>\n",
       "      <td>AM</td>\n",
       "      <td>13</td>\n",
       "      <td>409</td>\n",
       "      <td>Barcelos</td>\n",
       "      <td>18.399(3)</td>\n",
       "    </tr>\n",
       "    <tr>\n",
       "      <th>83</th>\n",
       "      <td>AM</td>\n",
       "      <td>13</td>\n",
       "      <td>607</td>\n",
       "      <td>Benjamin Constant</td>\n",
       "      <td>37.436(4)</td>\n",
       "    </tr>\n",
       "    <tr>\n",
       "      <th>87</th>\n",
       "      <td>AM</td>\n",
       "      <td>13</td>\n",
       "      <td>805</td>\n",
       "      <td>Borba</td>\n",
       "      <td>33.209(5)</td>\n",
       "    </tr>\n",
       "    <tr>\n",
       "      <th>88</th>\n",
       "      <td>AM</td>\n",
       "      <td>13</td>\n",
       "      <td>839</td>\n",
       "      <td>Caapiranga</td>\n",
       "      <td>13.851(6)</td>\n",
       "    </tr>\n",
       "    <tr>\n",
       "      <th>97</th>\n",
       "      <td>AM</td>\n",
       "      <td>13</td>\n",
       "      <td>1605</td>\n",
       "      <td>Fonte Boa</td>\n",
       "      <td>27.692(7)</td>\n",
       "    </tr>\n",
       "    <tr>\n",
       "      <th>98</th>\n",
       "      <td>AM</td>\n",
       "      <td>13</td>\n",
       "      <td>1654</td>\n",
       "      <td>Guajará</td>\n",
       "      <td>13.809(8)</td>\n",
       "    </tr>\n",
       "    <tr>\n",
       "      <th>99</th>\n",
       "      <td>AM</td>\n",
       "      <td>13</td>\n",
       "      <td>1704</td>\n",
       "      <td>Humaitá</td>\n",
       "      <td>59.504(9)</td>\n",
       "    </tr>\n",
       "    <tr>\n",
       "      <th>103</th>\n",
       "      <td>AM</td>\n",
       "      <td>13</td>\n",
       "      <td>1951</td>\n",
       "      <td>Itamarati</td>\n",
       "      <td>10.783(10)</td>\n",
       "    </tr>\n",
       "    <tr>\n",
       "      <th>104</th>\n",
       "      <td>AM</td>\n",
       "      <td>13</td>\n",
       "      <td>2009</td>\n",
       "      <td>Itapiranga</td>\n",
       "      <td>10.183(11)</td>\n",
       "    </tr>\n",
       "    <tr>\n",
       "      <th>105</th>\n",
       "      <td>AM</td>\n",
       "      <td>13</td>\n",
       "      <td>2108</td>\n",
       "      <td>Japurá</td>\n",
       "      <td>9.281(12)</td>\n",
       "    </tr>\n",
       "    <tr>\n",
       "      <th>107</th>\n",
       "      <td>AM</td>\n",
       "      <td>13</td>\n",
       "      <td>2306</td>\n",
       "      <td>Jutaí</td>\n",
       "      <td>25.048(13)</td>\n",
       "    </tr>\n",
       "    <tr>\n",
       "      <th>108</th>\n",
       "      <td>AM</td>\n",
       "      <td>13</td>\n",
       "      <td>2405</td>\n",
       "      <td>Lábrea</td>\n",
       "      <td>47.003(14)</td>\n",
       "    </tr>\n",
       "    <tr>\n",
       "      <th>109</th>\n",
       "      <td>AM</td>\n",
       "      <td>13</td>\n",
       "      <td>2504</td>\n",
       "      <td>Manacapuru</td>\n",
       "      <td>102.736(15)</td>\n",
       "    </tr>\n",
       "    <tr>\n",
       "      <th>117</th>\n",
       "      <td>AM</td>\n",
       "      <td>13</td>\n",
       "      <td>3205</td>\n",
       "      <td>Novo Airão</td>\n",
       "      <td>15.819(16)</td>\n",
       "    </tr>\n",
       "    <tr>\n",
       "      <th>119</th>\n",
       "      <td>AM</td>\n",
       "      <td>13</td>\n",
       "      <td>3403</td>\n",
       "      <td>Parintins</td>\n",
       "      <td>96.251(17)</td>\n",
       "    </tr>\n",
       "    <tr>\n",
       "      <th>120</th>\n",
       "      <td>AM</td>\n",
       "      <td>13</td>\n",
       "      <td>3502</td>\n",
       "      <td>Pauini</td>\n",
       "      <td>20.351(18)</td>\n",
       "    </tr>\n",
       "    <tr>\n",
       "      <th>123</th>\n",
       "      <td>AM</td>\n",
       "      <td>13</td>\n",
       "      <td>3601</td>\n",
       "      <td>Santa Isabel do Rio Negro</td>\n",
       "      <td>14.305(19)</td>\n",
       "    </tr>\n",
       "    <tr>\n",
       "      <th>129</th>\n",
       "      <td>AM</td>\n",
       "      <td>13</td>\n",
       "      <td>4062</td>\n",
       "      <td>Tabatinga</td>\n",
       "      <td>66.837(20)</td>\n",
       "    </tr>\n",
       "    <tr>\n",
       "      <th>134</th>\n",
       "      <td>AM</td>\n",
       "      <td>13</td>\n",
       "      <td>4302</td>\n",
       "      <td>Urucará</td>\n",
       "      <td>18.582(21)</td>\n",
       "    </tr>\n",
       "    <tr>\n",
       "      <th>135</th>\n",
       "      <td>AM</td>\n",
       "      <td>13</td>\n",
       "      <td>4401</td>\n",
       "      <td>Urucurituba</td>\n",
       "      <td>24.017(22)</td>\n",
       "    </tr>\n",
       "    <tr>\n",
       "      <th>210</th>\n",
       "      <td>PA</td>\n",
       "      <td>15</td>\n",
       "      <td>3754</td>\n",
       "      <td>Jacareacanga</td>\n",
       "      <td>24.742(23)</td>\n",
       "    </tr>\n",
       "    <tr>\n",
       "      <th>579</th>\n",
       "      <td>MA</td>\n",
       "      <td>21</td>\n",
       "      <td>7506</td>\n",
       "      <td>Paço do Lumiar</td>\n",
       "      <td>145.752(24)</td>\n",
       "    </tr>\n",
       "    <tr>\n",
       "      <th>1526</th>\n",
       "      <td>PE</td>\n",
       "      <td>26</td>\n",
       "      <td>5509</td>\n",
       "      <td>Ferreiros</td>\n",
       "      <td>15.040(25)</td>\n",
       "    </tr>\n",
       "    <tr>\n",
       "      <th>1937</th>\n",
       "      <td>BA</td>\n",
       "      <td>29</td>\n",
       "      <td>9208</td>\n",
       "      <td>Coronel João Sá</td>\n",
       "      <td>17.000(26)</td>\n",
       "    </tr>\n",
       "    <tr>\n",
       "      <th>1973</th>\n",
       "      <td>BA</td>\n",
       "      <td>29</td>\n",
       "      <td>12004</td>\n",
       "      <td>Ibiassucê</td>\n",
       "      <td>10.426(27)</td>\n",
       "    </tr>\n",
       "    <tr>\n",
       "      <th>2159</th>\n",
       "      <td>BA</td>\n",
       "      <td>29</td>\n",
       "      <td>27101</td>\n",
       "      <td>Rodelas</td>\n",
       "      <td>10.303(28)</td>\n",
       "    </tr>\n",
       "    <tr>\n",
       "      <th>4215</th>\n",
       "      <td>PR</td>\n",
       "      <td>41</td>\n",
       "      <td>21901</td>\n",
       "      <td>Ribeirão do Pinhal</td>\n",
       "      <td>13.053(29)</td>\n",
       "    </tr>\n",
       "    <tr>\n",
       "      <th>5509</th>\n",
       "      <td>GO</td>\n",
       "      <td>52</td>\n",
       "      <td>17609</td>\n",
       "      <td>Planaltina</td>\n",
       "      <td>108.846(30)</td>\n",
       "    </tr>\n",
       "  </tbody>\n",
       "</table>\n",
       "</div>"
      ],
      "text/plain": [
       "      UF  COD. UF  COD. MUNIC          NOME DO MUNICÍPIO    POPULAÇÃO\n",
       "16    RO       11         205                Porto Velho   461.748(1)\n",
       "74    AM       13          29                   Alvarães    15.916(2)\n",
       "81    AM       13         409                   Barcelos    18.399(3)\n",
       "83    AM       13         607          Benjamin Constant    37.436(4)\n",
       "87    AM       13         805                      Borba    33.209(5)\n",
       "88    AM       13         839                 Caapiranga    13.851(6)\n",
       "97    AM       13        1605                  Fonte Boa    27.692(7)\n",
       "98    AM       13        1654                    Guajará    13.809(8)\n",
       "99    AM       13        1704                    Humaitá    59.504(9)\n",
       "103   AM       13        1951                  Itamarati   10.783(10)\n",
       "104   AM       13        2009                 Itapiranga   10.183(11)\n",
       "105   AM       13        2108                     Japurá    9.281(12)\n",
       "107   AM       13        2306                      Jutaí   25.048(13)\n",
       "108   AM       13        2405                     Lábrea   47.003(14)\n",
       "109   AM       13        2504                 Manacapuru  102.736(15)\n",
       "117   AM       13        3205                 Novo Airão   15.819(16)\n",
       "119   AM       13        3403                  Parintins   96.251(17)\n",
       "120   AM       13        3502                     Pauini   20.351(18)\n",
       "123   AM       13        3601  Santa Isabel do Rio Negro   14.305(19)\n",
       "129   AM       13        4062                  Tabatinga   66.837(20)\n",
       "134   AM       13        4302                    Urucará   18.582(21)\n",
       "135   AM       13        4401                Urucurituba   24.017(22)\n",
       "210   PA       15        3754               Jacareacanga   24.742(23)\n",
       "579   MA       21        7506             Paço do Lumiar  145.752(24)\n",
       "1526  PE       26        5509                  Ferreiros   15.040(25)\n",
       "1937  BA       29        9208            Coronel João Sá   17.000(26)\n",
       "1973  BA       29       12004                  Ibiassucê   10.426(27)\n",
       "2159  BA       29       27101                    Rodelas   10.303(28)\n",
       "4215  PR       41       21901         Ribeirão do Pinhal   13.053(29)\n",
       "5509  GO       52       17609                 Planaltina  108.846(30)"
      ]
     },
     "execution_count": 87,
     "metadata": {},
     "output_type": "execute_result"
    }
   ],
   "source": [
    "ibge_data[ibge_data[\"POPULAÇÃO\"].str.contains(\"\\(\", na=False)]"
   ]
  },
  {
   "cell_type": "code",
   "execution_count": null,
   "metadata": {},
   "outputs": [],
   "source": [
    "# CORRECT INVALID DATA"
   ]
  },
  {
   "cell_type": "code",
   "execution_count": 88,
   "metadata": {},
   "outputs": [],
   "source": [
    "ibge_data = ibge_data.assign(\n",
    "    POPULAÇÃO2=ibge_data[\"POPULAÇÃO\"].replace(r\"\\(\\d{1,2}\\)\", \"\", regex=True),\n",
    "    POPULAÇÃO_TOTAL=lambda x: x.loc[:, \"POPULAÇÃO2\"].replace(r\"\\.\", \"\", regex=True),\n",
    ")"
   ]
  },
  {
   "cell_type": "code",
   "execution_count": 89,
   "metadata": {},
   "outputs": [
    {
     "name": "stderr",
     "output_type": "stream",
     "text": [
      "<>:1: SyntaxWarning: invalid escape sequence '\\('\n",
      "<>:1: SyntaxWarning: invalid escape sequence '\\('\n",
      "C:\\Users\\55479\\AppData\\Local\\Temp\\ipykernel_2260\\2584511426.py:1: SyntaxWarning: invalid escape sequence '\\('\n",
      "  ibge_data[ibge_data[\"POPULAÇÃO\"].str.contains(\"\\(\", na=False)]\n"
     ]
    },
    {
     "data": {
      "text/html": [
       "<div>\n",
       "<style scoped>\n",
       "    .dataframe tbody tr th:only-of-type {\n",
       "        vertical-align: middle;\n",
       "    }\n",
       "\n",
       "    .dataframe tbody tr th {\n",
       "        vertical-align: top;\n",
       "    }\n",
       "\n",
       "    .dataframe thead th {\n",
       "        text-align: right;\n",
       "    }\n",
       "</style>\n",
       "<table border=\"1\" class=\"dataframe\">\n",
       "  <thead>\n",
       "    <tr style=\"text-align: right;\">\n",
       "      <th></th>\n",
       "      <th>UF</th>\n",
       "      <th>COD. UF</th>\n",
       "      <th>COD. MUNIC</th>\n",
       "      <th>NOME DO MUNICÍPIO</th>\n",
       "      <th>POPULAÇÃO</th>\n",
       "      <th>POPULAÇÃO2</th>\n",
       "      <th>POPULAÇÃO_TOTAL</th>\n",
       "    </tr>\n",
       "  </thead>\n",
       "  <tbody>\n",
       "    <tr>\n",
       "      <th>16</th>\n",
       "      <td>RO</td>\n",
       "      <td>11</td>\n",
       "      <td>205</td>\n",
       "      <td>Porto Velho</td>\n",
       "      <td>461.748(1)</td>\n",
       "      <td>461.748</td>\n",
       "      <td>461748</td>\n",
       "    </tr>\n",
       "    <tr>\n",
       "      <th>74</th>\n",
       "      <td>AM</td>\n",
       "      <td>13</td>\n",
       "      <td>29</td>\n",
       "      <td>Alvarães</td>\n",
       "      <td>15.916(2)</td>\n",
       "      <td>15.916</td>\n",
       "      <td>15916</td>\n",
       "    </tr>\n",
       "    <tr>\n",
       "      <th>81</th>\n",
       "      <td>AM</td>\n",
       "      <td>13</td>\n",
       "      <td>409</td>\n",
       "      <td>Barcelos</td>\n",
       "      <td>18.399(3)</td>\n",
       "      <td>18.399</td>\n",
       "      <td>18399</td>\n",
       "    </tr>\n",
       "    <tr>\n",
       "      <th>83</th>\n",
       "      <td>AM</td>\n",
       "      <td>13</td>\n",
       "      <td>607</td>\n",
       "      <td>Benjamin Constant</td>\n",
       "      <td>37.436(4)</td>\n",
       "      <td>37.436</td>\n",
       "      <td>37436</td>\n",
       "    </tr>\n",
       "    <tr>\n",
       "      <th>87</th>\n",
       "      <td>AM</td>\n",
       "      <td>13</td>\n",
       "      <td>805</td>\n",
       "      <td>Borba</td>\n",
       "      <td>33.209(5)</td>\n",
       "      <td>33.209</td>\n",
       "      <td>33209</td>\n",
       "    </tr>\n",
       "    <tr>\n",
       "      <th>88</th>\n",
       "      <td>AM</td>\n",
       "      <td>13</td>\n",
       "      <td>839</td>\n",
       "      <td>Caapiranga</td>\n",
       "      <td>13.851(6)</td>\n",
       "      <td>13.851</td>\n",
       "      <td>13851</td>\n",
       "    </tr>\n",
       "    <tr>\n",
       "      <th>97</th>\n",
       "      <td>AM</td>\n",
       "      <td>13</td>\n",
       "      <td>1605</td>\n",
       "      <td>Fonte Boa</td>\n",
       "      <td>27.692(7)</td>\n",
       "      <td>27.692</td>\n",
       "      <td>27692</td>\n",
       "    </tr>\n",
       "    <tr>\n",
       "      <th>98</th>\n",
       "      <td>AM</td>\n",
       "      <td>13</td>\n",
       "      <td>1654</td>\n",
       "      <td>Guajará</td>\n",
       "      <td>13.809(8)</td>\n",
       "      <td>13.809</td>\n",
       "      <td>13809</td>\n",
       "    </tr>\n",
       "    <tr>\n",
       "      <th>99</th>\n",
       "      <td>AM</td>\n",
       "      <td>13</td>\n",
       "      <td>1704</td>\n",
       "      <td>Humaitá</td>\n",
       "      <td>59.504(9)</td>\n",
       "      <td>59.504</td>\n",
       "      <td>59504</td>\n",
       "    </tr>\n",
       "    <tr>\n",
       "      <th>103</th>\n",
       "      <td>AM</td>\n",
       "      <td>13</td>\n",
       "      <td>1951</td>\n",
       "      <td>Itamarati</td>\n",
       "      <td>10.783(10)</td>\n",
       "      <td>10.783</td>\n",
       "      <td>10783</td>\n",
       "    </tr>\n",
       "    <tr>\n",
       "      <th>104</th>\n",
       "      <td>AM</td>\n",
       "      <td>13</td>\n",
       "      <td>2009</td>\n",
       "      <td>Itapiranga</td>\n",
       "      <td>10.183(11)</td>\n",
       "      <td>10.183</td>\n",
       "      <td>10183</td>\n",
       "    </tr>\n",
       "    <tr>\n",
       "      <th>105</th>\n",
       "      <td>AM</td>\n",
       "      <td>13</td>\n",
       "      <td>2108</td>\n",
       "      <td>Japurá</td>\n",
       "      <td>9.281(12)</td>\n",
       "      <td>9.281</td>\n",
       "      <td>9281</td>\n",
       "    </tr>\n",
       "    <tr>\n",
       "      <th>107</th>\n",
       "      <td>AM</td>\n",
       "      <td>13</td>\n",
       "      <td>2306</td>\n",
       "      <td>Jutaí</td>\n",
       "      <td>25.048(13)</td>\n",
       "      <td>25.048</td>\n",
       "      <td>25048</td>\n",
       "    </tr>\n",
       "    <tr>\n",
       "      <th>108</th>\n",
       "      <td>AM</td>\n",
       "      <td>13</td>\n",
       "      <td>2405</td>\n",
       "      <td>Lábrea</td>\n",
       "      <td>47.003(14)</td>\n",
       "      <td>47.003</td>\n",
       "      <td>47003</td>\n",
       "    </tr>\n",
       "    <tr>\n",
       "      <th>109</th>\n",
       "      <td>AM</td>\n",
       "      <td>13</td>\n",
       "      <td>2504</td>\n",
       "      <td>Manacapuru</td>\n",
       "      <td>102.736(15)</td>\n",
       "      <td>102.736</td>\n",
       "      <td>102736</td>\n",
       "    </tr>\n",
       "    <tr>\n",
       "      <th>117</th>\n",
       "      <td>AM</td>\n",
       "      <td>13</td>\n",
       "      <td>3205</td>\n",
       "      <td>Novo Airão</td>\n",
       "      <td>15.819(16)</td>\n",
       "      <td>15.819</td>\n",
       "      <td>15819</td>\n",
       "    </tr>\n",
       "    <tr>\n",
       "      <th>119</th>\n",
       "      <td>AM</td>\n",
       "      <td>13</td>\n",
       "      <td>3403</td>\n",
       "      <td>Parintins</td>\n",
       "      <td>96.251(17)</td>\n",
       "      <td>96.251</td>\n",
       "      <td>96251</td>\n",
       "    </tr>\n",
       "    <tr>\n",
       "      <th>120</th>\n",
       "      <td>AM</td>\n",
       "      <td>13</td>\n",
       "      <td>3502</td>\n",
       "      <td>Pauini</td>\n",
       "      <td>20.351(18)</td>\n",
       "      <td>20.351</td>\n",
       "      <td>20351</td>\n",
       "    </tr>\n",
       "    <tr>\n",
       "      <th>123</th>\n",
       "      <td>AM</td>\n",
       "      <td>13</td>\n",
       "      <td>3601</td>\n",
       "      <td>Santa Isabel do Rio Negro</td>\n",
       "      <td>14.305(19)</td>\n",
       "      <td>14.305</td>\n",
       "      <td>14305</td>\n",
       "    </tr>\n",
       "    <tr>\n",
       "      <th>129</th>\n",
       "      <td>AM</td>\n",
       "      <td>13</td>\n",
       "      <td>4062</td>\n",
       "      <td>Tabatinga</td>\n",
       "      <td>66.837(20)</td>\n",
       "      <td>66.837</td>\n",
       "      <td>66837</td>\n",
       "    </tr>\n",
       "    <tr>\n",
       "      <th>134</th>\n",
       "      <td>AM</td>\n",
       "      <td>13</td>\n",
       "      <td>4302</td>\n",
       "      <td>Urucará</td>\n",
       "      <td>18.582(21)</td>\n",
       "      <td>18.582</td>\n",
       "      <td>18582</td>\n",
       "    </tr>\n",
       "    <tr>\n",
       "      <th>135</th>\n",
       "      <td>AM</td>\n",
       "      <td>13</td>\n",
       "      <td>4401</td>\n",
       "      <td>Urucurituba</td>\n",
       "      <td>24.017(22)</td>\n",
       "      <td>24.017</td>\n",
       "      <td>24017</td>\n",
       "    </tr>\n",
       "    <tr>\n",
       "      <th>210</th>\n",
       "      <td>PA</td>\n",
       "      <td>15</td>\n",
       "      <td>3754</td>\n",
       "      <td>Jacareacanga</td>\n",
       "      <td>24.742(23)</td>\n",
       "      <td>24.742</td>\n",
       "      <td>24742</td>\n",
       "    </tr>\n",
       "    <tr>\n",
       "      <th>579</th>\n",
       "      <td>MA</td>\n",
       "      <td>21</td>\n",
       "      <td>7506</td>\n",
       "      <td>Paço do Lumiar</td>\n",
       "      <td>145.752(24)</td>\n",
       "      <td>145.752</td>\n",
       "      <td>145752</td>\n",
       "    </tr>\n",
       "    <tr>\n",
       "      <th>1526</th>\n",
       "      <td>PE</td>\n",
       "      <td>26</td>\n",
       "      <td>5509</td>\n",
       "      <td>Ferreiros</td>\n",
       "      <td>15.040(25)</td>\n",
       "      <td>15.040</td>\n",
       "      <td>15040</td>\n",
       "    </tr>\n",
       "    <tr>\n",
       "      <th>1937</th>\n",
       "      <td>BA</td>\n",
       "      <td>29</td>\n",
       "      <td>9208</td>\n",
       "      <td>Coronel João Sá</td>\n",
       "      <td>17.000(26)</td>\n",
       "      <td>17.000</td>\n",
       "      <td>17000</td>\n",
       "    </tr>\n",
       "    <tr>\n",
       "      <th>1973</th>\n",
       "      <td>BA</td>\n",
       "      <td>29</td>\n",
       "      <td>12004</td>\n",
       "      <td>Ibiassucê</td>\n",
       "      <td>10.426(27)</td>\n",
       "      <td>10.426</td>\n",
       "      <td>10426</td>\n",
       "    </tr>\n",
       "    <tr>\n",
       "      <th>2159</th>\n",
       "      <td>BA</td>\n",
       "      <td>29</td>\n",
       "      <td>27101</td>\n",
       "      <td>Rodelas</td>\n",
       "      <td>10.303(28)</td>\n",
       "      <td>10.303</td>\n",
       "      <td>10303</td>\n",
       "    </tr>\n",
       "    <tr>\n",
       "      <th>4215</th>\n",
       "      <td>PR</td>\n",
       "      <td>41</td>\n",
       "      <td>21901</td>\n",
       "      <td>Ribeirão do Pinhal</td>\n",
       "      <td>13.053(29)</td>\n",
       "      <td>13.053</td>\n",
       "      <td>13053</td>\n",
       "    </tr>\n",
       "    <tr>\n",
       "      <th>5509</th>\n",
       "      <td>GO</td>\n",
       "      <td>52</td>\n",
       "      <td>17609</td>\n",
       "      <td>Planaltina</td>\n",
       "      <td>108.846(30)</td>\n",
       "      <td>108.846</td>\n",
       "      <td>108846</td>\n",
       "    </tr>\n",
       "  </tbody>\n",
       "</table>\n",
       "</div>"
      ],
      "text/plain": [
       "      UF  COD. UF  COD. MUNIC          NOME DO MUNICÍPIO    POPULAÇÃO  \\\n",
       "16    RO       11         205                Porto Velho   461.748(1)   \n",
       "74    AM       13          29                   Alvarães    15.916(2)   \n",
       "81    AM       13         409                   Barcelos    18.399(3)   \n",
       "83    AM       13         607          Benjamin Constant    37.436(4)   \n",
       "87    AM       13         805                      Borba    33.209(5)   \n",
       "88    AM       13         839                 Caapiranga    13.851(6)   \n",
       "97    AM       13        1605                  Fonte Boa    27.692(7)   \n",
       "98    AM       13        1654                    Guajará    13.809(8)   \n",
       "99    AM       13        1704                    Humaitá    59.504(9)   \n",
       "103   AM       13        1951                  Itamarati   10.783(10)   \n",
       "104   AM       13        2009                 Itapiranga   10.183(11)   \n",
       "105   AM       13        2108                     Japurá    9.281(12)   \n",
       "107   AM       13        2306                      Jutaí   25.048(13)   \n",
       "108   AM       13        2405                     Lábrea   47.003(14)   \n",
       "109   AM       13        2504                 Manacapuru  102.736(15)   \n",
       "117   AM       13        3205                 Novo Airão   15.819(16)   \n",
       "119   AM       13        3403                  Parintins   96.251(17)   \n",
       "120   AM       13        3502                     Pauini   20.351(18)   \n",
       "123   AM       13        3601  Santa Isabel do Rio Negro   14.305(19)   \n",
       "129   AM       13        4062                  Tabatinga   66.837(20)   \n",
       "134   AM       13        4302                    Urucará   18.582(21)   \n",
       "135   AM       13        4401                Urucurituba   24.017(22)   \n",
       "210   PA       15        3754               Jacareacanga   24.742(23)   \n",
       "579   MA       21        7506             Paço do Lumiar  145.752(24)   \n",
       "1526  PE       26        5509                  Ferreiros   15.040(25)   \n",
       "1937  BA       29        9208            Coronel João Sá   17.000(26)   \n",
       "1973  BA       29       12004                  Ibiassucê   10.426(27)   \n",
       "2159  BA       29       27101                    Rodelas   10.303(28)   \n",
       "4215  PR       41       21901         Ribeirão do Pinhal   13.053(29)   \n",
       "5509  GO       52       17609                 Planaltina  108.846(30)   \n",
       "\n",
       "     POPULAÇÃO2 POPULAÇÃO_TOTAL  \n",
       "16      461.748          461748  \n",
       "74       15.916           15916  \n",
       "81       18.399           18399  \n",
       "83       37.436           37436  \n",
       "87       33.209           33209  \n",
       "88       13.851           13851  \n",
       "97       27.692           27692  \n",
       "98       13.809           13809  \n",
       "99       59.504           59504  \n",
       "103      10.783           10783  \n",
       "104      10.183           10183  \n",
       "105       9.281            9281  \n",
       "107      25.048           25048  \n",
       "108      47.003           47003  \n",
       "109     102.736          102736  \n",
       "117      15.819           15819  \n",
       "119      96.251           96251  \n",
       "120      20.351           20351  \n",
       "123      14.305           14305  \n",
       "129      66.837           66837  \n",
       "134      18.582           18582  \n",
       "135      24.017           24017  \n",
       "210      24.742           24742  \n",
       "579     145.752          145752  \n",
       "1526     15.040           15040  \n",
       "1937     17.000           17000  \n",
       "1973     10.426           10426  \n",
       "2159     10.303           10303  \n",
       "4215     13.053           13053  \n",
       "5509    108.846          108846  "
      ]
     },
     "execution_count": 89,
     "metadata": {},
     "output_type": "execute_result"
    }
   ],
   "source": [
    "ibge_data[ibge_data[\"POPULAÇÃO\"].str.contains(\"\\(\", na=False)]"
   ]
  },
  {
   "cell_type": "code",
   "execution_count": 1,
   "metadata": {},
   "outputs": [
    {
     "ename": "NameError",
     "evalue": "name 'ibge_data' is not defined",
     "output_type": "error",
     "traceback": [
      "\u001b[1;31m---------------------------------------------------------------------------\u001b[0m",
      "\u001b[1;31mNameError\u001b[0m                                 Traceback (most recent call last)",
      "Cell \u001b[1;32mIn[1], line 1\u001b[0m\n\u001b[1;32m----> 1\u001b[0m ibge_data \u001b[38;5;241m=\u001b[39m ibge_data\u001b[38;5;241m.\u001b[39mastype({\u001b[38;5;124m\"\u001b[39m\u001b[38;5;124mPOPULAÇÃO_TOTAL\u001b[39m\u001b[38;5;124m\"\u001b[39m: \u001b[38;5;124m\"\u001b[39m\u001b[38;5;124mint64\u001b[39m\u001b[38;5;124m\"\u001b[39m})\n",
      "\u001b[1;31mNameError\u001b[0m: name 'ibge_data' is not defined"
     ]
    }
   ],
   "source": [
    "ibge_data = ibge_data.astype({\"POPULAÇÃO_TOTAL\": \"int64\"})"
   ]
  },
  {
   "cell_type": "code",
   "execution_count": 92,
   "metadata": {},
   "outputs": [
    {
     "data": {
      "text/html": [
       "<div>\n",
       "<style scoped>\n",
       "    .dataframe tbody tr th:only-of-type {\n",
       "        vertical-align: middle;\n",
       "    }\n",
       "\n",
       "    .dataframe tbody tr th {\n",
       "        vertical-align: top;\n",
       "    }\n",
       "\n",
       "    .dataframe thead th {\n",
       "        text-align: right;\n",
       "    }\n",
       "</style>\n",
       "<table border=\"1\" class=\"dataframe\">\n",
       "  <thead>\n",
       "    <tr style=\"text-align: right;\">\n",
       "      <th></th>\n",
       "      <th>UF</th>\n",
       "      <th>POPULAÇÃO_TOTAL</th>\n",
       "    </tr>\n",
       "  </thead>\n",
       "  <tbody>\n",
       "    <tr>\n",
       "      <th>0</th>\n",
       "      <td>AC</td>\n",
       "      <td>829780</td>\n",
       "    </tr>\n",
       "    <tr>\n",
       "      <th>1</th>\n",
       "      <td>AL</td>\n",
       "      <td>3125254</td>\n",
       "    </tr>\n",
       "    <tr>\n",
       "      <th>2</th>\n",
       "      <td>AM</td>\n",
       "      <td>3952262</td>\n",
       "    </tr>\n",
       "    <tr>\n",
       "      <th>3</th>\n",
       "      <td>AP</td>\n",
       "      <td>774268</td>\n",
       "    </tr>\n",
       "    <tr>\n",
       "      <th>4</th>\n",
       "      <td>BA</td>\n",
       "      <td>14659023</td>\n",
       "    </tr>\n",
       "    <tr>\n",
       "      <th>5</th>\n",
       "      <td>CE</td>\n",
       "      <td>8936431</td>\n",
       "    </tr>\n",
       "    <tr>\n",
       "      <th>6</th>\n",
       "      <td>DF</td>\n",
       "      <td>2923369</td>\n",
       "    </tr>\n",
       "    <tr>\n",
       "      <th>7</th>\n",
       "      <td>ES</td>\n",
       "      <td>3975100</td>\n",
       "    </tr>\n",
       "    <tr>\n",
       "      <th>8</th>\n",
       "      <td>GO</td>\n",
       "      <td>6950976</td>\n",
       "    </tr>\n",
       "    <tr>\n",
       "      <th>9</th>\n",
       "      <td>MA</td>\n",
       "      <td>6800605</td>\n",
       "    </tr>\n",
       "    <tr>\n",
       "      <th>10</th>\n",
       "      <td>MG</td>\n",
       "      <td>20732660</td>\n",
       "    </tr>\n",
       "    <tr>\n",
       "      <th>11</th>\n",
       "      <td>MS</td>\n",
       "      <td>2833742</td>\n",
       "    </tr>\n",
       "    <tr>\n",
       "      <th>12</th>\n",
       "      <td>MT</td>\n",
       "      <td>3784239</td>\n",
       "    </tr>\n",
       "    <tr>\n",
       "      <th>13</th>\n",
       "      <td>PA</td>\n",
       "      <td>8442962</td>\n",
       "    </tr>\n",
       "    <tr>\n",
       "      <th>14</th>\n",
       "      <td>PB</td>\n",
       "      <td>4030961</td>\n",
       "    </tr>\n",
       "    <tr>\n",
       "      <th>15</th>\n",
       "      <td>PE</td>\n",
       "      <td>9051113</td>\n",
       "    </tr>\n",
       "    <tr>\n",
       "      <th>16</th>\n",
       "      <td>PI</td>\n",
       "      <td>3270174</td>\n",
       "    </tr>\n",
       "    <tr>\n",
       "      <th>17</th>\n",
       "      <td>PR</td>\n",
       "      <td>11835379</td>\n",
       "    </tr>\n",
       "    <tr>\n",
       "      <th>18</th>\n",
       "      <td>RJ</td>\n",
       "      <td>16615526</td>\n",
       "    </tr>\n",
       "    <tr>\n",
       "      <th>19</th>\n",
       "      <td>RN</td>\n",
       "      <td>3303953</td>\n",
       "    </tr>\n",
       "    <tr>\n",
       "      <th>20</th>\n",
       "      <td>RO</td>\n",
       "      <td>1616379</td>\n",
       "    </tr>\n",
       "    <tr>\n",
       "      <th>21</th>\n",
       "      <td>RR</td>\n",
       "      <td>634805</td>\n",
       "    </tr>\n",
       "    <tr>\n",
       "      <th>22</th>\n",
       "      <td>RS</td>\n",
       "      <td>11088065</td>\n",
       "    </tr>\n",
       "    <tr>\n",
       "      <th>23</th>\n",
       "      <td>SC</td>\n",
       "      <td>7762154</td>\n",
       "    </tr>\n",
       "    <tr>\n",
       "      <th>24</th>\n",
       "      <td>SE</td>\n",
       "      <td>2211868</td>\n",
       "    </tr>\n",
       "    <tr>\n",
       "      <th>25</th>\n",
       "      <td>SP</td>\n",
       "      <td>46024937</td>\n",
       "    </tr>\n",
       "    <tr>\n",
       "      <th>26</th>\n",
       "      <td>TO</td>\n",
       "      <td>1584306</td>\n",
       "    </tr>\n",
       "  </tbody>\n",
       "</table>\n",
       "</div>"
      ],
      "text/plain": [
       "    UF  POPULAÇÃO_TOTAL\n",
       "0   AC           829780\n",
       "1   AL          3125254\n",
       "2   AM          3952262\n",
       "3   AP           774268\n",
       "4   BA         14659023\n",
       "5   CE          8936431\n",
       "6   DF          2923369\n",
       "7   ES          3975100\n",
       "8   GO          6950976\n",
       "9   MA          6800605\n",
       "10  MG         20732660\n",
       "11  MS          2833742\n",
       "12  MT          3784239\n",
       "13  PA          8442962\n",
       "14  PB          4030961\n",
       "15  PE          9051113\n",
       "16  PI          3270174\n",
       "17  PR         11835379\n",
       "18  RJ         16615526\n",
       "19  RN          3303953\n",
       "20  RO          1616379\n",
       "21  RR           634805\n",
       "22  RS         11088065\n",
       "23  SC          7762154\n",
       "24  SE          2211868\n",
       "25  SP         46024937\n",
       "26  TO          1584306"
      ]
     },
     "execution_count": 92,
     "metadata": {},
     "output_type": "execute_result"
    }
   ],
   "source": [
    "ibge_data = ibge_data.groupby(\"UF\")[[\"POPULAÇÃO_TOTAL\"]].sum().reset_index()\n",
    "ibge_data"
   ]
  },
  {
   "cell_type": "code",
   "execution_count": 93,
   "metadata": {},
   "outputs": [],
   "source": [
    "emissao_estados = (\n",
    "    seeg_data_ano[seeg_data_ano[\"Ano\"] == 2021]\n",
    "    .groupby(\"Estado\")[[\"Emissão\"]]\n",
    "    .sum()\n",
    "    .reset_index()\n",
    ")"
   ]
  },
  {
   "cell_type": "code",
   "execution_count": 94,
   "metadata": {},
   "outputs": [
    {
     "data": {
      "text/html": [
       "<div>\n",
       "<style scoped>\n",
       "    .dataframe tbody tr th:only-of-type {\n",
       "        vertical-align: middle;\n",
       "    }\n",
       "\n",
       "    .dataframe tbody tr th {\n",
       "        vertical-align: top;\n",
       "    }\n",
       "\n",
       "    .dataframe thead th {\n",
       "        text-align: right;\n",
       "    }\n",
       "</style>\n",
       "<table border=\"1\" class=\"dataframe\">\n",
       "  <thead>\n",
       "    <tr style=\"text-align: right;\">\n",
       "      <th></th>\n",
       "      <th>Estado</th>\n",
       "      <th>Emissão</th>\n",
       "      <th>UF</th>\n",
       "      <th>POPULAÇÃO_TOTAL</th>\n",
       "    </tr>\n",
       "  </thead>\n",
       "  <tbody>\n",
       "    <tr>\n",
       "      <th>0</th>\n",
       "      <td>AC</td>\n",
       "      <td>3.505471e+08</td>\n",
       "      <td>AC</td>\n",
       "      <td>829780</td>\n",
       "    </tr>\n",
       "    <tr>\n",
       "      <th>1</th>\n",
       "      <td>AL</td>\n",
       "      <td>6.261279e+07</td>\n",
       "      <td>AL</td>\n",
       "      <td>3125254</td>\n",
       "    </tr>\n",
       "    <tr>\n",
       "      <th>2</th>\n",
       "      <td>AM</td>\n",
       "      <td>1.189649e+09</td>\n",
       "      <td>AM</td>\n",
       "      <td>3952262</td>\n",
       "    </tr>\n",
       "    <tr>\n",
       "      <th>3</th>\n",
       "      <td>AP</td>\n",
       "      <td>3.568410e+07</td>\n",
       "      <td>AP</td>\n",
       "      <td>774268</td>\n",
       "    </tr>\n",
       "    <tr>\n",
       "      <th>4</th>\n",
       "      <td>BA</td>\n",
       "      <td>5.932251e+08</td>\n",
       "      <td>BA</td>\n",
       "      <td>14659023</td>\n",
       "    </tr>\n",
       "    <tr>\n",
       "      <th>5</th>\n",
       "      <td>CE</td>\n",
       "      <td>2.034731e+08</td>\n",
       "      <td>CE</td>\n",
       "      <td>8936431</td>\n",
       "    </tr>\n",
       "    <tr>\n",
       "      <th>6</th>\n",
       "      <td>DF</td>\n",
       "      <td>5.668738e+07</td>\n",
       "      <td>DF</td>\n",
       "      <td>2923369</td>\n",
       "    </tr>\n",
       "    <tr>\n",
       "      <th>7</th>\n",
       "      <td>ES</td>\n",
       "      <td>2.697547e+08</td>\n",
       "      <td>ES</td>\n",
       "      <td>3975100</td>\n",
       "    </tr>\n",
       "    <tr>\n",
       "      <th>8</th>\n",
       "      <td>GO</td>\n",
       "      <td>6.008081e+08</td>\n",
       "      <td>GO</td>\n",
       "      <td>6950976</td>\n",
       "    </tr>\n",
       "    <tr>\n",
       "      <th>9</th>\n",
       "      <td>MA</td>\n",
       "      <td>9.476324e+08</td>\n",
       "      <td>MA</td>\n",
       "      <td>6800605</td>\n",
       "    </tr>\n",
       "    <tr>\n",
       "      <th>10</th>\n",
       "      <td>MG</td>\n",
       "      <td>1.250651e+09</td>\n",
       "      <td>MG</td>\n",
       "      <td>20732660</td>\n",
       "    </tr>\n",
       "    <tr>\n",
       "      <th>11</th>\n",
       "      <td>MS</td>\n",
       "      <td>5.551278e+08</td>\n",
       "      <td>MS</td>\n",
       "      <td>2833742</td>\n",
       "    </tr>\n",
       "    <tr>\n",
       "      <th>12</th>\n",
       "      <td>MT</td>\n",
       "      <td>2.081610e+09</td>\n",
       "      <td>MT</td>\n",
       "      <td>3784239</td>\n",
       "    </tr>\n",
       "    <tr>\n",
       "      <th>13</th>\n",
       "      <td>PA</td>\n",
       "      <td>3.701684e+09</td>\n",
       "      <td>PA</td>\n",
       "      <td>8442962</td>\n",
       "    </tr>\n",
       "    <tr>\n",
       "      <th>14</th>\n",
       "      <td>PB</td>\n",
       "      <td>9.532504e+07</td>\n",
       "      <td>PB</td>\n",
       "      <td>4030961</td>\n",
       "    </tr>\n",
       "    <tr>\n",
       "      <th>15</th>\n",
       "      <td>PE</td>\n",
       "      <td>1.836077e+08</td>\n",
       "      <td>PE</td>\n",
       "      <td>9051113</td>\n",
       "    </tr>\n",
       "    <tr>\n",
       "      <th>16</th>\n",
       "      <td>PI</td>\n",
       "      <td>1.146881e+08</td>\n",
       "      <td>PI</td>\n",
       "      <td>3270174</td>\n",
       "    </tr>\n",
       "    <tr>\n",
       "      <th>17</th>\n",
       "      <td>PR</td>\n",
       "      <td>6.567685e+08</td>\n",
       "      <td>PR</td>\n",
       "      <td>11835379</td>\n",
       "    </tr>\n",
       "    <tr>\n",
       "      <th>18</th>\n",
       "      <td>RJ</td>\n",
       "      <td>5.767137e+08</td>\n",
       "      <td>RJ</td>\n",
       "      <td>16615526</td>\n",
       "    </tr>\n",
       "    <tr>\n",
       "      <th>19</th>\n",
       "      <td>RN</td>\n",
       "      <td>7.223838e+07</td>\n",
       "      <td>RN</td>\n",
       "      <td>3303953</td>\n",
       "    </tr>\n",
       "    <tr>\n",
       "      <th>20</th>\n",
       "      <td>RO</td>\n",
       "      <td>1.083515e+09</td>\n",
       "      <td>RO</td>\n",
       "      <td>1616379</td>\n",
       "    </tr>\n",
       "    <tr>\n",
       "      <th>21</th>\n",
       "      <td>RR</td>\n",
       "      <td>5.282071e+08</td>\n",
       "      <td>RR</td>\n",
       "      <td>634805</td>\n",
       "    </tr>\n",
       "    <tr>\n",
       "      <th>22</th>\n",
       "      <td>RS</td>\n",
       "      <td>7.814643e+08</td>\n",
       "      <td>RS</td>\n",
       "      <td>11088065</td>\n",
       "    </tr>\n",
       "    <tr>\n",
       "      <th>23</th>\n",
       "      <td>SC</td>\n",
       "      <td>4.484010e+08</td>\n",
       "      <td>SC</td>\n",
       "      <td>7762154</td>\n",
       "    </tr>\n",
       "    <tr>\n",
       "      <th>24</th>\n",
       "      <td>SE</td>\n",
       "      <td>8.118973e+07</td>\n",
       "      <td>SE</td>\n",
       "      <td>2211868</td>\n",
       "    </tr>\n",
       "    <tr>\n",
       "      <th>25</th>\n",
       "      <td>SP</td>\n",
       "      <td>1.223309e+09</td>\n",
       "      <td>SP</td>\n",
       "      <td>46024937</td>\n",
       "    </tr>\n",
       "    <tr>\n",
       "      <th>26</th>\n",
       "      <td>TO</td>\n",
       "      <td>4.082159e+08</td>\n",
       "      <td>TO</td>\n",
       "      <td>1584306</td>\n",
       "    </tr>\n",
       "  </tbody>\n",
       "</table>\n",
       "</div>"
      ],
      "text/plain": [
       "   Estado       Emissão  UF  POPULAÇÃO_TOTAL\n",
       "0      AC  3.505471e+08  AC           829780\n",
       "1      AL  6.261279e+07  AL          3125254\n",
       "2      AM  1.189649e+09  AM          3952262\n",
       "3      AP  3.568410e+07  AP           774268\n",
       "4      BA  5.932251e+08  BA         14659023\n",
       "5      CE  2.034731e+08  CE          8936431\n",
       "6      DF  5.668738e+07  DF          2923369\n",
       "7      ES  2.697547e+08  ES          3975100\n",
       "8      GO  6.008081e+08  GO          6950976\n",
       "9      MA  9.476324e+08  MA          6800605\n",
       "10     MG  1.250651e+09  MG         20732660\n",
       "11     MS  5.551278e+08  MS          2833742\n",
       "12     MT  2.081610e+09  MT          3784239\n",
       "13     PA  3.701684e+09  PA          8442962\n",
       "14     PB  9.532504e+07  PB          4030961\n",
       "15     PE  1.836077e+08  PE          9051113\n",
       "16     PI  1.146881e+08  PI          3270174\n",
       "17     PR  6.567685e+08  PR         11835379\n",
       "18     RJ  5.767137e+08  RJ         16615526\n",
       "19     RN  7.223838e+07  RN          3303953\n",
       "20     RO  1.083515e+09  RO          1616379\n",
       "21     RR  5.282071e+08  RR           634805\n",
       "22     RS  7.814643e+08  RS         11088065\n",
       "23     SC  4.484010e+08  SC          7762154\n",
       "24     SE  8.118973e+07  SE          2211868\n",
       "25     SP  1.223309e+09  SP         46024937\n",
       "26     TO  4.082159e+08  TO          1584306"
      ]
     },
     "execution_count": 94,
     "metadata": {},
     "output_type": "execute_result"
    }
   ],
   "source": [
    "data_grouping = pd.merge(emissao_estados, ibge_data, left_on=\"Estado\", right_on=\"UF\")\n",
    "data_grouping"
   ]
  },
  {
   "cell_type": "code",
   "execution_count": null,
   "metadata": {},
   "outputs": [],
   "source": [
    "# PLOT DATA"
   ]
  },
  {
   "cell_type": "code",
   "execution_count": null,
   "metadata": {},
   "outputs": [
    {
     "data": {
      "image/png": "[encoded data removed]",
      "text/plain": [
       "<Figure size 800x600 with 1 Axes>"
      ]
     },
     "metadata": {},
     "output_type": "display_data"
    }
   ],
   "source": [
    "data_grouping.plot(x=\"POPULAÇÃO_TOTAL\", y=\"Emissão\", kind=\"scatter\", figsize=(8, 6));"
   ]
  },
  {
   "cell_type": "code",
   "execution_count": 97,
   "metadata": {},
   "outputs": [],
   "source": [
    "import plotly.express as px"
   ]
  },
  {
   "cell_type": "code",
   "execution_count": null,
   "metadata": {},
   "outputs": [],
   "source": [
    "# PLOT DATA USING PLOTLY"
   ]
  },
  {
   "cell_type": "code",
   "execution_count": 99,
   "metadata": {},
   "outputs": [
    {
     "data": {
      "application/vnd.plotly.v1+json": {
       "config": {
        "plotlyServerURL": "https://plot.ly"
       },
       "data": [
        {
         "hovertemplate": "POPULAÇÃO_TOTAL=%{x}<br>Emissão=%{y}<br>Estado=%{text}<extra></extra>",
         "legendgroup": "",
         "marker": {
          "color": "#636efa",
          "opacity": 0,
          "symbol": "circle"
         },
         "mode": "markers+text",
         "name": "",
         "orientation": "v",
         "showlegend": false,
         "text": [
          "AC",
          "AL",
          "AM",
          "AP",
          "BA",
          "CE",
          "DF",
          "ES",
          "GO",
          "MA",
          "MG",
          "MS",
          "MT",
          "PA",
          "PB",
          "PE",
          "PI",
          "PR",
          "RJ",
          "RN",
          "RO",
          "RR",
          "RS",
          "SC",
          "SE",
          "SP",
          "TO"
         ],
         "type": "scatter",
         "x": [
          829780,
          3125254,
          3952262,
          774268,
          14659023,
          8936431,
          2923369,
          3975100,
          6950976,
          6800605,
          20732660,
          2833742,
          3784239,
          8442962,
          4030961,
          9051113,
          3270174,
          11835379,
          16615526,
          3303953,
          1616379,
          634805,
          11088065,
          7762154,
          2211868,
          46024937,
          1584306
         ],
         "xaxis": "x",
         "y": [
          350547139.11168486,
          62612792.59389813,
          1189648501.8496125,
          35684101.6939916,
          593225068.1484435,
          203473137.9870568,
          56687377.47433015,
          269754653.36977243,
          600808135.236309,
          947632428.3736011,
          1250651375.999199,
          555127848.2360779,
          2081610148.254339,
          3701683546.2860503,
          95325043.68136296,
          183607670.82817924,
          114688082.73901032,
          656768479.0254647,
          576713743.774119,
          72238379.15945034,
          1083514870.8295588,
          528207080.45487285,
          781464289.92851,
          448401038.40914154,
          81189730.70949353,
          1223309317.361076,
          408215927.93485886
         ],
         "yaxis": "y"
        }
       ],
       "layout": {
        "legend": {
         "tracegroupgap": 0
        },
        "margin": {
         "t": 60
        },
        "template": {
         "data": {
          "bar": [
           {
            "error_x": {
             "color": "#2a3f5f"
            },
            "error_y": {
             "color": "#2a3f5f"
            },
            "marker": {
             "line": {
              "color": "#E5ECF6",
              "width": 0.5
             },
             "pattern": {
              "fillmode": "overlay",
              "size": 10,
              "solidity": 0.2
             }
            },
            "type": "bar"
           }
          ],
          "barpolar": [
           {
            "marker": {
             "line": {
              "color": "#E5ECF6",
              "width": 0.5
             },
             "pattern": {
              "fillmode": "overlay",
              "size": 10,
              "solidity": 0.2
             }
            },
            "type": "barpolar"
           }
          ],
          "carpet": [
           {
            "aaxis": {
             "endlinecolor": "#2a3f5f",
             "gridcolor": "white",
             "linecolor": "white",
             "minorgridcolor": "white",
             "startlinecolor": "#2a3f5f"
            },
            "baxis": {
             "endlinecolor": "#2a3f5f",
             "gridcolor": "white",
             "linecolor": "white",
             "minorgridcolor": "white",
             "startlinecolor": "#2a3f5f"
            },
            "type": "carpet"
           }
          ],
          "choropleth": [
           {
            "colorbar": {
             "outlinewidth": 0,
             "ticks": ""
            },
            "type": "choropleth"
           }
          ],
          "contour": [
           {
            "colorbar": {
             "outlinewidth": 0,
             "ticks": ""
            },
            "colorscale": [
             [
              0,
              "#0d0887"
             ],
             [
              0.1111111111111111,
              "#46039f"
             ],
             [
              0.2222222222222222,
              "#7201a8"
             ],
             [
              0.3333333333333333,
              "#9c179e"
             ],
             [
              0.4444444444444444,
              "#bd3786"
             ],
             [
              0.5555555555555556,
              "#d8576b"
             ],
             [
              0.6666666666666666,
              "#ed7953"
             ],
             [
              0.7777777777777778,
              "#fb9f3a"
             ],
             [
              0.8888888888888888,
              "#fdca26"
             ],
             [
              1,
              "#f0f921"
             ]
            ],
            "type": "contour"
           }
          ],
          "contourcarpet": [
           {
            "colorbar": {
             "outlinewidth": 0,
             "ticks": ""
            },
            "type": "contourcarpet"
           }
          ],
          "heatmap": [
           {
            "colorbar": {
             "outlinewidth": 0,
             "ticks": ""
            },
            "colorscale": [
             [
              0,
              "#0d0887"
             ],
             [
              0.1111111111111111,
              "#46039f"
             ],
             [
              0.2222222222222222,
              "#7201a8"
             ],
             [
              0.3333333333333333,
              "#9c179e"
             ],
             [
              0.4444444444444444,
              "#bd3786"
             ],
             [
              0.5555555555555556,
              "#d8576b"
             ],
             [
              0.6666666666666666,
              "#ed7953"
             ],
             [
              0.7777777777777778,
              "#fb9f3a"
             ],
             [
              0.8888888888888888,
              "#fdca26"
             ],
             [
              1,
              "#f0f921"
             ]
            ],
            "type": "heatmap"
           }
          ],
          "heatmapgl": [
           {
            "colorbar": {
             "outlinewidth": 0,
             "ticks": ""
            },
            "colorscale": [
             [
              0,
              "#0d0887"
             ],
             [
              0.1111111111111111,
              "#46039f"
             ],
             [
              0.2222222222222222,
              "#7201a8"
             ],
             [
              0.3333333333333333,
              "#9c179e"
             ],
             [
              0.4444444444444444,
              "#bd3786"
             ],
             [
              0.5555555555555556,
              "#d8576b"
             ],
             [
              0.6666666666666666,
              "#ed7953"
             ],
             [
              0.7777777777777778,
              "#fb9f3a"
             ],
             [
              0.8888888888888888,
              "#fdca26"
             ],
             [
              1,
              "#f0f921"
             ]
            ],
            "type": "heatmapgl"
           }
          ],
          "histogram": [
           {
            "marker": {
             "pattern": {
              "fillmode": "overlay",
              "size": 10,
              "solidity": 0.2
             }
            },
            "type": "histogram"
           }
          ],
          "histogram2d": [
           {
            "colorbar": {
             "outlinewidth": 0,
             "ticks": ""
            },
            "colorscale": [
             [
              0,
              "#0d0887"
             ],
             [
              0.1111111111111111,
              "#46039f"
             ],
             [
              0.2222222222222222,
              "#7201a8"
             ],
             [
              0.3333333333333333,
              "#9c179e"
             ],
             [
              0.4444444444444444,
              "#bd3786"
             ],
             [
              0.5555555555555556,
              "#d8576b"
             ],
             [
              0.6666666666666666,
              "#ed7953"
             ],
             [
              0.7777777777777778,
              "#fb9f3a"
             ],
             [
              0.8888888888888888,
              "#fdca26"
             ],
             [
              1,
              "#f0f921"
             ]
            ],
            "type": "histogram2d"
           }
          ],
          "histogram2dcontour": [
           {
            "colorbar": {
             "outlinewidth": 0,
             "ticks": ""
            },
            "colorscale": [
             [
              0,
              "#0d0887"
             ],
             [
              0.1111111111111111,
              "#46039f"
             ],
             [
              0.2222222222222222,
              "#7201a8"
             ],
             [
              0.3333333333333333,
              "#9c179e"
             ],
             [
              0.4444444444444444,
              "#bd3786"
             ],
             [
              0.5555555555555556,
              "#d8576b"
             ],
             [
              0.6666666666666666,
              "#ed7953"
             ],
             [
              0.7777777777777778,
              "#fb9f3a"
             ],
             [
              0.8888888888888888,
              "#fdca26"
             ],
             [
              1,
              "#f0f921"
             ]
            ],
            "type": "histogram2dcontour"
           }
          ],
          "mesh3d": [
           {
            "colorbar": {
             "outlinewidth": 0,
             "ticks": ""
            },
            "type": "mesh3d"
           }
          ],
          "parcoords": [
           {
            "line": {
             "colorbar": {
              "outlinewidth": 0,
              "ticks": ""
             }
            },
            "type": "parcoords"
           }
          ],
          "pie": [
           {
            "automargin": true,
            "type": "pie"
           }
          ],
          "scatter": [
           {
            "fillpattern": {
             "fillmode": "overlay",
             "size": 10,
             "solidity": 0.2
            },
            "type": "scatter"
           }
          ],
          "scatter3d": [
           {
            "line": {
             "colorbar": {
              "outlinewidth": 0,
              "ticks": ""
             }
            },
            "marker": {
             "colorbar": {
              "outlinewidth": 0,
              "ticks": ""
             }
            },
            "type": "scatter3d"
           }
          ],
          "scattercarpet": [
           {
            "marker": {
             "colorbar": {
              "outlinewidth": 0,
              "ticks": ""
             }
            },
            "type": "scattercarpet"
           }
          ],
          "scattergeo": [
           {
            "marker": {
             "colorbar": {
              "outlinewidth": 0,
              "ticks": ""
             }
            },
            "type": "scattergeo"
           }
          ],
          "scattergl": [
           {
            "marker": {
             "colorbar": {
              "outlinewidth": 0,
              "ticks": ""
             }
            },
            "type": "scattergl"
           }
          ],
          "scattermapbox": [
           {
            "marker": {
             "colorbar": {
              "outlinewidth": 0,
              "ticks": ""
             }
            },
            "type": "scattermapbox"
           }
          ],
          "scatterpolar": [
           {
            "marker": {
             "colorbar": {
              "outlinewidth": 0,
              "ticks": ""
             }
            },
            "type": "scatterpolar"
           }
          ],
          "scatterpolargl": [
           {
            "marker": {
             "colorbar": {
              "outlinewidth": 0,
              "ticks": ""
             }
            },
            "type": "scatterpolargl"
           }
          ],
          "scatterternary": [
           {
            "marker": {
             "colorbar": {
              "outlinewidth": 0,
              "ticks": ""
             }
            },
            "type": "scatterternary"
           }
          ],
          "surface": [
           {
            "colorbar": {
             "outlinewidth": 0,
             "ticks": ""
            },
            "colorscale": [
             [
              0,
              "#0d0887"
             ],
             [
              0.1111111111111111,
              "#46039f"
             ],
             [
              0.2222222222222222,
              "#7201a8"
             ],
             [
              0.3333333333333333,
              "#9c179e"
             ],
             [
              0.4444444444444444,
              "#bd3786"
             ],
             [
              0.5555555555555556,
              "#d8576b"
             ],
             [
              0.6666666666666666,
              "#ed7953"
             ],
             [
              0.7777777777777778,
              "#fb9f3a"
             ],
             [
              0.8888888888888888,
              "#fdca26"
             ],
             [
              1,
              "#f0f921"
             ]
            ],
            "type": "surface"
           }
          ],
          "table": [
           {
            "cells": {
             "fill": {
              "color": "#EBF0F8"
             },
             "line": {
              "color": "white"
             }
            },
            "header": {
             "fill": {
              "color": "#C8D4E3"
             },
             "line": {
              "color": "white"
             }
            },
            "type": "table"
           }
          ]
         },
         "layout": {
          "annotationdefaults": {
           "arrowcolor": "#2a3f5f",
           "arrowhead": 0,
           "arrowwidth": 1
          },
          "autotypenumbers": "strict",
          "coloraxis": {
           "colorbar": {
            "outlinewidth": 0,
            "ticks": ""
           }
          },
          "colorscale": {
           "diverging": [
            [
             0,
             "#8e0152"
            ],
            [
             0.1,
             "#c51b7d"
            ],
            [
             0.2,
             "#de77ae"
            ],
            [
             0.3,
             "#f1b6da"
            ],
            [
             0.4,
             "#fde0ef"
            ],
            [
             0.5,
             "#f7f7f7"
            ],
            [
             0.6,
             "#e6f5d0"
            ],
            [
             0.7,
             "#b8e186"
            ],
            [
             0.8,
             "#7fbc41"
            ],
            [
             0.9,
             "#4d9221"
            ],
            [
             1,
             "#276419"
            ]
           ],
           "sequential": [
            [
             0,
             "#0d0887"
            ],
            [
             0.1111111111111111,
             "#46039f"
            ],
            [
             0.2222222222222222,
             "#7201a8"
            ],
            [
             0.3333333333333333,
             "#9c179e"
            ],
            [
             0.4444444444444444,
             "#bd3786"
            ],
            [
             0.5555555555555556,
             "#d8576b"
            ],
            [
             0.6666666666666666,
             "#ed7953"
            ],
            [
             0.7777777777777778,
             "#fb9f3a"
            ],
            [
             0.8888888888888888,
             "#fdca26"
            ],
            [
             1,
             "#f0f921"
            ]
           ],
           "sequentialminus": [
            [
             0,
             "#0d0887"
            ],
            [
             0.1111111111111111,
             "#46039f"
            ],
            [
             0.2222222222222222,
             "#7201a8"
            ],
            [
             0.3333333333333333,
             "#9c179e"
            ],
            [
             0.4444444444444444,
             "#bd3786"
            ],
            [
             0.5555555555555556,
             "#d8576b"
            ],
            [
             0.6666666666666666,
             "#ed7953"
            ],
            [
             0.7777777777777778,
             "#fb9f3a"
            ],
            [
             0.8888888888888888,
             "#fdca26"
            ],
            [
             1,
             "#f0f921"
            ]
           ]
          },
          "colorway": [
           "#636efa",
           "#EF553B",
           "#00cc96",
           "#ab63fa",
           "#FFA15A",
           "#19d3f3",
           "#FF6692",
           "#B6E880",
           "#FF97FF",
           "#FECB52"
          ],
          "font": {
           "color": "#2a3f5f"
          },
          "geo": {
           "bgcolor": "white",
           "lakecolor": "white",
           "landcolor": "#E5ECF6",
           "showlakes": true,
           "showland": true,
           "subunitcolor": "white"
          },
          "hoverlabel": {
           "align": "left"
          },
          "hovermode": "closest",
          "mapbox": {
           "style": "light"
          },
          "paper_bgcolor": "white",
          "plot_bgcolor": "#E5ECF6",
          "polar": {
           "angularaxis": {
            "gridcolor": "white",
            "linecolor": "white",
            "ticks": ""
           },
           "bgcolor": "#E5ECF6",
           "radialaxis": {
            "gridcolor": "white",
            "linecolor": "white",
            "ticks": ""
           }
          },
          "scene": {
           "xaxis": {
            "backgroundcolor": "#E5ECF6",
            "gridcolor": "white",
            "gridwidth": 2,
            "linecolor": "white",
            "showbackground": true,
            "ticks": "",
            "zerolinecolor": "white"
           },
           "yaxis": {
            "backgroundcolor": "#E5ECF6",
            "gridcolor": "white",
            "gridwidth": 2,
            "linecolor": "white",
            "showbackground": true,
            "ticks": "",
            "zerolinecolor": "white"
           },
           "zaxis": {
            "backgroundcolor": "#E5ECF6",
            "gridcolor": "white",
            "gridwidth": 2,
            "linecolor": "white",
            "showbackground": true,
            "ticks": "",
            "zerolinecolor": "white"
           }
          },
          "shapedefaults": {
           "line": {
            "color": "#2a3f5f"
           }
          },
          "ternary": {
           "aaxis": {
            "gridcolor": "white",
            "linecolor": "white",
            "ticks": ""
           },
           "baxis": {
            "gridcolor": "white",
            "linecolor": "white",
            "ticks": ""
           },
           "bgcolor": "#E5ECF6",
           "caxis": {
            "gridcolor": "white",
            "linecolor": "white",
            "ticks": ""
           }
          },
          "title": {
           "x": 0.05
          },
          "xaxis": {
           "automargin": true,
           "gridcolor": "white",
           "linecolor": "white",
           "ticks": "",
           "title": {
            "standoff": 15
           },
           "zerolinecolor": "white",
           "zerolinewidth": 2
          },
          "yaxis": {
           "automargin": true,
           "gridcolor": "white",
           "linecolor": "white",
           "ticks": "",
           "title": {
            "standoff": 15
           },
           "zerolinecolor": "white",
           "zerolinewidth": 2
          }
         }
        },
        "xaxis": {
         "anchor": "y",
         "domain": [
          0,
          1
         ],
         "title": {
          "text": "POPULAÇÃO_TOTAL"
         }
        },
        "yaxis": {
         "anchor": "x",
         "domain": [
          0,
          1
         ],
         "title": {
          "text": "Emissão"
         }
        }
       }
      }
     },
     "metadata": {},
     "output_type": "display_data"
    }
   ],
   "source": [
    "px.scatter(\n",
    "    data_frame=data_grouping, x=\"POPULAÇÃO_TOTAL\", y=\"Emissão\", text=\"Estado\", opacity=0\n",
    ")"
   ]
  },
  {
   "cell_type": "code",
   "execution_count": 100,
   "metadata": {},
   "outputs": [
    {
     "data": {
      "text/html": [
       "<div>\n",
       "<style scoped>\n",
       "    .dataframe tbody tr th:only-of-type {\n",
       "        vertical-align: middle;\n",
       "    }\n",
       "\n",
       "    .dataframe tbody tr th {\n",
       "        vertical-align: top;\n",
       "    }\n",
       "\n",
       "    .dataframe thead th {\n",
       "        text-align: right;\n",
       "    }\n",
       "</style>\n",
       "<table border=\"1\" class=\"dataframe\">\n",
       "  <thead>\n",
       "    <tr style=\"text-align: right;\">\n",
       "      <th></th>\n",
       "      <th>Estado</th>\n",
       "      <th>Emissão</th>\n",
       "      <th>UF</th>\n",
       "      <th>POPULAÇÃO_TOTAL</th>\n",
       "      <th>data_percapita</th>\n",
       "    </tr>\n",
       "  </thead>\n",
       "  <tbody>\n",
       "    <tr>\n",
       "      <th>21</th>\n",
       "      <td>RR</td>\n",
       "      <td>5.282071e+08</td>\n",
       "      <td>RR</td>\n",
       "      <td>634805</td>\n",
       "      <td>832.077694</td>\n",
       "    </tr>\n",
       "    <tr>\n",
       "      <th>20</th>\n",
       "      <td>RO</td>\n",
       "      <td>1.083515e+09</td>\n",
       "      <td>RO</td>\n",
       "      <td>1616379</td>\n",
       "      <td>670.334662</td>\n",
       "    </tr>\n",
       "    <tr>\n",
       "      <th>12</th>\n",
       "      <td>MT</td>\n",
       "      <td>2.081610e+09</td>\n",
       "      <td>MT</td>\n",
       "      <td>3784239</td>\n",
       "      <td>550.073647</td>\n",
       "    </tr>\n",
       "    <tr>\n",
       "      <th>13</th>\n",
       "      <td>PA</td>\n",
       "      <td>3.701684e+09</td>\n",
       "      <td>PA</td>\n",
       "      <td>8442962</td>\n",
       "      <td>438.434230</td>\n",
       "    </tr>\n",
       "    <tr>\n",
       "      <th>0</th>\n",
       "      <td>AC</td>\n",
       "      <td>3.505471e+08</td>\n",
       "      <td>AC</td>\n",
       "      <td>829780</td>\n",
       "      <td>422.457928</td>\n",
       "    </tr>\n",
       "    <tr>\n",
       "      <th>2</th>\n",
       "      <td>AM</td>\n",
       "      <td>1.189649e+09</td>\n",
       "      <td>AM</td>\n",
       "      <td>3952262</td>\n",
       "      <td>301.004463</td>\n",
       "    </tr>\n",
       "    <tr>\n",
       "      <th>26</th>\n",
       "      <td>TO</td>\n",
       "      <td>4.082159e+08</td>\n",
       "      <td>TO</td>\n",
       "      <td>1584306</td>\n",
       "      <td>257.662300</td>\n",
       "    </tr>\n",
       "    <tr>\n",
       "      <th>11</th>\n",
       "      <td>MS</td>\n",
       "      <td>5.551278e+08</td>\n",
       "      <td>MS</td>\n",
       "      <td>2833742</td>\n",
       "      <td>195.899220</td>\n",
       "    </tr>\n",
       "    <tr>\n",
       "      <th>9</th>\n",
       "      <td>MA</td>\n",
       "      <td>9.476324e+08</td>\n",
       "      <td>MA</td>\n",
       "      <td>6800605</td>\n",
       "      <td>139.345312</td>\n",
       "    </tr>\n",
       "    <tr>\n",
       "      <th>8</th>\n",
       "      <td>GO</td>\n",
       "      <td>6.008081e+08</td>\n",
       "      <td>GO</td>\n",
       "      <td>6950976</td>\n",
       "      <td>86.435075</td>\n",
       "    </tr>\n",
       "    <tr>\n",
       "      <th>22</th>\n",
       "      <td>RS</td>\n",
       "      <td>7.814643e+08</td>\n",
       "      <td>RS</td>\n",
       "      <td>11088065</td>\n",
       "      <td>70.477968</td>\n",
       "    </tr>\n",
       "    <tr>\n",
       "      <th>7</th>\n",
       "      <td>ES</td>\n",
       "      <td>2.697547e+08</td>\n",
       "      <td>ES</td>\n",
       "      <td>3975100</td>\n",
       "      <td>67.861099</td>\n",
       "    </tr>\n",
       "    <tr>\n",
       "      <th>10</th>\n",
       "      <td>MG</td>\n",
       "      <td>1.250651e+09</td>\n",
       "      <td>MG</td>\n",
       "      <td>20732660</td>\n",
       "      <td>60.322765</td>\n",
       "    </tr>\n",
       "    <tr>\n",
       "      <th>23</th>\n",
       "      <td>SC</td>\n",
       "      <td>4.484010e+08</td>\n",
       "      <td>SC</td>\n",
       "      <td>7762154</td>\n",
       "      <td>57.767604</td>\n",
       "    </tr>\n",
       "    <tr>\n",
       "      <th>17</th>\n",
       "      <td>PR</td>\n",
       "      <td>6.567685e+08</td>\n",
       "      <td>PR</td>\n",
       "      <td>11835379</td>\n",
       "      <td>55.491969</td>\n",
       "    </tr>\n",
       "    <tr>\n",
       "      <th>3</th>\n",
       "      <td>AP</td>\n",
       "      <td>3.568410e+07</td>\n",
       "      <td>AP</td>\n",
       "      <td>774268</td>\n",
       "      <td>46.087533</td>\n",
       "    </tr>\n",
       "    <tr>\n",
       "      <th>4</th>\n",
       "      <td>BA</td>\n",
       "      <td>5.932251e+08</td>\n",
       "      <td>BA</td>\n",
       "      <td>14659023</td>\n",
       "      <td>40.468254</td>\n",
       "    </tr>\n",
       "    <tr>\n",
       "      <th>24</th>\n",
       "      <td>SE</td>\n",
       "      <td>8.118973e+07</td>\n",
       "      <td>SE</td>\n",
       "      <td>2211868</td>\n",
       "      <td>36.706409</td>\n",
       "    </tr>\n",
       "    <tr>\n",
       "      <th>16</th>\n",
       "      <td>PI</td>\n",
       "      <td>1.146881e+08</td>\n",
       "      <td>PI</td>\n",
       "      <td>3270174</td>\n",
       "      <td>35.070942</td>\n",
       "    </tr>\n",
       "    <tr>\n",
       "      <th>18</th>\n",
       "      <td>RJ</td>\n",
       "      <td>5.767137e+08</td>\n",
       "      <td>RJ</td>\n",
       "      <td>16615526</td>\n",
       "      <td>34.709328</td>\n",
       "    </tr>\n",
       "    <tr>\n",
       "      <th>25</th>\n",
       "      <td>SP</td>\n",
       "      <td>1.223309e+09</td>\n",
       "      <td>SP</td>\n",
       "      <td>46024937</td>\n",
       "      <td>26.579272</td>\n",
       "    </tr>\n",
       "    <tr>\n",
       "      <th>14</th>\n",
       "      <td>PB</td>\n",
       "      <td>9.532504e+07</td>\n",
       "      <td>PB</td>\n",
       "      <td>4030961</td>\n",
       "      <td>23.648218</td>\n",
       "    </tr>\n",
       "    <tr>\n",
       "      <th>5</th>\n",
       "      <td>CE</td>\n",
       "      <td>2.034731e+08</td>\n",
       "      <td>CE</td>\n",
       "      <td>8936431</td>\n",
       "      <td>22.768949</td>\n",
       "    </tr>\n",
       "    <tr>\n",
       "      <th>19</th>\n",
       "      <td>RN</td>\n",
       "      <td>7.223838e+07</td>\n",
       "      <td>RN</td>\n",
       "      <td>3303953</td>\n",
       "      <td>21.864227</td>\n",
       "    </tr>\n",
       "    <tr>\n",
       "      <th>15</th>\n",
       "      <td>PE</td>\n",
       "      <td>1.836077e+08</td>\n",
       "      <td>PE</td>\n",
       "      <td>9051113</td>\n",
       "      <td>20.285646</td>\n",
       "    </tr>\n",
       "    <tr>\n",
       "      <th>1</th>\n",
       "      <td>AL</td>\n",
       "      <td>6.261279e+07</td>\n",
       "      <td>AL</td>\n",
       "      <td>3125254</td>\n",
       "      <td>20.034465</td>\n",
       "    </tr>\n",
       "    <tr>\n",
       "      <th>6</th>\n",
       "      <td>DF</td>\n",
       "      <td>5.668738e+07</td>\n",
       "      <td>DF</td>\n",
       "      <td>2923369</td>\n",
       "      <td>19.391113</td>\n",
       "    </tr>\n",
       "  </tbody>\n",
       "</table>\n",
       "</div>"
      ],
      "text/plain": [
       "   Estado       Emissão  UF  POPULAÇÃO_TOTAL  data_percapita\n",
       "21     RR  5.282071e+08  RR           634805      832.077694\n",
       "20     RO  1.083515e+09  RO          1616379      670.334662\n",
       "12     MT  2.081610e+09  MT          3784239      550.073647\n",
       "13     PA  3.701684e+09  PA          8442962      438.434230\n",
       "0      AC  3.505471e+08  AC           829780      422.457928\n",
       "2      AM  1.189649e+09  AM          3952262      301.004463\n",
       "26     TO  4.082159e+08  TO          1584306      257.662300\n",
       "11     MS  5.551278e+08  MS          2833742      195.899220\n",
       "9      MA  9.476324e+08  MA          6800605      139.345312\n",
       "8      GO  6.008081e+08  GO          6950976       86.435075\n",
       "22     RS  7.814643e+08  RS         11088065       70.477968\n",
       "7      ES  2.697547e+08  ES          3975100       67.861099\n",
       "10     MG  1.250651e+09  MG         20732660       60.322765\n",
       "23     SC  4.484010e+08  SC          7762154       57.767604\n",
       "17     PR  6.567685e+08  PR         11835379       55.491969\n",
       "3      AP  3.568410e+07  AP           774268       46.087533\n",
       "4      BA  5.932251e+08  BA         14659023       40.468254\n",
       "24     SE  8.118973e+07  SE          2211868       36.706409\n",
       "16     PI  1.146881e+08  PI          3270174       35.070942\n",
       "18     RJ  5.767137e+08  RJ         16615526       34.709328\n",
       "25     SP  1.223309e+09  SP         46024937       26.579272\n",
       "14     PB  9.532504e+07  PB          4030961       23.648218\n",
       "5      CE  2.034731e+08  CE          8936431       22.768949\n",
       "19     RN  7.223838e+07  RN          3303953       21.864227\n",
       "15     PE  1.836077e+08  PE          9051113       20.285646\n",
       "1      AL  6.261279e+07  AL          3125254       20.034465\n",
       "6      DF  5.668738e+07  DF          2923369       19.391113"
      ]
     },
     "execution_count": 100,
     "metadata": {},
     "output_type": "execute_result"
    }
   ],
   "source": [
    "data_grouping = data_grouping.assign(data_percapita = data_grouping[\"Emissão\"] / data_grouping[\"POPULAÇÃO_TOTAL\"]).sort_values('data_percapita', ascending=False)\n",
    "data_grouping"
   ]
  },
  {
   "cell_type": "code",
   "execution_count": 101,
   "metadata": {},
   "outputs": [
    {
     "data": {
      "application/vnd.plotly.v1+json": {
       "config": {
        "plotlyServerURL": "https://plot.ly"
       },
       "data": [
        {
         "alignmentgroup": "True",
         "hovertemplate": "Estado=%{x}<br>data_percapita=%{y}<extra></extra>",
         "legendgroup": "",
         "marker": {
          "color": "#636efa",
          "pattern": {
           "shape": ""
          }
         },
         "name": "",
         "offsetgroup": "",
         "orientation": "v",
         "showlegend": false,
         "textposition": "auto",
         "type": "bar",
         "x": [
          "RR",
          "RO",
          "MT",
          "PA",
          "AC",
          "AM",
          "TO",
          "MS",
          "MA",
          "GO",
          "RS",
          "ES",
          "MG",
          "SC",
          "PR",
          "AP",
          "BA",
          "SE",
          "PI",
          "RJ",
          "SP",
          "PB",
          "CE",
          "RN",
          "PE",
          "AL",
          "DF"
         ],
         "xaxis": "x",
         "y": [
          832.0776938664202,
          670.3346621241423,
          550.0736471069451,
          438.4342303431012,
          422.4579275370398,
          301.0044632288073,
          257.66230004485175,
          195.89922026637495,
          139.34531242052745,
          86.43507548239398,
          70.4779679708326,
          67.86109868173692,
          60.32276495149194,
          57.76760399357466,
          55.491968531423005,
          46.087532603687094,
          40.46825413593003,
          36.706408659781474,
          35.07094201684997,
          34.70932811721513,
          26.579271957744908,
          23.648217802494976,
          22.768948586640104,
          21.864227233090283,
          20.285645624817548,
          20.034465228713614,
          19.39111260820312
         ],
         "yaxis": "y"
        }
       ],
       "layout": {
        "barmode": "relative",
        "legend": {
         "tracegroupgap": 0
        },
        "margin": {
         "t": 60
        },
        "template": {
         "data": {
          "bar": [
           {
            "error_x": {
             "color": "#2a3f5f"
            },
            "error_y": {
             "color": "#2a3f5f"
            },
            "marker": {
             "line": {
              "color": "#E5ECF6",
              "width": 0.5
             },
             "pattern": {
              "fillmode": "overlay",
              "size": 10,
              "solidity": 0.2
             }
            },
            "type": "bar"
           }
          ],
          "barpolar": [
           {
            "marker": {
             "line": {
              "color": "#E5ECF6",
              "width": 0.5
             },
             "pattern": {
              "fillmode": "overlay",
              "size": 10,
              "solidity": 0.2
             }
            },
            "type": "barpolar"
           }
          ],
          "carpet": [
           {
            "aaxis": {
             "endlinecolor": "#2a3f5f",
             "gridcolor": "white",
             "linecolor": "white",
             "minorgridcolor": "white",
             "startlinecolor": "#2a3f5f"
            },
            "baxis": {
             "endlinecolor": "#2a3f5f",
             "gridcolor": "white",
             "linecolor": "white",
             "minorgridcolor": "white",
             "startlinecolor": "#2a3f5f"
            },
            "type": "carpet"
           }
          ],
          "choropleth": [
           {
            "colorbar": {
             "outlinewidth": 0,
             "ticks": ""
            },
            "type": "choropleth"
           }
          ],
          "contour": [
           {
            "colorbar": {
             "outlinewidth": 0,
             "ticks": ""
            },
            "colorscale": [
             [
              0,
              "#0d0887"
             ],
             [
              0.1111111111111111,
              "#46039f"
             ],
             [
              0.2222222222222222,
              "#7201a8"
             ],
             [
              0.3333333333333333,
              "#9c179e"
             ],
             [
              0.4444444444444444,
              "#bd3786"
             ],
             [
              0.5555555555555556,
              "#d8576b"
             ],
             [
              0.6666666666666666,
              "#ed7953"
             ],
             [
              0.7777777777777778,
              "#fb9f3a"
             ],
             [
              0.8888888888888888,
              "#fdca26"
             ],
             [
              1,
              "#f0f921"
             ]
            ],
            "type": "contour"
           }
          ],
          "contourcarpet": [
           {
            "colorbar": {
             "outlinewidth": 0,
             "ticks": ""
            },
            "type": "contourcarpet"
           }
          ],
          "heatmap": [
           {
            "colorbar": {
             "outlinewidth": 0,
             "ticks": ""
            },
            "colorscale": [
             [
              0,
              "#0d0887"
             ],
             [
              0.1111111111111111,
              "#46039f"
             ],
             [
              0.2222222222222222,
              "#7201a8"
             ],
             [
              0.3333333333333333,
              "#9c179e"
             ],
             [
              0.4444444444444444,
              "#bd3786"
             ],
             [
              0.5555555555555556,
              "#d8576b"
             ],
             [
              0.6666666666666666,
              "#ed7953"
             ],
             [
              0.7777777777777778,
              "#fb9f3a"
             ],
             [
              0.8888888888888888,
              "#fdca26"
             ],
             [
              1,
              "#f0f921"
             ]
            ],
            "type": "heatmap"
           }
          ],
          "heatmapgl": [
           {
            "colorbar": {
             "outlinewidth": 0,
             "ticks": ""
            },
            "colorscale": [
             [
              0,
              "#0d0887"
             ],
             [
              0.1111111111111111,
              "#46039f"
             ],
             [
              0.2222222222222222,
              "#7201a8"
             ],
             [
              0.3333333333333333,
              "#9c179e"
             ],
             [
              0.4444444444444444,
              "#bd3786"
             ],
             [
              0.5555555555555556,
              "#d8576b"
             ],
             [
              0.6666666666666666,
              "#ed7953"
             ],
             [
              0.7777777777777778,
              "#fb9f3a"
             ],
             [
              0.8888888888888888,
              "#fdca26"
             ],
             [
              1,
              "#f0f921"
             ]
            ],
            "type": "heatmapgl"
           }
          ],
          "histogram": [
           {
            "marker": {
             "pattern": {
              "fillmode": "overlay",
              "size": 10,
              "solidity": 0.2
             }
            },
            "type": "histogram"
           }
          ],
          "histogram2d": [
           {
            "colorbar": {
             "outlinewidth": 0,
             "ticks": ""
            },
            "colorscale": [
             [
              0,
              "#0d0887"
             ],
             [
              0.1111111111111111,
              "#46039f"
             ],
             [
              0.2222222222222222,
              "#7201a8"
             ],
             [
              0.3333333333333333,
              "#9c179e"
             ],
             [
              0.4444444444444444,
              "#bd3786"
             ],
             [
              0.5555555555555556,
              "#d8576b"
             ],
             [
              0.6666666666666666,
              "#ed7953"
             ],
             [
              0.7777777777777778,
              "#fb9f3a"
             ],
             [
              0.8888888888888888,
              "#fdca26"
             ],
             [
              1,
              "#f0f921"
             ]
            ],
            "type": "histogram2d"
           }
          ],
          "histogram2dcontour": [
           {
            "colorbar": {
             "outlinewidth": 0,
             "ticks": ""
            },
            "colorscale": [
             [
              0,
              "#0d0887"
             ],
             [
              0.1111111111111111,
              "#46039f"
             ],
             [
              0.2222222222222222,
              "#7201a8"
             ],
             [
              0.3333333333333333,
              "#9c179e"
             ],
             [
              0.4444444444444444,
              "#bd3786"
             ],
             [
              0.5555555555555556,
              "#d8576b"
             ],
             [
              0.6666666666666666,
              "#ed7953"
             ],
             [
              0.7777777777777778,
              "#fb9f3a"
             ],
             [
              0.8888888888888888,
              "#fdca26"
             ],
             [
              1,
              "#f0f921"
             ]
            ],
            "type": "histogram2dcontour"
           }
          ],
          "mesh3d": [
           {
            "colorbar": {
             "outlinewidth": 0,
             "ticks": ""
            },
            "type": "mesh3d"
           }
          ],
          "parcoords": [
           {
            "line": {
             "colorbar": {
              "outlinewidth": 0,
              "ticks": ""
             }
            },
            "type": "parcoords"
           }
          ],
          "pie": [
           {
            "automargin": true,
            "type": "pie"
           }
          ],
          "scatter": [
           {
            "fillpattern": {
             "fillmode": "overlay",
             "size": 10,
             "solidity": 0.2
            },
            "type": "scatter"
           }
          ],
          "scatter3d": [
           {
            "line": {
             "colorbar": {
              "outlinewidth": 0,
              "ticks": ""
             }
            },
            "marker": {
             "colorbar": {
              "outlinewidth": 0,
              "ticks": ""
             }
            },
            "type": "scatter3d"
           }
          ],
          "scattercarpet": [
           {
            "marker": {
             "colorbar": {
              "outlinewidth": 0,
              "ticks": ""
             }
            },
            "type": "scattercarpet"
           }
          ],
          "scattergeo": [
           {
            "marker": {
             "colorbar": {
              "outlinewidth": 0,
              "ticks": ""
             }
            },
            "type": "scattergeo"
           }
          ],
          "scattergl": [
           {
            "marker": {
             "colorbar": {
              "outlinewidth": 0,
              "ticks": ""
             }
            },
            "type": "scattergl"
           }
          ],
          "scattermapbox": [
           {
            "marker": {
             "colorbar": {
              "outlinewidth": 0,
              "ticks": ""
             }
            },
            "type": "scattermapbox"
           }
          ],
          "scatterpolar": [
           {
            "marker": {
             "colorbar": {
              "outlinewidth": 0,
              "ticks": ""
             }
            },
            "type": "scatterpolar"
           }
          ],
          "scatterpolargl": [
           {
            "marker": {
             "colorbar": {
              "outlinewidth": 0,
              "ticks": ""
             }
            },
            "type": "scatterpolargl"
           }
          ],
          "scatterternary": [
           {
            "marker": {
             "colorbar": {
              "outlinewidth": 0,
              "ticks": ""
             }
            },
            "type": "scatterternary"
           }
          ],
          "surface": [
           {
            "colorbar": {
             "outlinewidth": 0,
             "ticks": ""
            },
            "colorscale": [
             [
              0,
              "#0d0887"
             ],
             [
              0.1111111111111111,
              "#46039f"
             ],
             [
              0.2222222222222222,
              "#7201a8"
             ],
             [
              0.3333333333333333,
              "#9c179e"
             ],
             [
              0.4444444444444444,
              "#bd3786"
             ],
             [
              0.5555555555555556,
              "#d8576b"
             ],
             [
              0.6666666666666666,
              "#ed7953"
             ],
             [
              0.7777777777777778,
              "#fb9f3a"
             ],
             [
              0.8888888888888888,
              "#fdca26"
             ],
             [
              1,
              "#f0f921"
             ]
            ],
            "type": "surface"
           }
          ],
          "table": [
           {
            "cells": {
             "fill": {
              "color": "#EBF0F8"
             },
             "line": {
              "color": "white"
             }
            },
            "header": {
             "fill": {
              "color": "#C8D4E3"
             },
             "line": {
              "color": "white"
             }
            },
            "type": "table"
           }
          ]
         },
         "layout": {
          "annotationdefaults": {
           "arrowcolor": "#2a3f5f",
           "arrowhead": 0,
           "arrowwidth": 1
          },
          "autotypenumbers": "strict",
          "coloraxis": {
           "colorbar": {
            "outlinewidth": 0,
            "ticks": ""
           }
          },
          "colorscale": {
           "diverging": [
            [
             0,
             "#8e0152"
            ],
            [
             0.1,
             "#c51b7d"
            ],
            [
             0.2,
             "#de77ae"
            ],
            [
             0.3,
             "#f1b6da"
            ],
            [
             0.4,
             "#fde0ef"
            ],
            [
             0.5,
             "#f7f7f7"
            ],
            [
             0.6,
             "#e6f5d0"
            ],
            [
             0.7,
             "#b8e186"
            ],
            [
             0.8,
             "#7fbc41"
            ],
            [
             0.9,
             "#4d9221"
            ],
            [
             1,
             "#276419"
            ]
           ],
           "sequential": [
            [
             0,
             "#0d0887"
            ],
            [
             0.1111111111111111,
             "#46039f"
            ],
            [
             0.2222222222222222,
             "#7201a8"
            ],
            [
             0.3333333333333333,
             "#9c179e"
            ],
            [
             0.4444444444444444,
             "#bd3786"
            ],
            [
             0.5555555555555556,
             "#d8576b"
            ],
            [
             0.6666666666666666,
             "#ed7953"
            ],
            [
             0.7777777777777778,
             "#fb9f3a"
            ],
            [
             0.8888888888888888,
             "#fdca26"
            ],
            [
             1,
             "#f0f921"
            ]
           ],
           "sequentialminus": [
            [
             0,
             "#0d0887"
            ],
            [
             0.1111111111111111,
             "#46039f"
            ],
            [
             0.2222222222222222,
             "#7201a8"
            ],
            [
             0.3333333333333333,
             "#9c179e"
            ],
            [
             0.4444444444444444,
             "#bd3786"
            ],
            [
             0.5555555555555556,
             "#d8576b"
            ],
            [
             0.6666666666666666,
             "#ed7953"
            ],
            [
             0.7777777777777778,
             "#fb9f3a"
            ],
            [
             0.8888888888888888,
             "#fdca26"
            ],
            [
             1,
             "#f0f921"
            ]
           ]
          },
          "colorway": [
           "#636efa",
           "#EF553B",
           "#00cc96",
           "#ab63fa",
           "#FFA15A",
           "#19d3f3",
           "#FF6692",
           "#B6E880",
           "#FF97FF",
           "#FECB52"
          ],
          "font": {
           "color": "#2a3f5f"
          },
          "geo": {
           "bgcolor": "white",
           "lakecolor": "white",
           "landcolor": "#E5ECF6",
           "showlakes": true,
           "showland": true,
           "subunitcolor": "white"
          },
          "hoverlabel": {
           "align": "left"
          },
          "hovermode": "closest",
          "mapbox": {
           "style": "light"
          },
          "paper_bgcolor": "white",
          "plot_bgcolor": "#E5ECF6",
          "polar": {
           "angularaxis": {
            "gridcolor": "white",
            "linecolor": "white",
            "ticks": ""
           },
           "bgcolor": "#E5ECF6",
           "radialaxis": {
            "gridcolor": "white",
            "linecolor": "white",
            "ticks": ""
           }
          },
          "scene": {
           "xaxis": {
            "backgroundcolor": "#E5ECF6",
            "gridcolor": "white",
            "gridwidth": 2,
            "linecolor": "white",
            "showbackground": true,
            "ticks": "",
            "zerolinecolor": "white"
           },
           "yaxis": {
            "backgroundcolor": "#E5ECF6",
            "gridcolor": "white",
            "gridwidth": 2,
            "linecolor": "white",
            "showbackground": true,
            "ticks": "",
            "zerolinecolor": "white"
           },
           "zaxis": {
            "backgroundcolor": "#E5ECF6",
            "gridcolor": "white",
            "gridwidth": 2,
            "linecolor": "white",
            "showbackground": true,
            "ticks": "",
            "zerolinecolor": "white"
           }
          },
          "shapedefaults": {
           "line": {
            "color": "#2a3f5f"
           }
          },
          "ternary": {
           "aaxis": {
            "gridcolor": "white",
            "linecolor": "white",
            "ticks": ""
           },
           "baxis": {
            "gridcolor": "white",
            "linecolor": "white",
            "ticks": ""
           },
           "bgcolor": "#E5ECF6",
           "caxis": {
            "gridcolor": "white",
            "linecolor": "white",
            "ticks": ""
           }
          },
          "title": {
           "x": 0.05
          },
          "xaxis": {
           "automargin": true,
           "gridcolor": "white",
           "linecolor": "white",
           "ticks": "",
           "title": {
            "standoff": 15
           },
           "zerolinecolor": "white",
           "zerolinewidth": 2
          },
          "yaxis": {
           "automargin": true,
           "gridcolor": "white",
           "linecolor": "white",
           "ticks": "",
           "title": {
            "standoff": 15
           },
           "zerolinecolor": "white",
           "zerolinewidth": 2
          }
         }
        },
        "xaxis": {
         "anchor": "y",
         "domain": [
          0,
          1
         ],
         "title": {
          "text": "Estado"
         }
        },
        "yaxis": {
         "anchor": "x",
         "domain": [
          0,
          1
         ],
         "title": {
          "text": "data_percapita"
         }
        }
       }
      }
     },
     "metadata": {},
     "output_type": "display_data"
    }
   ],
   "source": [
    "px.bar(data_frame = data_grouping, x=\"Estado\", y=\"data_percapita\")"
   ]
  },
  {
   "cell_type": "code",
   "execution_count": 102,
   "metadata": {},
   "outputs": [
    {
     "data": {
      "application/vnd.plotly.v1+json": {
       "config": {
        "plotlyServerURL": "https://plot.ly"
       },
       "data": [
        {
         "hovertemplate": "POPULAÇÃO_TOTAL=%{x}<br>Emissão=%{y}<br>data_percapita=%{marker.size}<br>Estado=%{text}<extra></extra>",
         "legendgroup": "",
         "marker": {
          "color": "#636efa",
          "size": [
           832.0776938664202,
           670.3346621241423,
           550.0736471069451,
           438.4342303431012,
           422.4579275370398,
           301.0044632288073,
           257.66230004485175,
           195.89922026637495,
           139.34531242052745,
           86.43507548239398,
           70.4779679708326,
           67.86109868173692,
           60.32276495149194,
           57.76760399357466,
           55.491968531423005,
           46.087532603687094,
           40.46825413593003,
           36.706408659781474,
           35.07094201684997,
           34.70932811721513,
           26.579271957744908,
           23.648217802494976,
           22.768948586640104,
           21.864227233090283,
           20.285645624817548,
           20.034465228713614,
           19.39111260820312
          ],
          "sizemode": "area",
          "sizeref": 2.0801942346660507,
          "symbol": "circle"
         },
         "mode": "markers+text",
         "name": "",
         "orientation": "v",
         "showlegend": false,
         "text": [
          "RR",
          "RO",
          "MT",
          "PA",
          "AC",
          "AM",
          "TO",
          "MS",
          "MA",
          "GO",
          "RS",
          "ES",
          "MG",
          "SC",
          "PR",
          "AP",
          "BA",
          "SE",
          "PI",
          "RJ",
          "SP",
          "PB",
          "CE",
          "RN",
          "PE",
          "AL",
          "DF"
         ],
         "type": "scatter",
         "x": [
          634805,
          1616379,
          3784239,
          8442962,
          829780,
          3952262,
          1584306,
          2833742,
          6800605,
          6950976,
          11088065,
          3975100,
          20732660,
          7762154,
          11835379,
          774268,
          14659023,
          2211868,
          3270174,
          16615526,
          46024937,
          4030961,
          8936431,
          3303953,
          9051113,
          3125254,
          2923369
         ],
         "xaxis": "x",
         "y": [
          528207080.45487285,
          1083514870.8295588,
          2081610148.254339,
          3701683546.2860503,
          350547139.11168486,
          1189648501.8496125,
          408215927.93485886,
          555127848.2360779,
          947632428.3736011,
          600808135.236309,
          781464289.92851,
          269754653.36977243,
          1250651375.999199,
          448401038.40914154,
          656768479.0254647,
          35684101.6939916,
          593225068.1484435,
          81189730.70949353,
          114688082.73901032,
          576713743.774119,
          1223309317.361076,
          95325043.68136296,
          203473137.9870568,
          72238379.15945034,
          183607670.82817924,
          62612792.59389813,
          56687377.47433015
         ],
         "yaxis": "y"
        }
       ],
       "layout": {
        "legend": {
         "itemsizing": "constant",
         "tracegroupgap": 0
        },
        "margin": {
         "t": 60
        },
        "template": {
         "data": {
          "bar": [
           {
            "error_x": {
             "color": "#2a3f5f"
            },
            "error_y": {
             "color": "#2a3f5f"
            },
            "marker": {
             "line": {
              "color": "#E5ECF6",
              "width": 0.5
             },
             "pattern": {
              "fillmode": "overlay",
              "size": 10,
              "solidity": 0.2
             }
            },
            "type": "bar"
           }
          ],
          "barpolar": [
           {
            "marker": {
             "line": {
              "color": "#E5ECF6",
              "width": 0.5
             },
             "pattern": {
              "fillmode": "overlay",
              "size": 10,
              "solidity": 0.2
             }
            },
            "type": "barpolar"
           }
          ],
          "carpet": [
           {
            "aaxis": {
             "endlinecolor": "#2a3f5f",
             "gridcolor": "white",
             "linecolor": "white",
             "minorgridcolor": "white",
             "startlinecolor": "#2a3f5f"
            },
            "baxis": {
             "endlinecolor": "#2a3f5f",
             "gridcolor": "white",
             "linecolor": "white",
             "minorgridcolor": "white",
             "startlinecolor": "#2a3f5f"
            },
            "type": "carpet"
           }
          ],
          "choropleth": [
           {
            "colorbar": {
             "outlinewidth": 0,
             "ticks": ""
            },
            "type": "choropleth"
           }
          ],
          "contour": [
           {
            "colorbar": {
             "outlinewidth": 0,
             "ticks": ""
            },
            "colorscale": [
             [
              0,
              "#0d0887"
             ],
             [
              0.1111111111111111,
              "#46039f"
             ],
             [
              0.2222222222222222,
              "#7201a8"
             ],
             [
              0.3333333333333333,
              "#9c179e"
             ],
             [
              0.4444444444444444,
              "#bd3786"
             ],
             [
              0.5555555555555556,
              "#d8576b"
             ],
             [
              0.6666666666666666,
              "#ed7953"
             ],
             [
              0.7777777777777778,
              "#fb9f3a"
             ],
             [
              0.8888888888888888,
              "#fdca26"
             ],
             [
              1,
              "#f0f921"
             ]
            ],
            "type": "contour"
           }
          ],
          "contourcarpet": [
           {
            "colorbar": {
             "outlinewidth": 0,
             "ticks": ""
            },
            "type": "contourcarpet"
           }
          ],
          "heatmap": [
           {
            "colorbar": {
             "outlinewidth": 0,
             "ticks": ""
            },
            "colorscale": [
             [
              0,
              "#0d0887"
             ],
             [
              0.1111111111111111,
              "#46039f"
             ],
             [
              0.2222222222222222,
              "#7201a8"
             ],
             [
              0.3333333333333333,
              "#9c179e"
             ],
             [
              0.4444444444444444,
              "#bd3786"
             ],
             [
              0.5555555555555556,
              "#d8576b"
             ],
             [
              0.6666666666666666,
              "#ed7953"
             ],
             [
              0.7777777777777778,
              "#fb9f3a"
             ],
             [
              0.8888888888888888,
              "#fdca26"
             ],
             [
              1,
              "#f0f921"
             ]
            ],
            "type": "heatmap"
           }
          ],
          "heatmapgl": [
           {
            "colorbar": {
             "outlinewidth": 0,
             "ticks": ""
            },
            "colorscale": [
             [
              0,
              "#0d0887"
             ],
             [
              0.1111111111111111,
              "#46039f"
             ],
             [
              0.2222222222222222,
              "#7201a8"
             ],
             [
              0.3333333333333333,
              "#9c179e"
             ],
             [
              0.4444444444444444,
              "#bd3786"
             ],
             [
              0.5555555555555556,
              "#d8576b"
             ],
             [
              0.6666666666666666,
              "#ed7953"
             ],
             [
              0.7777777777777778,
              "#fb9f3a"
             ],
             [
              0.8888888888888888,
              "#fdca26"
             ],
             [
              1,
              "#f0f921"
             ]
            ],
            "type": "heatmapgl"
           }
          ],
          "histogram": [
           {
            "marker": {
             "pattern": {
              "fillmode": "overlay",
              "size": 10,
              "solidity": 0.2
             }
            },
            "type": "histogram"
           }
          ],
          "histogram2d": [
           {
            "colorbar": {
             "outlinewidth": 0,
             "ticks": ""
            },
            "colorscale": [
             [
              0,
              "#0d0887"
             ],
             [
              0.1111111111111111,
              "#46039f"
             ],
             [
              0.2222222222222222,
              "#7201a8"
             ],
             [
              0.3333333333333333,
              "#9c179e"
             ],
             [
              0.4444444444444444,
              "#bd3786"
             ],
             [
              0.5555555555555556,
              "#d8576b"
             ],
             [
              0.6666666666666666,
              "#ed7953"
             ],
             [
              0.7777777777777778,
              "#fb9f3a"
             ],
             [
              0.8888888888888888,
              "#fdca26"
             ],
             [
              1,
              "#f0f921"
             ]
            ],
            "type": "histogram2d"
           }
          ],
          "histogram2dcontour": [
           {
            "colorbar": {
             "outlinewidth": 0,
             "ticks": ""
            },
            "colorscale": [
             [
              0,
              "#0d0887"
             ],
             [
              0.1111111111111111,
              "#46039f"
             ],
             [
              0.2222222222222222,
              "#7201a8"
             ],
             [
              0.3333333333333333,
              "#9c179e"
             ],
             [
              0.4444444444444444,
              "#bd3786"
             ],
             [
              0.5555555555555556,
              "#d8576b"
             ],
             [
              0.6666666666666666,
              "#ed7953"
             ],
             [
              0.7777777777777778,
              "#fb9f3a"
             ],
             [
              0.8888888888888888,
              "#fdca26"
             ],
             [
              1,
              "#f0f921"
             ]
            ],
            "type": "histogram2dcontour"
           }
          ],
          "mesh3d": [
           {
            "colorbar": {
             "outlinewidth": 0,
             "ticks": ""
            },
            "type": "mesh3d"
           }
          ],
          "parcoords": [
           {
            "line": {
             "colorbar": {
              "outlinewidth": 0,
              "ticks": ""
             }
            },
            "type": "parcoords"
           }
          ],
          "pie": [
           {
            "automargin": true,
            "type": "pie"
           }
          ],
          "scatter": [
           {
            "fillpattern": {
             "fillmode": "overlay",
             "size": 10,
             "solidity": 0.2
            },
            "type": "scatter"
           }
          ],
          "scatter3d": [
           {
            "line": {
             "colorbar": {
              "outlinewidth": 0,
              "ticks": ""
             }
            },
            "marker": {
             "colorbar": {
              "outlinewidth": 0,
              "ticks": ""
             }
            },
            "type": "scatter3d"
           }
          ],
          "scattercarpet": [
           {
            "marker": {
             "colorbar": {
              "outlinewidth": 0,
              "ticks": ""
             }
            },
            "type": "scattercarpet"
           }
          ],
          "scattergeo": [
           {
            "marker": {
             "colorbar": {
              "outlinewidth": 0,
              "ticks": ""
             }
            },
            "type": "scattergeo"
           }
          ],
          "scattergl": [
           {
            "marker": {
             "colorbar": {
              "outlinewidth": 0,
              "ticks": ""
             }
            },
            "type": "scattergl"
           }
          ],
          "scattermapbox": [
           {
            "marker": {
             "colorbar": {
              "outlinewidth": 0,
              "ticks": ""
             }
            },
            "type": "scattermapbox"
           }
          ],
          "scatterpolar": [
           {
            "marker": {
             "colorbar": {
              "outlinewidth": 0,
              "ticks": ""
             }
            },
            "type": "scatterpolar"
           }
          ],
          "scatterpolargl": [
           {
            "marker": {
             "colorbar": {
              "outlinewidth": 0,
              "ticks": ""
             }
            },
            "type": "scatterpolargl"
           }
          ],
          "scatterternary": [
           {
            "marker": {
             "colorbar": {
              "outlinewidth": 0,
              "ticks": ""
             }
            },
            "type": "scatterternary"
           }
          ],
          "surface": [
           {
            "colorbar": {
             "outlinewidth": 0,
             "ticks": ""
            },
            "colorscale": [
             [
              0,
              "#0d0887"
             ],
             [
              0.1111111111111111,
              "#46039f"
             ],
             [
              0.2222222222222222,
              "#7201a8"
             ],
             [
              0.3333333333333333,
              "#9c179e"
             ],
             [
              0.4444444444444444,
              "#bd3786"
             ],
             [
              0.5555555555555556,
              "#d8576b"
             ],
             [
              0.6666666666666666,
              "#ed7953"
             ],
             [
              0.7777777777777778,
              "#fb9f3a"
             ],
             [
              0.8888888888888888,
              "#fdca26"
             ],
             [
              1,
              "#f0f921"
             ]
            ],
            "type": "surface"
           }
          ],
          "table": [
           {
            "cells": {
             "fill": {
              "color": "#EBF0F8"
             },
             "line": {
              "color": "white"
             }
            },
            "header": {
             "fill": {
              "color": "#C8D4E3"
             },
             "line": {
              "color": "white"
             }
            },
            "type": "table"
           }
          ]
         },
         "layout": {
          "annotationdefaults": {
           "arrowcolor": "#2a3f5f",
           "arrowhead": 0,
           "arrowwidth": 1
          },
          "autotypenumbers": "strict",
          "coloraxis": {
           "colorbar": {
            "outlinewidth": 0,
            "ticks": ""
           }
          },
          "colorscale": {
           "diverging": [
            [
             0,
             "#8e0152"
            ],
            [
             0.1,
             "#c51b7d"
            ],
            [
             0.2,
             "#de77ae"
            ],
            [
             0.3,
             "#f1b6da"
            ],
            [
             0.4,
             "#fde0ef"
            ],
            [
             0.5,
             "#f7f7f7"
            ],
            [
             0.6,
             "#e6f5d0"
            ],
            [
             0.7,
             "#b8e186"
            ],
            [
             0.8,
             "#7fbc41"
            ],
            [
             0.9,
             "#4d9221"
            ],
            [
             1,
             "#276419"
            ]
           ],
           "sequential": [
            [
             0,
             "#0d0887"
            ],
            [
             0.1111111111111111,
             "#46039f"
            ],
            [
             0.2222222222222222,
             "#7201a8"
            ],
            [
             0.3333333333333333,
             "#9c179e"
            ],
            [
             0.4444444444444444,
             "#bd3786"
            ],
            [
             0.5555555555555556,
             "#d8576b"
            ],
            [
             0.6666666666666666,
             "#ed7953"
            ],
            [
             0.7777777777777778,
             "#fb9f3a"
            ],
            [
             0.8888888888888888,
             "#fdca26"
            ],
            [
             1,
             "#f0f921"
            ]
           ],
           "sequentialminus": [
            [
             0,
             "#0d0887"
            ],
            [
             0.1111111111111111,
             "#46039f"
            ],
            [
             0.2222222222222222,
             "#7201a8"
            ],
            [
             0.3333333333333333,
             "#9c179e"
            ],
            [
             0.4444444444444444,
             "#bd3786"
            ],
            [
             0.5555555555555556,
             "#d8576b"
            ],
            [
             0.6666666666666666,
             "#ed7953"
            ],
            [
             0.7777777777777778,
             "#fb9f3a"
            ],
            [
             0.8888888888888888,
             "#fdca26"
            ],
            [
             1,
             "#f0f921"
            ]
           ]
          },
          "colorway": [
           "#636efa",
           "#EF553B",
           "#00cc96",
           "#ab63fa",
           "#FFA15A",
           "#19d3f3",
           "#FF6692",
           "#B6E880",
           "#FF97FF",
           "#FECB52"
          ],
          "font": {
           "color": "#2a3f5f"
          },
          "geo": {
           "bgcolor": "white",
           "lakecolor": "white",
           "landcolor": "#E5ECF6",
           "showlakes": true,
           "showland": true,
           "subunitcolor": "white"
          },
          "hoverlabel": {
           "align": "left"
          },
          "hovermode": "closest",
          "mapbox": {
           "style": "light"
          },
          "paper_bgcolor": "white",
          "plot_bgcolor": "#E5ECF6",
          "polar": {
           "angularaxis": {
            "gridcolor": "white",
            "linecolor": "white",
            "ticks": ""
           },
           "bgcolor": "#E5ECF6",
           "radialaxis": {
            "gridcolor": "white",
            "linecolor": "white",
            "ticks": ""
           }
          },
          "scene": {
           "xaxis": {
            "backgroundcolor": "#E5ECF6",
            "gridcolor": "white",
            "gridwidth": 2,
            "linecolor": "white",
            "showbackground": true,
            "ticks": "",
            "zerolinecolor": "white"
           },
           "yaxis": {
            "backgroundcolor": "#E5ECF6",
            "gridcolor": "white",
            "gridwidth": 2,
            "linecolor": "white",
            "showbackground": true,
            "ticks": "",
            "zerolinecolor": "white"
           },
           "zaxis": {
            "backgroundcolor": "#E5ECF6",
            "gridcolor": "white",
            "gridwidth": 2,
            "linecolor": "white",
            "showbackground": true,
            "ticks": "",
            "zerolinecolor": "white"
           }
          },
          "shapedefaults": {
           "line": {
            "color": "#2a3f5f"
           }
          },
          "ternary": {
           "aaxis": {
            "gridcolor": "white",
            "linecolor": "white",
            "ticks": ""
           },
           "baxis": {
            "gridcolor": "white",
            "linecolor": "white",
            "ticks": ""
           },
           "bgcolor": "#E5ECF6",
           "caxis": {
            "gridcolor": "white",
            "linecolor": "white",
            "ticks": ""
           }
          },
          "title": {
           "x": 0.05
          },
          "xaxis": {
           "automargin": true,
           "gridcolor": "white",
           "linecolor": "white",
           "ticks": "",
           "title": {
            "standoff": 15
           },
           "zerolinecolor": "white",
           "zerolinewidth": 2
          },
          "yaxis": {
           "automargin": true,
           "gridcolor": "white",
           "linecolor": "white",
           "ticks": "",
           "title": {
            "standoff": 15
           },
           "zerolinecolor": "white",
           "zerolinewidth": 2
          }
         }
        },
        "xaxis": {
         "anchor": "y",
         "domain": [
          0,
          1
         ],
         "title": {
          "text": "POPULAÇÃO_TOTAL"
         }
        },
        "yaxis": {
         "anchor": "x",
         "domain": [
          0,
          1
         ],
         "title": {
          "text": "Emissão"
         }
        }
       }
      }
     },
     "metadata": {},
     "output_type": "display_data"
    }
   ],
   "source": [
    "px.scatter(\n",
    "    data_frame=data_grouping, x=\"POPULAÇÃO_TOTAL\", y=\"Emissão\", text=\"Estado\", size = 'data_percapita'\n",
    ")"
   ]
  }
 ],
 "metadata": {
  "kernelspec": {
   "display_name": "base",
   "language": "python",
   "name": "python3"
  },
  "language_info": {
   "codemirror_mode": {
    "name": "ipython",
    "version": 3
   },
   "file_extension": ".py",
   "mimetype": "text/x-python",
   "name": "python",
   "nbconvert_exporter": "python",
   "pygments_lexer": "ipython3",
   "version": "3.12.3"
  }
 },
 "nbformat": 4,
 "nbformat_minor": 2
}
